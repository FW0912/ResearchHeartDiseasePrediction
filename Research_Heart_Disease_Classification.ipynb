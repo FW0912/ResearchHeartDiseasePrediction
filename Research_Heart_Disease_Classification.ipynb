{
  "nbformat": 4,
  "nbformat_minor": 0,
  "metadata": {
    "colab": {
      "provenance": [],
      "authorship_tag": "ABX9TyOZLzshuLrZsJINlj8oLN5q",
      "include_colab_link": true
    },
    "kernelspec": {
      "name": "python3",
      "display_name": "Python 3"
    },
    "language_info": {
      "name": "python"
    }
  },
  "cells": [
    {
      "cell_type": "markdown",
      "metadata": {
        "id": "view-in-github",
        "colab_type": "text"
      },
      "source": [
        "<a href=\"https://colab.research.google.com/github/FW0912/ResearchHeartDiseasePrediction/blob/main/Research_Heart_Disease_Classification.ipynb\" target=\"_parent\"><img src=\"https://colab.research.google.com/assets/colab-badge.svg\" alt=\"Open In Colab\"/></a>"
      ]
    },
    {
      "cell_type": "code",
      "source": [
        "# Install library for fetching dataset\n",
        "!pip install ucimlrepo"
      ],
      "metadata": {
        "colab": {
          "base_uri": "https://localhost:8080/"
        },
        "id": "YaZuh_bpzAD2",
        "outputId": "22790124-5019-47ae-a942-3876c50b0245"
      },
      "execution_count": null,
      "outputs": [
        {
          "output_type": "stream",
          "name": "stdout",
          "text": [
            "Requirement already satisfied: ucimlrepo in /usr/local/lib/python3.10/dist-packages (0.0.6)\n"
          ]
        }
      ]
    },
    {
      "cell_type": "code",
      "execution_count": null,
      "metadata": {
        "id": "icdP0KdYQNSs"
      },
      "outputs": [],
      "source": [
        "# Import necessary libraries\n",
        "import numpy as np\n",
        "import pandas as pd\n",
        "from sklearn.model_selection import train_test_split\n",
        "from scipy.stats import boxcox\n",
        "from sklearn.preprocessing import StandardScaler\n",
        "from sklearn.linear_model import LogisticRegression\n",
        "from sklearn.neighbors import KNeighborsClassifier\n",
        "from sklearn.svm import SVC\n",
        "from sklearn.model_selection import GridSearchCV, StratifiedKFold\n",
        "from sklearn.metrics import accuracy_score, precision_score, recall_score, f1_score\n",
        "from sklearn.tree import DecisionTreeClassifier\n",
        "from sklearn.ensemble import RandomForestClassifier\n",
        "from sklearn.impute import KNNImputer\n",
        "from ucimlrepo import fetch_ucirepo"
      ]
    },
    {
      "cell_type": "code",
      "source": [
        "# Fetch Cleveland dataset from UCI (heart disease dataset)\n",
        "heart_disease = fetch_ucirepo(id=45)\n",
        "X_Cdataset = heart_disease.data.features\n",
        "Y_Cdataset = heart_disease.data.targets\n",
        "\n",
        "# Replace target (num) values 2, 3, 4 as 1 (model only predicts 0 and 1,\n",
        "# 0 : No heart disease predicted\n",
        "# 1 : Heart disease predicted\n",
        "#)\n",
        "Y_Cdataset.replace({2 : 1, 3 : 1, 4 : 1}, inplace=True)\n",
        "df_Cdataset = X_Cdataset.join(Y_Cdataset)"
      ],
      "metadata": {
        "colab": {
          "base_uri": "https://localhost:8080/"
        },
        "id": "0-bdK_4DQfxY",
        "outputId": "2e07fd9a-d862-4e0e-8a84-f1e470722405"
      },
      "execution_count": null,
      "outputs": [
        {
          "output_type": "stream",
          "name": "stderr",
          "text": [
            "<ipython-input-2-52e04efa1a93>:10: SettingWithCopyWarning: \n",
            "A value is trying to be set on a copy of a slice from a DataFrame\n",
            "\n",
            "See the caveats in the documentation: https://pandas.pydata.org/pandas-docs/stable/user_guide/indexing.html#returning-a-view-versus-a-copy\n",
            "  Y_Cdataset.replace({2 : 1, 3 : 1, 4 : 1}, inplace=True)\n"
          ]
        }
      ]
    },
    {
      "cell_type": "code",
      "source": [
        "# Check for null values\n",
        "print(df_Cdataset.isna().sum().sum())\n",
        "\n",
        "# Replace null values using KNN-Imputer\n",
        "imputer = KNNImputer()\n",
        "df_Cdataset[:] = imputer.fit_transform(df_Cdataset)"
      ],
      "metadata": {
        "colab": {
          "base_uri": "https://localhost:8080/"
        },
        "id": "DJn1UoQ1dRji",
        "outputId": "14a71537-628c-4aa4-887c-8b69487026b6"
      },
      "execution_count": null,
      "outputs": [
        {
          "output_type": "stream",
          "name": "stdout",
          "text": [
            "6\n"
          ]
        }
      ]
    },
    {
      "cell_type": "code",
      "source": [
        "# Do one-hot encoding for variables that need it\n",
        "df_Cdataset = pd.get_dummies(df_Cdataset, columns=['cp', 'restecg', 'thal'], drop_first = True)"
      ],
      "metadata": {
        "id": "EyI34vamdq6E"
      },
      "execution_count": null,
      "outputs": []
    },
    {
      "cell_type": "code",
      "source": [
        "# Split into x and y\n",
        "X_Cdataset = df_Cdataset.drop('num', axis=1)\n",
        "Y_Cdataset = df_Cdataset['num']"
      ],
      "metadata": {
        "id": "BkxXy7Cyd0x5"
      },
      "execution_count": null,
      "outputs": []
    },
    {
      "cell_type": "code",
      "source": [
        "# Split into train and test\n",
        "xTrain_Cdataset, xTest_Cdataset, yTrain_Cdataset, yTest_Cdataset = train_test_split(X_Cdataset, Y_Cdataset, test_size=0.2, random_state=0, stratify=Y_Cdataset)\n",
        "trainDf_Cdataset = xTrain_Cdataset.join(yTrain_Cdataset)\n",
        "testDf_Cdataset = xTest_Cdataset.join(yTest_Cdataset)"
      ],
      "metadata": {
        "id": "LYYih5_t04P2"
      },
      "execution_count": null,
      "outputs": []
    },
    {
      "cell_type": "code",
      "source": [
        "# Split into x and y\n",
        "xTrain_Cdataset = trainDf_Cdataset.drop('num', axis=1)\n",
        "yTrain_Cdataset = trainDf_Cdataset['num']\n",
        "xTest_Cdataset = testDf_Cdataset.drop('num', axis=1)\n",
        "yTest_Cdataset = testDf_Cdataset['num']"
      ],
      "metadata": {
        "id": "L0lBdDTxkGHP"
      },
      "execution_count": null,
      "outputs": []
    },
    {
      "cell_type": "code",
      "source": [
        "# Standardization\n",
        "scaler = StandardScaler()\n",
        "xTrain_Cdataset[:] = scaler.fit_transform(xTrain_Cdataset)\n",
        "xTest_Cdataset[:] = scaler.fit_transform(xTest_Cdataset)"
      ],
      "metadata": {
        "id": "Bbr-a3Te5o9v"
      },
      "execution_count": null,
      "outputs": []
    },
    {
      "cell_type": "code",
      "source": [
        "# Box-cox transformation\n",
        "lambdas = {}\n",
        "continuous = ['age', 'trestbps', 'chol', 'thalach', 'oldpeak']\n",
        "\n",
        "for feature in continuous:\n",
        "  if xTrain_Cdataset[feature].min() > 0:\n",
        "    xTrain_Cdataset[feature], lambdas[feature] = boxcox(xTrain_Cdataset[feature])\n",
        "    xTest_Cdataset[feature] = boxcox(xTest_Cdataset[feature], lmbda=lambdas[feature])"
      ],
      "metadata": {
        "id": "VEBST6rfWwQo"
      },
      "execution_count": null,
      "outputs": []
    },
    {
      "cell_type": "code",
      "source": [
        "# Function for parameter tuning\n",
        "def tuneParameters(model, parameters, xTrain, yTrain):\n",
        "  cv = StratifiedKFold(n_splits=3, shuffle=True, random_state=0)\n",
        "  grid = GridSearchCV(model, parameters, cv=cv, scoring='accuracy')\n",
        "  grid.fit(xTrain, yTrain)\n",
        "  return grid.best_estimator_, grid.best_params_"
      ],
      "metadata": {
        "id": "RaIbPJO3dQwE"
      },
      "execution_count": null,
      "outputs": []
    },
    {
      "cell_type": "code",
      "source": [
        "# Decision Tree\n",
        "DTmodel = DecisionTreeClassifier(random_state=0)"
      ],
      "metadata": {
        "id": "aqlRQi3Fbah8"
      },
      "execution_count": null,
      "outputs": []
    },
    {
      "cell_type": "code",
      "source": [
        "# DT parameter tuning\n",
        "DTparameters = {\n",
        "    'criterion' : ['gini', 'entropy', 'log_loss'],\n",
        "    'max_depth' : [1, 2, 3, 4, 5],\n",
        "    'min_samples_split' : [2, 3, 4, 5],\n",
        "    'min_samples_leaf' : [1, 2, 3, 4, 5],\n",
        "    'max_leaf_nodes' : [2, 3, 4, 5]\n",
        "}\n",
        "\n",
        "optimizedDT_Cdataset, optimizedDTparameters_Cdataset = tuneParameters(DTmodel, DTparameters, xTrain_Cdataset, yTrain_Cdataset)\n",
        "print(optimizedDTparameters_Cdataset)"
      ],
      "metadata": {
        "colab": {
          "base_uri": "https://localhost:8080/"
        },
        "id": "VgN8jelBbjIM",
        "outputId": "05867913-73da-455c-da17-e196427d6d82"
      },
      "execution_count": null,
      "outputs": [
        {
          "output_type": "stream",
          "name": "stdout",
          "text": [
            "{'criterion': 'gini', 'max_depth': 3, 'max_leaf_nodes': 4, 'min_samples_leaf': 1, 'min_samples_split': 2}\n"
          ]
        }
      ]
    },
    {
      "cell_type": "code",
      "source": [
        "# Get accuracy of optimized DT\n",
        "predDT_Cdataset = optimizedDT_Cdataset.predict(xTest_Cdataset)\n",
        "accDT_Cdataset = accuracy_score(np.ravel(yTest_Cdataset), np.ravel(predDT_Cdataset))\n",
        "print(accDT_Cdataset)"
      ],
      "metadata": {
        "colab": {
          "base_uri": "https://localhost:8080/"
        },
        "id": "_LIjhG9TgslN",
        "outputId": "f83f979c-23ad-478a-8818-04d23f78ef4f"
      },
      "execution_count": null,
      "outputs": [
        {
          "output_type": "stream",
          "name": "stdout",
          "text": [
            "0.7868852459016393\n"
          ]
        }
      ]
    },
    {
      "cell_type": "code",
      "source": [
        "# Get precision of optimized DT\n",
        "precDT_Cdataset = precision_score(np.ravel(yTest_Cdataset), np.ravel(predDT_Cdataset))\n",
        "print(precDT_Cdataset)"
      ],
      "metadata": {
        "colab": {
          "base_uri": "https://localhost:8080/"
        },
        "id": "iSQlh-kDVQLk",
        "outputId": "744c0b2e-fdb2-4cdd-e20c-4d2791c326e4"
      },
      "execution_count": null,
      "outputs": [
        {
          "output_type": "stream",
          "name": "stdout",
          "text": [
            "0.7586206896551724\n"
          ]
        }
      ]
    },
    {
      "cell_type": "code",
      "source": [
        "# Get recall of optimized DT\n",
        "recallDT_Cdataset = recall_score(np.ravel(yTest_Cdataset), np.ravel(predDT_Cdataset))\n",
        "print(recallDT_Cdataset)"
      ],
      "metadata": {
        "colab": {
          "base_uri": "https://localhost:8080/"
        },
        "id": "VhMvPVXaVpBf",
        "outputId": "f8a7c1c2-e54f-4eef-868b-12b9c9f7d7f9"
      },
      "execution_count": null,
      "outputs": [
        {
          "output_type": "stream",
          "name": "stdout",
          "text": [
            "0.7857142857142857\n"
          ]
        }
      ]
    },
    {
      "cell_type": "code",
      "source": [
        "# Get f1-score of optimized DT\n",
        "f1DT_Cdataset = f1_score(np.ravel(yTest_Cdataset), np.ravel(predDT_Cdataset))\n",
        "print(f1DT_Cdataset)"
      ],
      "metadata": {
        "colab": {
          "base_uri": "https://localhost:8080/"
        },
        "id": "8QQZBV2AV44L",
        "outputId": "ee7f16d5-4c18-41ec-ec64-7dd07639d253"
      },
      "execution_count": null,
      "outputs": [
        {
          "output_type": "stream",
          "name": "stdout",
          "text": [
            "0.7719298245614034\n"
          ]
        }
      ]
    },
    {
      "cell_type": "code",
      "source": [
        "# Random Forest\n",
        "RFmodel = RandomForestClassifier(random_state=0)"
      ],
      "metadata": {
        "id": "NM8_SsRSmUjH"
      },
      "execution_count": null,
      "outputs": []
    },
    {
      "cell_type": "code",
      "source": [
        "# RF parameter tuning\n",
        "RFparameters = {\n",
        "    'n_estimators': [10, 30, 50, 70, 100],\n",
        "    'criterion': ['gini', 'entropy'],\n",
        "    'max_depth': [2, 3, 4],\n",
        "    'min_samples_split': [2, 3, 4, 5],\n",
        "    'min_samples_leaf': [1, 2, 3, 4, 5],\n",
        "    'bootstrap': [True, False]\n",
        "}\n",
        "\n",
        "optimizedRF_Cdataset, optimizedRFparameters_Cdataset = tuneParameters(RFmodel, RFparameters, xTrain_Cdataset, yTrain_Cdataset)\n",
        "print(optimizedRFparameters_Cdataset)"
      ],
      "metadata": {
        "colab": {
          "base_uri": "https://localhost:8080/"
        },
        "id": "X4yl1ygfmg9R",
        "outputId": "7dbbaa0a-f772-41d4-ff8e-117f8da8faed"
      },
      "execution_count": null,
      "outputs": [
        {
          "output_type": "stream",
          "name": "stdout",
          "text": [
            "{'bootstrap': True, 'criterion': 'gini', 'max_depth': 2, 'min_samples_leaf': 2, 'min_samples_split': 2, 'n_estimators': 30}\n"
          ]
        }
      ]
    },
    {
      "cell_type": "code",
      "source": [
        "# Get accuracy of optimized RF\n",
        "predRF_Cdataset = optimizedRF_Cdataset.predict(xTest_Cdataset)\n",
        "accRF_Cdataset = accuracy_score(np.ravel(yTest_Cdataset), np.ravel(predRF_Cdataset))\n",
        "print(accRF_Cdataset)"
      ],
      "metadata": {
        "colab": {
          "base_uri": "https://localhost:8080/"
        },
        "id": "Cw0OV0FYmwfg",
        "outputId": "6bd3326f-3cb1-4dfe-9505-79e566fdbd6d"
      },
      "execution_count": null,
      "outputs": [
        {
          "output_type": "stream",
          "name": "stdout",
          "text": [
            "0.8852459016393442\n"
          ]
        }
      ]
    },
    {
      "cell_type": "code",
      "source": [
        "# Get precision of optimized RF\n",
        "precRF_Cdataset = precision_score(np.ravel(yTest_Cdataset), np.ravel(predRF_Cdataset))\n",
        "print(precRF_Cdataset)"
      ],
      "metadata": {
        "colab": {
          "base_uri": "https://localhost:8080/"
        },
        "id": "VO_5R9yaWUwX",
        "outputId": "f5a33c16-2ef7-4ce5-99f5-ae0f99b4aeee"
      },
      "execution_count": null,
      "outputs": [
        {
          "output_type": "stream",
          "name": "stdout",
          "text": [
            "0.8888888888888888\n"
          ]
        }
      ]
    },
    {
      "cell_type": "code",
      "source": [
        "# Get recall of optimized RF\n",
        "recallRF_Cdataset = recall_score(np.ravel(yTest_Cdataset), np.ravel(predRF_Cdataset))\n",
        "print(recallRF_Cdataset)"
      ],
      "metadata": {
        "colab": {
          "base_uri": "https://localhost:8080/"
        },
        "id": "xWqEOB4wWOe3",
        "outputId": "b4f721bb-6bf2-4f4b-ee05-85f5760f2879"
      },
      "execution_count": null,
      "outputs": [
        {
          "output_type": "stream",
          "name": "stdout",
          "text": [
            "0.8571428571428571\n"
          ]
        }
      ]
    },
    {
      "cell_type": "code",
      "source": [
        "# Get f1-score of optimized RF\n",
        "f1RF_Cdataset = f1_score(np.ravel(yTest_Cdataset), np.ravel(predRF_Cdataset))\n",
        "print(f1RF_Cdataset)"
      ],
      "metadata": {
        "colab": {
          "base_uri": "https://localhost:8080/"
        },
        "id": "kXmQ8_2EWYGV",
        "outputId": "63396c31-57be-48cb-bd0d-9b73c1426f09"
      },
      "execution_count": null,
      "outputs": [
        {
          "output_type": "stream",
          "name": "stdout",
          "text": [
            "0.8727272727272727\n"
          ]
        }
      ]
    },
    {
      "cell_type": "code",
      "source": [
        "# Support Vector Machine\n",
        "SVMmodel = SVC(random_state=0)"
      ],
      "metadata": {
        "id": "xFkZLbvpK2vp"
      },
      "execution_count": null,
      "outputs": []
    },
    {
      "cell_type": "code",
      "source": [
        "# SVM hyperparameter tuning\n",
        "SVMparameters = {\n",
        "    'kernel': ['linear', 'poly', 'rbf', 'sigmoid'],\n",
        "    'C': [0.1, 1, 10, 100, 1000],\n",
        "    'gamma': [1, 0.1, 0.01, 0.001]\n",
        "}\n",
        "\n",
        "optimizedSVM_Cdataset, optimizedSVMparameters_Cdataset = tuneParameters(SVMmodel, SVMparameters, xTrain_Cdataset, yTrain_Cdataset)\n",
        "print(optimizedSVMparameters_Cdataset)"
      ],
      "metadata": {
        "id": "4MB22v9lLPpz",
        "colab": {
          "base_uri": "https://localhost:8080/"
        },
        "outputId": "53f702c9-2239-4a8c-c858-f031df595696"
      },
      "execution_count": null,
      "outputs": [
        {
          "output_type": "stream",
          "name": "stdout",
          "text": [
            "{'C': 1, 'gamma': 1, 'kernel': 'linear'}\n"
          ]
        }
      ]
    },
    {
      "cell_type": "code",
      "source": [
        "# Get accuracy of optimized SVM\n",
        "predSVM_Cdataset = optimizedSVM_Cdataset.predict(xTest_Cdataset)\n",
        "accSVM_Cdataset = accuracy_score(np.ravel(yTest_Cdataset), np.ravel(predSVM_Cdataset))\n",
        "print(accSVM_Cdataset)"
      ],
      "metadata": {
        "id": "u1mXlIbEMwVV",
        "colab": {
          "base_uri": "https://localhost:8080/"
        },
        "outputId": "f5b16b83-4ff5-4615-90fe-503d925dea5a"
      },
      "execution_count": null,
      "outputs": [
        {
          "output_type": "stream",
          "name": "stdout",
          "text": [
            "0.8688524590163934\n"
          ]
        }
      ]
    },
    {
      "cell_type": "code",
      "source": [
        "# Get precision of optimized SVM\n",
        "precSVM_Cdataset = precision_score(np.ravel(yTest_Cdataset), np.ravel(predSVM_Cdataset))\n",
        "print(precSVM_Cdataset)"
      ],
      "metadata": {
        "id": "ivEUIkZbNuWx",
        "colab": {
          "base_uri": "https://localhost:8080/"
        },
        "outputId": "aefa3b3e-d2e2-4f34-9e5c-a2792b59d008"
      },
      "execution_count": null,
      "outputs": [
        {
          "output_type": "stream",
          "name": "stdout",
          "text": [
            "0.8571428571428571\n"
          ]
        }
      ]
    },
    {
      "cell_type": "code",
      "source": [
        "# Get recall of optimized SVM\n",
        "recallSVM_Cdataset = recall_score(np.ravel(yTest_Cdataset), np.ravel(predSVM_Cdataset))\n",
        "print(recallSVM_Cdataset)"
      ],
      "metadata": {
        "id": "bPfVv1MCN05I",
        "colab": {
          "base_uri": "https://localhost:8080/"
        },
        "outputId": "cc2b9858-b235-40f6-bdf0-c78c6e9eadcc"
      },
      "execution_count": null,
      "outputs": [
        {
          "output_type": "stream",
          "name": "stdout",
          "text": [
            "0.8571428571428571\n"
          ]
        }
      ]
    },
    {
      "cell_type": "code",
      "source": [
        "# Get f1-score of optimized SVM\n",
        "f1SVM_Cdataset = f1_score(np.ravel(yTest_Cdataset), np.ravel(predSVM_Cdataset))\n",
        "print(f1SVM_Cdataset)"
      ],
      "metadata": {
        "id": "1T5RQDNsN6W7",
        "colab": {
          "base_uri": "https://localhost:8080/"
        },
        "outputId": "4b8bb55c-26cc-438b-b8ea-de641d408256"
      },
      "execution_count": null,
      "outputs": [
        {
          "output_type": "stream",
          "name": "stdout",
          "text": [
            "0.8571428571428571\n"
          ]
        }
      ]
    },
    {
      "cell_type": "code",
      "source": [
        "# K-Nearest Neighbor\n",
        "KNNmodel = KNeighborsClassifier()"
      ],
      "metadata": {
        "id": "3wnS531Ud-ay"
      },
      "execution_count": null,
      "outputs": []
    },
    {
      "cell_type": "code",
      "source": [
        "# KNN hyperparameter tuning\n",
        "KNNparameters = {\n",
        "    'n_neighbors': np.arange(2, 30, 1),\n",
        "    'weights': ['uniform', 'distance'],\n",
        "    'leaf_size': [10, 30, 50, 70, 100]\n",
        "}\n",
        "\n",
        "optimizedKNN_Cdataset, optimizedKNNparameters_Cdataset = tuneParameters(KNNmodel, KNNparameters, xTrain_Cdataset, yTrain_Cdataset)\n",
        "print(optimizedKNNparameters_Cdataset)"
      ],
      "metadata": {
        "colab": {
          "base_uri": "https://localhost:8080/"
        },
        "id": "S60GaJizeHL2",
        "outputId": "88313e3b-6239-4b66-dba7-435fffe96f8f"
      },
      "execution_count": null,
      "outputs": [
        {
          "output_type": "stream",
          "name": "stdout",
          "text": [
            "{'leaf_size': 10, 'n_neighbors': 15, 'weights': 'distance'}\n"
          ]
        }
      ]
    },
    {
      "cell_type": "code",
      "source": [
        "# Get accuracy of optimized KNN\n",
        "predKNN_Cdataset = optimizedKNN_Cdataset.predict(xTest_Cdataset)\n",
        "accKNN_Cdataset = accuracy_score(np.ravel(yTest_Cdataset), np.ravel(predKNN_Cdataset))\n",
        "print(accKNN_Cdataset)"
      ],
      "metadata": {
        "colab": {
          "base_uri": "https://localhost:8080/"
        },
        "id": "0-eSw9OyfHQ4",
        "outputId": "de1dc1c4-3b51-415d-a8e7-02a26c20922b"
      },
      "execution_count": null,
      "outputs": [
        {
          "output_type": "stream",
          "name": "stdout",
          "text": [
            "0.8360655737704918\n"
          ]
        }
      ]
    },
    {
      "cell_type": "code",
      "source": [
        "# Get precision of optimized KNN\n",
        "precKNN_Cdataset = precision_score(np.ravel(yTest_Cdataset), np.ravel(predKNN_Cdataset))\n",
        "print(precKNN_Cdataset)"
      ],
      "metadata": {
        "colab": {
          "base_uri": "https://localhost:8080/"
        },
        "id": "ur7RwL5dfNap",
        "outputId": "2fa4bc5b-cfb3-4025-d680-7421968cbdea"
      },
      "execution_count": null,
      "outputs": [
        {
          "output_type": "stream",
          "name": "stdout",
          "text": [
            "0.8\n"
          ]
        }
      ]
    },
    {
      "cell_type": "code",
      "source": [
        "# Get recall of optimized KNN\n",
        "recallKNN_Cdataset = recall_score(np.ravel(yTest_Cdataset), np.ravel(predKNN_Cdataset))\n",
        "print(recallKNN_Cdataset)"
      ],
      "metadata": {
        "colab": {
          "base_uri": "https://localhost:8080/"
        },
        "id": "DpEnGfZnfYEe",
        "outputId": "894edd25-b3e2-447f-b6e5-3f20fbf64e2e"
      },
      "execution_count": null,
      "outputs": [
        {
          "output_type": "stream",
          "name": "stdout",
          "text": [
            "0.8571428571428571\n"
          ]
        }
      ]
    },
    {
      "cell_type": "code",
      "source": [
        "# Get f1-score of optimized KNN\n",
        "f1KNN_Cdataset = f1_score(np.ravel(yTest_Cdataset), np.ravel(predKNN_Cdataset))\n",
        "print(f1KNN_Cdataset)"
      ],
      "metadata": {
        "colab": {
          "base_uri": "https://localhost:8080/"
        },
        "id": "q6Bjg39Tfare",
        "outputId": "095d4036-4f0d-4bf3-8fb6-fbb08428a869"
      },
      "execution_count": null,
      "outputs": [
        {
          "output_type": "stream",
          "name": "stdout",
          "text": [
            "0.8275862068965518\n"
          ]
        }
      ]
    },
    {
      "cell_type": "code",
      "source": [
        "# Logistic Regression\n",
        "LRmodel = LogisticRegression(random_state=0)"
      ],
      "metadata": {
        "id": "ZMS5WI0COB2p"
      },
      "execution_count": null,
      "outputs": []
    },
    {
      "cell_type": "code",
      "source": [
        "xTrain_Cdataset.isna().sum().sum()"
      ],
      "metadata": {
        "colab": {
          "base_uri": "https://localhost:8080/"
        },
        "id": "MWl9MVstg07T",
        "outputId": "08952b07-b2bd-45ed-9a1e-a53a8bc3fe4f"
      },
      "execution_count": null,
      "outputs": [
        {
          "output_type": "execute_result",
          "data": {
            "text/plain": [
              "0"
            ]
          },
          "metadata": {},
          "execution_count": 34
        }
      ]
    },
    {
      "cell_type": "code",
      "source": [
        "yTrain_Cdataset.isna().sum().sum()"
      ],
      "metadata": {
        "colab": {
          "base_uri": "https://localhost:8080/"
        },
        "id": "7bhkznlug6LW",
        "outputId": "439eb967-f9fe-4b19-a672-fe0304bcc819"
      },
      "execution_count": null,
      "outputs": [
        {
          "output_type": "execute_result",
          "data": {
            "text/plain": [
              "0"
            ]
          },
          "metadata": {},
          "execution_count": 35
        }
      ]
    },
    {
      "cell_type": "code",
      "source": [
        "# LR hyperparameter tuning\n",
        "LRparameters = {\n",
        "    'C': [0.1, 1, 10, 100, 1000],\n",
        "    'solver': ['lbfgs', 'liblinear', 'newton-cg', 'newton-cholesky'],\n",
        "}\n",
        "\n",
        "optimizedLR_Cdataset, optimizedLRparameters_Cdataset = tuneParameters(LRmodel, LRparameters, xTrain_Cdataset, yTrain_Cdataset)\n",
        "print(optimizedLRparameters_Cdataset)"
      ],
      "metadata": {
        "id": "-piHofICOHLL",
        "colab": {
          "base_uri": "https://localhost:8080/"
        },
        "outputId": "53e8a3f7-af49-495c-daf0-91a39f5fb694"
      },
      "execution_count": null,
      "outputs": [
        {
          "output_type": "stream",
          "name": "stdout",
          "text": [
            "{'C': 0.1, 'solver': 'lbfgs'}\n"
          ]
        }
      ]
    },
    {
      "cell_type": "code",
      "source": [
        "# Get accuracy of optimized LR\n",
        "predLR_Cdataset = optimizedLR_Cdataset.predict(xTest_Cdataset)\n",
        "accLR_Cdataset = accuracy_score(np.ravel(yTest_Cdataset), np.ravel(predLR_Cdataset))\n",
        "print(accLR_Cdataset)"
      ],
      "metadata": {
        "id": "tp_piwJdP5V6",
        "colab": {
          "base_uri": "https://localhost:8080/"
        },
        "outputId": "ec7fe660-a572-49f6-a053-bf7bcc5c1064"
      },
      "execution_count": null,
      "outputs": [
        {
          "output_type": "stream",
          "name": "stdout",
          "text": [
            "0.819672131147541\n"
          ]
        }
      ]
    },
    {
      "cell_type": "code",
      "source": [
        "# Get precision of optimized LR\n",
        "precLR_Cdataset = precision_score(np.ravel(yTest_Cdataset), np.ravel(predLR_Cdataset))\n",
        "print(precLR_Cdataset)"
      ],
      "metadata": {
        "id": "twETW_a5P_J1",
        "colab": {
          "base_uri": "https://localhost:8080/"
        },
        "outputId": "e3c19d91-60b9-45d9-f553-72e86a7b6a66"
      },
      "execution_count": null,
      "outputs": [
        {
          "output_type": "stream",
          "name": "stdout",
          "text": [
            "0.8148148148148148\n"
          ]
        }
      ]
    },
    {
      "cell_type": "code",
      "source": [
        "# Get recall of optimized LR\n",
        "recallLR_Cdataset = recall_score(np.ravel(yTest_Cdataset), np.ravel(predLR_Cdataset))\n",
        "print(recallLR_Cdataset)"
      ],
      "metadata": {
        "id": "j35f1vDzQECo",
        "colab": {
          "base_uri": "https://localhost:8080/"
        },
        "outputId": "edcc2346-97d6-483f-b628-f3fe3e839778"
      },
      "execution_count": null,
      "outputs": [
        {
          "output_type": "stream",
          "name": "stdout",
          "text": [
            "0.7857142857142857\n"
          ]
        }
      ]
    },
    {
      "cell_type": "code",
      "source": [
        "# Get f1-score of optimized LR\n",
        "f1LR_Cdataset = f1_score(np.ravel(yTest_Cdataset), np.ravel(predLR_Cdataset))\n",
        "print(f1LR_Cdataset)"
      ],
      "metadata": {
        "id": "jGN1OkDDQRao",
        "colab": {
          "base_uri": "https://localhost:8080/"
        },
        "outputId": "c83f6279-e56c-4b44-da47-1239fa6eafc5"
      },
      "execution_count": null,
      "outputs": [
        {
          "output_type": "stream",
          "name": "stdout",
          "text": [
            "0.7999999999999999\n"
          ]
        }
      ]
    },
    {
      "cell_type": "code",
      "source": [
        "# Fetch Statlog dataset fron UCI\n",
        "statlog_heart = fetch_ucirepo(id=145)\n",
        "X_Sdataset = statlog_heart.data.features\n",
        "Y_Sdataset = statlog_heart.data.targets\n",
        "\n",
        "df_Sdataset = X_Sdataset.join(Y_Sdataset)"
      ],
      "metadata": {
        "id": "jegy2gctfD87"
      },
      "execution_count": null,
      "outputs": []
    },
    {
      "cell_type": "code",
      "source": [
        "# Check for null values\n",
        "print(df_Sdataset.isna().sum().sum())"
      ],
      "metadata": {
        "id": "c7sgvPTAQYJb",
        "colab": {
          "base_uri": "https://localhost:8080/"
        },
        "outputId": "bed3d3f4-f11f-4627-8b38-a27a8b1f737b"
      },
      "execution_count": null,
      "outputs": [
        {
          "output_type": "stream",
          "name": "stdout",
          "text": [
            "0\n"
          ]
        }
      ]
    },
    {
      "cell_type": "code",
      "source": [
        "# Do one-hot encoding for variables that need it\n",
        "df_Sdataset = pd.get_dummies(df_Sdataset, columns=['chest-pain', 'electrocardiographic', 'thal'], drop_first = True)"
      ],
      "metadata": {
        "id": "9YNyLxYZQmag"
      },
      "execution_count": null,
      "outputs": []
    },
    {
      "cell_type": "code",
      "source": [
        "# Split into x and y\n",
        "X_Sdataset = df_Sdataset.drop('heart-disease', axis=1)\n",
        "Y_Sdataset = df_Sdataset['heart-disease']"
      ],
      "metadata": {
        "id": "5njsKlUdQ8Az"
      },
      "execution_count": null,
      "outputs": []
    },
    {
      "cell_type": "code",
      "source": [
        "# Split into train and test\n",
        "xTrain_Sdataset, xTest_Sdataset, yTrain_Sdataset, yTest_Sdataset = train_test_split(X_Sdataset, Y_Sdataset, test_size=0.2, random_state=0, stratify=Y_Sdataset)\n",
        "trainDf_Sdataset = xTrain_Sdataset.join(yTrain_Sdataset)\n",
        "testDf_Sdataset = xTest_Sdataset.join(yTest_Sdataset)"
      ],
      "metadata": {
        "id": "Ie3zvpZDREji"
      },
      "execution_count": null,
      "outputs": []
    },
    {
      "cell_type": "code",
      "source": [
        "# Split into x and y\n",
        "xTrain_Sdataset = trainDf_Sdataset.drop('heart-disease', axis=1)\n",
        "yTrain_Sdataset = trainDf_Sdataset['heart-disease']\n",
        "xTest_Sdataset = testDf_Sdataset.drop('heart-disease', axis=1)\n",
        "yTest_Sdataset = testDf_Sdataset['heart-disease']"
      ],
      "metadata": {
        "id": "SPjqhC28RV-7"
      },
      "execution_count": null,
      "outputs": []
    },
    {
      "cell_type": "code",
      "source": [
        "# Standardization\n",
        "xTrain_Sdataset[:] = scaler.fit_transform(xTrain_Sdataset)\n",
        "xTest_Sdataset[:] = scaler.fit_transform(xTest_Sdataset)"
      ],
      "metadata": {
        "id": "1w-iiuG8RbLD"
      },
      "execution_count": null,
      "outputs": []
    },
    {
      "cell_type": "code",
      "source": [
        "# Box-cox transformation\n",
        "lambdas = {}\n",
        "continuous = ['age', 'rest-bp', 'serum-chol', 'max-heart-rate', 'oldpeak']\n",
        "\n",
        "for feature in continuous:\n",
        "  if xTrain_Sdataset[feature].min() > 0:\n",
        "    xTrain_Sdataset[feature], lambdas[feature] = boxcox(xTrain_Sdataset[feature])\n",
        "    xTest_Sdataset[feature] = boxcox(xTest_Sdataset[feature], lmbda=lambdas[feature])"
      ],
      "metadata": {
        "id": "INaxGiMlRgHA"
      },
      "execution_count": null,
      "outputs": []
    },
    {
      "cell_type": "code",
      "source": [
        "# DT parameter tuning\n",
        "optimizedDT_Sdataset, optimizedDTparameters_Sdataset = tuneParameters(DTmodel, DTparameters, xTrain_Sdataset, yTrain_Sdataset)\n",
        "print(optimizedDTparameters_Sdataset)"
      ],
      "metadata": {
        "id": "XTsr1UtiR5xV",
        "colab": {
          "base_uri": "https://localhost:8080/"
        },
        "outputId": "265048a2-f30f-42c4-8cfb-32a373933748"
      },
      "execution_count": null,
      "outputs": [
        {
          "output_type": "stream",
          "name": "stdout",
          "text": [
            "{'criterion': 'gini', 'max_depth': 4, 'max_leaf_nodes': 5, 'min_samples_leaf': 1, 'min_samples_split': 2}\n"
          ]
        }
      ]
    },
    {
      "cell_type": "code",
      "source": [
        "# Get accuracy of optimized DT\n",
        "predDT_Sdataset = optimizedDT_Sdataset.predict(xTest_Sdataset)\n",
        "accDT_Sdataset = accuracy_score(np.ravel(yTest_Sdataset), np.ravel(predDT_Sdataset))\n",
        "print(accDT_Sdataset)"
      ],
      "metadata": {
        "id": "LevnjUVdSDkC"
      },
      "execution_count": null,
      "outputs": []
    },
    {
      "cell_type": "code",
      "source": [
        "# Get precision of optimized DT\n",
        "precDT_Sdataset = precision_score(np.ravel(yTest_Sdataset), np.ravel(predDT_Sdataset))\n",
        "print(precDT_Sdataset)"
      ],
      "metadata": {
        "id": "oribApNDSSPE"
      },
      "execution_count": null,
      "outputs": []
    },
    {
      "cell_type": "code",
      "source": [
        "# Get recall of optimized DT\n",
        "recallDT_Sdataset = recall_score(np.ravel(yTest_Sdataset), np.ravel(predDT_Sdataset))\n",
        "print(recallDT_Sdataset)"
      ],
      "metadata": {
        "id": "vY8tuuzMTTfa"
      },
      "execution_count": null,
      "outputs": []
    },
    {
      "cell_type": "code",
      "source": [
        "# Get f1-score of optimized DT\n",
        "f1DT_Sdataset = f1_score(np.ravel(yTest_Sdataset), np.ravel(predDT_Sdataset))\n",
        "print(f1DT_Sdataset)"
      ],
      "metadata": {
        "id": "cMJKbnohTYZC"
      },
      "execution_count": null,
      "outputs": []
    },
    {
      "cell_type": "code",
      "source": [
        "# RF parameter tuning\n",
        "optimizedRF_Sdataset, optimizedRFparameters_Sdataset = tuneParameters(RFmodel, RFparameters, xTrain_Sdataset, yTrain_Sdataset)\n",
        "print(optimizedRFparameters_Sdataset)"
      ],
      "metadata": {
        "id": "5gKKUjdxTblq"
      },
      "execution_count": null,
      "outputs": []
    },
    {
      "cell_type": "code",
      "source": [
        "# Get accuracy of optimized RF\n",
        "predRF_Sdataset = optimizedRF_Sdataset.predict(xTest_Sdataset)\n",
        "accRF_Sdataset = accuracy_score(np.ravel(yTest_Sdataset), np.ravel(predRF_Sdataset))\n",
        "print(accRF_Sdataset)"
      ],
      "metadata": {
        "id": "i96Q-ynjTghG"
      },
      "execution_count": null,
      "outputs": []
    },
    {
      "cell_type": "code",
      "source": [
        "# Get precision of optimized RF\n",
        "precRF_Sdataset = precision_score(np.ravel(yTest_Sdataset), np.ravel(predRF_Sdataset))\n",
        "print(precRF_Sdataset)"
      ],
      "metadata": {
        "id": "JMo2uO_VTmTN"
      },
      "execution_count": null,
      "outputs": []
    },
    {
      "cell_type": "code",
      "source": [
        "# Get recall of optimized RF\n",
        "recallRF_Sdataset = recall_score(np.ravel(yTest_Sdataset), np.ravel(predRF_Sdataset))\n",
        "print(recallRF_Sdataset)"
      ],
      "metadata": {
        "id": "N1HvFihbZHkx"
      },
      "execution_count": null,
      "outputs": []
    },
    {
      "cell_type": "code",
      "source": [
        "# Get f1-score of optimized RF\n",
        "f1RF_Sdataset = f1_score(np.ravel(yTest_Sdataset), np.ravel(predRF_Sdataset))\n",
        "print(f1RF_Sdataset)"
      ],
      "metadata": {
        "id": "k0bknZZeZLH1"
      },
      "execution_count": null,
      "outputs": []
    },
    {
      "cell_type": "code",
      "source": [
        "# SVM parameter tuning\n",
        "optimizedSVM_Sdataset, optimizedSVMparameters_Sdataset = tuneParameters(SVMmodel, SVMparameters, xTrain_Sdataset, yTrain_Sdataset)\n",
        "print(optimizedSVMparameters_Sdataset)"
      ],
      "metadata": {
        "id": "ZH1n0r-WZPOn"
      },
      "execution_count": null,
      "outputs": []
    },
    {
      "cell_type": "code",
      "source": [
        "# Get accuracy of optimized SVM\n",
        "predSVM_Sdataset = optimizedSVM_Sdataset.predict(xTest_Sdataset)\n",
        "accSVM_Sdataset = accuracy_score(np.ravel(yTest_Sdataset), np.ravel(predSVM_Sdataset))\n",
        "print(accSVM_Sdataset)"
      ],
      "metadata": {
        "id": "kod75yEGZcza"
      },
      "execution_count": null,
      "outputs": []
    },
    {
      "cell_type": "code",
      "source": [
        "# Get precision of optimized SVM\n",
        "precSVM_Sdataset = precision_score(np.ravel(yTest_Sdataset), np.ravel(predSVM_Sdataset))\n",
        "print(precSVM_Sdataset)"
      ],
      "metadata": {
        "id": "LW0xhi1IZh0F"
      },
      "execution_count": null,
      "outputs": []
    },
    {
      "cell_type": "code",
      "source": [
        "# Get recall of optimized SVM\n",
        "recallSVM_Sdataset = recall_score(np.ravel(yTest_Sdataset), np.ravel(predSVM_Sdataset))\n",
        "print(recallSVM_Sdataset)"
      ],
      "metadata": {
        "id": "WGfLRw71ZlzM"
      },
      "execution_count": null,
      "outputs": []
    },
    {
      "cell_type": "code",
      "source": [
        "# Get f1-score of optimized SVM\n",
        "f1SVM_Sdataset = f1_score(np.ravel(yTest_Sdataset), np.ravel(predSVM_Sdataset))\n",
        "print(f1SVM_Sdataset)"
      ],
      "metadata": {
        "id": "552jdKxEZpMP"
      },
      "execution_count": null,
      "outputs": []
    },
    {
      "cell_type": "code",
      "source": [
        "# KNN hyperparameter tuning\n",
        "optimizedKNN_Sdataset, optimizedKNNparameters_Sdataset = tuneParameters(KNNmodel, KNNparameters, xTrain_Sdataset, yTrain_Sdataset)\n",
        "print(optimizedKNNparameters_Sdataset)"
      ],
      "metadata": {
        "id": "JLqr7kWQhpuu"
      },
      "execution_count": null,
      "outputs": []
    },
    {
      "cell_type": "code",
      "source": [
        "# Get accuracy of optimized KNN\n",
        "predKNN_Sdataset = optimizedKNN_Sdataset.predict(xTest_Sdataset)\n",
        "accKNN_Sdataset = accuracy_score(np.ravel(yTest_Sdataset), np.ravel(predKNN_Sdataset))\n",
        "print(accKNN_Sdataset)"
      ],
      "metadata": {
        "id": "9RXHw3Eyhns7"
      },
      "execution_count": null,
      "outputs": []
    },
    {
      "cell_type": "code",
      "source": [
        "# Get precision of optimized KNN\n",
        "precKNN_Sdataset = precision_score(np.ravel(yTest_Sdataset), np.ravel(predKNN_Sdataset))\n",
        "print(precKNN_Sdataset)"
      ],
      "metadata": {
        "id": "P3IedLebh0OX"
      },
      "execution_count": null,
      "outputs": []
    },
    {
      "cell_type": "code",
      "source": [
        "# Get recall of optimized KNN\n",
        "recallKNN_Sdataset = recall_score(np.ravel(yTest_Sdataset), np.ravel(predKNN_Sdataset))\n",
        "print(recallKNN_Sdataset)"
      ],
      "metadata": {
        "id": "BBac0Vy2h4jg"
      },
      "execution_count": null,
      "outputs": []
    },
    {
      "cell_type": "code",
      "source": [
        "# Get f1-score of optimized KNN\n",
        "f1KNN_Sdataset = f1_score(np.ravel(yTest_Sdataset), np.ravel(predKNN_Sdataset))\n",
        "print(f1KNN_Sdataset)"
      ],
      "metadata": {
        "id": "Ad9kLGqoh8Ew"
      },
      "execution_count": null,
      "outputs": []
    },
    {
      "cell_type": "code",
      "source": [
        "# LR parameter tuning\n",
        "optimizedLR_Sdataset, optimizedLRparameters_Sdataset = tuneParameters(LRmodel, LRparameters, xTrain_Sdataset, yTrain_Sdataset)\n",
        "print(optimizedLRparameters_Sdataset)"
      ],
      "metadata": {
        "id": "1TfFcfgUZsnv"
      },
      "execution_count": null,
      "outputs": []
    },
    {
      "cell_type": "code",
      "source": [
        "# Get accuracy of optimized LR\n",
        "predLR_Sdataset = optimizedLR_Sdataset.predict(xTest_Sdataset)\n",
        "accLR_Sdataset = accuracy_score(np.ravel(yTest_Sdataset), np.ravel(predLR_Sdataset))\n",
        "print(accLR_Sdataset)"
      ],
      "metadata": {
        "id": "KsGT2Ut7ZxaO"
      },
      "execution_count": null,
      "outputs": []
    },
    {
      "cell_type": "code",
      "source": [
        "# Get precision of optimized LR\n",
        "precLR_Sdataset = precision_score(np.ravel(yTest_Sdataset), np.ravel(predLR_Sdataset))\n",
        "print(precLR_Sdataset)"
      ],
      "metadata": {
        "id": "5XnBNz93aGhh"
      },
      "execution_count": null,
      "outputs": []
    },
    {
      "cell_type": "code",
      "source": [
        "# Get recall of optimized LR\n",
        "recallLR_Sdataset = recall_score(np.ravel(yTest_Sdataset), np.ravel(predLR_Sdataset))\n",
        "print(recallLR_Sdataset)"
      ],
      "metadata": {
        "id": "NI9vsRRsaKYe"
      },
      "execution_count": null,
      "outputs": []
    },
    {
      "cell_type": "code",
      "source": [
        "# Get f1-score of optimized LR\n",
        "f1LR_Sdataset = f1_score(np.ravel(yTest_Sdataset), np.ravel(predLR_Sdataset))\n",
        "print(f1LR_Sdataset)"
      ],
      "metadata": {
        "id": "Xu14fVNDaOsn"
      },
      "execution_count": null,
      "outputs": []
    }
  ]
}