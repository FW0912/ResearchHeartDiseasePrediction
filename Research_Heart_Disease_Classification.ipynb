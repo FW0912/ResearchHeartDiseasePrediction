{
  "cells": [
    {
      "cell_type": "markdown",
      "metadata": {
        "id": "view-in-github",
        "colab_type": "text"
      },
      "source": [
        "<a href=\"https://colab.research.google.com/github/FW0912/ResearchHeartDiseasePrediction/blob/main/Research_Heart_Disease_Classification.ipynb\" target=\"_parent\"><img src=\"https://colab.research.google.com/assets/colab-badge.svg\" alt=\"Open In Colab\"/></a>"
      ]
    },
    {
      "cell_type": "markdown",
      "metadata": {
        "id": "PajvvjLSi-Lo"
      },
      "source": [
        "Coding of Models used in Research Paper 'Cardiovascular Disease Prediction Dataset Machine Learning Analysis'.\n",
        "\n",
        "\n",
        "---\n",
        "\n",
        "\n",
        "\n",
        "Libraries used:\n",
        "- numpy\n",
        "- pandas\n",
        "- ucimlrepo\n",
        "- sklearn\n",
        "- imblearn\n",
        "\n",
        "Datasets used:\n",
        "- UCIML Repo Heart Disease Dataset (Cleveland)\n",
        "- UCIML Repo Statlog Heart Disease Dataset\n",
        "- Framingham Heart Disease Dataset\n",
        "\n",
        "Models used:\n",
        "- Decision Tree (DT)\n",
        "- Random Forest (RF)\n",
        "- Support Vector Machine (SVM)\n",
        "- K-Nearest Neighbor (KNN)\n",
        "- Logistic Regression (LR)\n",
        "\n",
        "\n",
        "\n",
        "---\n",
        "\n"
      ]
    },
    {
      "cell_type": "code",
      "execution_count": 1,
      "metadata": {
        "colab": {
          "base_uri": "https://localhost:8080/"
        },
        "id": "YaZuh_bpzAD2",
        "outputId": "24c17eff-6123-46aa-c367-701846677141"
      },
      "outputs": [
        {
          "output_type": "stream",
          "name": "stdout",
          "text": [
            "Collecting ucimlrepo\n",
            "  Downloading ucimlrepo-0.0.6-py3-none-any.whl (8.0 kB)\n",
            "Installing collected packages: ucimlrepo\n",
            "Successfully installed ucimlrepo-0.0.6\n"
          ]
        }
      ],
      "source": [
        "# Install library for fetching dataset\n",
        "!pip install ucimlrepo"
      ]
    },
    {
      "cell_type": "code",
      "execution_count": 319,
      "metadata": {
        "id": "icdP0KdYQNSs"
      },
      "outputs": [],
      "source": [
        "# Import necessary libraries\n",
        "import numpy as np\n",
        "import pandas as pd\n",
        "import matplotlib.pyplot as plt\n",
        "from google.colab import drive\n",
        "from sklearn.preprocessing import StandardScaler\n",
        "from sklearn.linear_model import LogisticRegression\n",
        "from sklearn.neighbors import KNeighborsClassifier\n",
        "from sklearn.svm import SVC\n",
        "from sklearn.model_selection import train_test_split, GridSearchCV, StratifiedKFold\n",
        "from sklearn.metrics import accuracy_score, precision_score, recall_score, f1_score\n",
        "from sklearn.tree import DecisionTreeClassifier\n",
        "from sklearn.ensemble import RandomForestClassifier\n",
        "from sklearn.impute import KNNImputer\n",
        "from imblearn.over_sampling import SMOTE\n",
        "from imblearn.under_sampling import RandomUnderSampler\n",
        "from ucimlrepo import fetch_ucirepo\n",
        "from collections import Counter"
      ]
    },
    {
      "cell_type": "code",
      "execution_count": 189,
      "metadata": {
        "id": "3MPwny-_FGTz"
      },
      "outputs": [],
      "source": [
        "# Function for parameter tuning\n",
        "def tuneParameters(model, parameters, xTrain, yTrain):\n",
        "  cv = StratifiedKFold(n_splits=10, shuffle=True, random_state=0)\n",
        "  grid = GridSearchCV(model, parameters, cv=cv, scoring='accuracy')\n",
        "  grid.fit(xTrain, yTrain)\n",
        "  return grid.best_estimator_, grid.best_params_"
      ]
    },
    {
      "cell_type": "code",
      "execution_count": 4,
      "metadata": {
        "id": "I4iQv6IWE5tb"
      },
      "outputs": [],
      "source": [
        "# KNN-Imputer\n",
        "imputer = KNNImputer()"
      ]
    },
    {
      "cell_type": "code",
      "execution_count": 5,
      "metadata": {
        "id": "g-Tn3npYE-RZ"
      },
      "outputs": [],
      "source": [
        "# StandardScaler\n",
        "scaler = StandardScaler()"
      ]
    },
    {
      "cell_type": "code",
      "execution_count": 176,
      "metadata": {
        "id": "8z_gkMsHb5jx"
      },
      "outputs": [],
      "source": [
        "# Under/Oversampling\n",
        "underSampler = RandomUnderSampler(sampling_strategy=0.85, random_state=0)\n",
        "overSampler = SMOTE(random_state=0)"
      ]
    },
    {
      "cell_type": "code",
      "execution_count": 125,
      "metadata": {
        "id": "aqlRQi3Fbah8"
      },
      "outputs": [],
      "source": [
        "# Decision Tree\n",
        "DTmodel = DecisionTreeClassifier(class_weight='balanced', random_state=0)"
      ]
    },
    {
      "cell_type": "code",
      "execution_count": 126,
      "metadata": {
        "id": "MdAzeOVEFWcB"
      },
      "outputs": [],
      "source": [
        "# DT parameter range for tuning\n",
        "DTparameters = {\n",
        "    'criterion' : ['gini', 'entropy', 'log_loss'],\n",
        "    'max_depth' : [1, 2, 3, 4, 5],\n",
        "    'min_samples_split' : [2, 3, 4, 5],\n",
        "    'min_samples_leaf' : [1, 2, 3, 4, 5],\n",
        "    'max_leaf_nodes' : [2, 3, 4, 5]\n",
        "}"
      ]
    },
    {
      "cell_type": "code",
      "execution_count": 9,
      "metadata": {
        "id": "NM8_SsRSmUjH"
      },
      "outputs": [],
      "source": [
        "# Random Forest\n",
        "RFmodel = RandomForestClassifier(class_weight='balanced', random_state=0)"
      ]
    },
    {
      "cell_type": "code",
      "execution_count": 10,
      "metadata": {
        "id": "0NcsVMTjFRTE"
      },
      "outputs": [],
      "source": [
        "# RF parameter range for tuning\n",
        "RFparameters = {\n",
        "    'n_estimators': [10, 30, 50, 70, 100],\n",
        "    'criterion': ['gini', 'entropy'],\n",
        "    'max_depth': [2, 3, 4],\n",
        "    'min_samples_split': [2, 3, 4, 5],\n",
        "    'min_samples_leaf': [1, 2, 3, 4, 5],\n",
        "    'bootstrap': [True, False]\n",
        "}"
      ]
    },
    {
      "cell_type": "code",
      "execution_count": 152,
      "metadata": {
        "id": "k8cQVX4yLnPl"
      },
      "outputs": [],
      "source": [
        "SVMmodel = SVC(class_weight='balanced', random_state=0)"
      ]
    },
    {
      "cell_type": "code",
      "execution_count": 128,
      "metadata": {
        "id": "pMWDj7myLubm"
      },
      "outputs": [],
      "source": [
        "# SVM parameter range for tuning\n",
        "SVMparameters = {\n",
        "    'C': [0.1, 1, 10, 100, 1000],\n",
        "    'gamma': [1, 0.1, 0.01, 0.001]\n",
        "}"
      ]
    },
    {
      "cell_type": "code",
      "execution_count": 13,
      "metadata": {
        "id": "3wnS531Ud-ay"
      },
      "outputs": [],
      "source": [
        "# K-Nearest Neighbor\n",
        "KNNmodel = KNeighborsClassifier()"
      ]
    },
    {
      "cell_type": "code",
      "execution_count": 14,
      "metadata": {
        "id": "KffGn-LKFh1x"
      },
      "outputs": [],
      "source": [
        "# KNN parameter range for tuning\n",
        "KNNparameters = {\n",
        "    'n_neighbors': np.arange(2, 30, 1),\n",
        "    'weights': ['uniform', 'distance'],\n",
        "    'leaf_size': [10, 30, 50, 70, 100]\n",
        "}"
      ]
    },
    {
      "cell_type": "code",
      "execution_count": 15,
      "metadata": {
        "id": "ZMS5WI0COB2p"
      },
      "outputs": [],
      "source": [
        "# Logistic Regression\n",
        "LRmodel = LogisticRegression(class_weight='balanced', random_state=0)"
      ]
    },
    {
      "cell_type": "code",
      "execution_count": 16,
      "metadata": {
        "id": "ZNLv9MBYFkpp"
      },
      "outputs": [],
      "source": [
        "# LR parameter range for tuning\n",
        "LRparameters = {\n",
        "    'C': [0.1, 1, 10, 100, 1000],\n",
        "    'solver': ['lbfgs', 'liblinear', 'newton-cg', 'newton-cholesky'],\n",
        "}"
      ]
    },
    {
      "cell_type": "markdown",
      "metadata": {
        "id": "jJzD50hrkHaR"
      },
      "source": [
        "Start of Coding for UCIML Repo Heart Disease Dataset\n",
        "\n",
        "---\n",
        "\n"
      ]
    },
    {
      "cell_type": "code",
      "execution_count": 311,
      "metadata": {
        "colab": {
          "base_uri": "https://localhost:8080/"
        },
        "id": "0-bdK_4DQfxY",
        "outputId": "c9a19715-0e68-4ee9-fe4c-1c4c5f41ddb0"
      },
      "outputs": [
        {
          "output_type": "stream",
          "name": "stderr",
          "text": [
            "<ipython-input-311-417488aadf46>:10: SettingWithCopyWarning: \n",
            "A value is trying to be set on a copy of a slice from a DataFrame\n",
            "\n",
            "See the caveats in the documentation: https://pandas.pydata.org/pandas-docs/stable/user_guide/indexing.html#returning-a-view-versus-a-copy\n",
            "  Y_Cdataset.replace({2 : 1, 3 : 1, 4 : 1}, inplace=True)\n"
          ]
        }
      ],
      "source": [
        "# Fetch Heart Disease dataset from UCI\n",
        "heart_disease = fetch_ucirepo(id=45)\n",
        "X_Cdataset = heart_disease.data.features\n",
        "Y_Cdataset = heart_disease.data.targets\n",
        "\n",
        "# Replace target (num) values 2, 3, 4 as 1 (model only predicts 0 and 1,\n",
        "# 0 : No heart disease predicted\n",
        "# 1 : Heart disease predicted\n",
        "#)\n",
        "Y_Cdataset.replace({2 : 1, 3 : 1, 4 : 1}, inplace=True)\n",
        "df_Cdataset = X_Cdataset.join(Y_Cdataset)"
      ]
    },
    {
      "cell_type": "markdown",
      "metadata": {
        "id": "hLHPWjvolqeQ"
      },
      "source": [
        "Data Cleaning and Preprocessing for UCIML Repo Heart Disease Dataset\n",
        "\n",
        "---\n",
        "\n"
      ]
    },
    {
      "cell_type": "code",
      "source": [
        "df_Cdataset.describe()"
      ],
      "metadata": {
        "colab": {
          "base_uri": "https://localhost:8080/",
          "height": 300
        },
        "id": "R0_4Giy9kcmF",
        "outputId": "72e44336-0b9f-4ec7-b473-127dee414bd1"
      },
      "execution_count": 316,
      "outputs": [
        {
          "output_type": "execute_result",
          "data": {
            "text/plain": [
              "              age         sex          cp    trestbps        chol         fbs  \\\n",
              "count  303.000000  303.000000  303.000000  303.000000  303.000000  303.000000   \n",
              "mean    54.438944    0.679868    3.158416  131.689769  246.693069    0.148515   \n",
              "std      9.038662    0.467299    0.960126   17.599748   51.776918    0.356198   \n",
              "min     29.000000    0.000000    1.000000   94.000000  126.000000    0.000000   \n",
              "25%     48.000000    0.000000    3.000000  120.000000  211.000000    0.000000   \n",
              "50%     56.000000    1.000000    3.000000  130.000000  241.000000    0.000000   \n",
              "75%     61.000000    1.000000    4.000000  140.000000  275.000000    0.000000   \n",
              "max     77.000000    1.000000    4.000000  200.000000  564.000000    1.000000   \n",
              "\n",
              "          restecg     thalach       exang     oldpeak       slope          ca  \\\n",
              "count  303.000000  303.000000  303.000000  303.000000  303.000000  299.000000   \n",
              "mean     0.990099  149.607261    0.326733    1.039604    1.600660    0.672241   \n",
              "std      0.994971   22.875003    0.469794    1.161075    0.616226    0.937438   \n",
              "min      0.000000   71.000000    0.000000    0.000000    1.000000    0.000000   \n",
              "25%      0.000000  133.500000    0.000000    0.000000    1.000000    0.000000   \n",
              "50%      1.000000  153.000000    0.000000    0.800000    2.000000    0.000000   \n",
              "75%      2.000000  166.000000    1.000000    1.600000    2.000000    1.000000   \n",
              "max      2.000000  202.000000    1.000000    6.200000    3.000000    3.000000   \n",
              "\n",
              "             thal         num  \n",
              "count  301.000000  303.000000  \n",
              "mean     4.734219    0.458746  \n",
              "std      1.939706    0.499120  \n",
              "min      3.000000    0.000000  \n",
              "25%      3.000000    0.000000  \n",
              "50%      3.000000    0.000000  \n",
              "75%      7.000000    1.000000  \n",
              "max      7.000000    1.000000  "
            ],
            "text/html": [
              "\n",
              "  <div id=\"df-5f27a9cd-f8c3-4dbf-ba5f-3dcbe6ea400e\" class=\"colab-df-container\">\n",
              "    <div>\n",
              "<style scoped>\n",
              "    .dataframe tbody tr th:only-of-type {\n",
              "        vertical-align: middle;\n",
              "    }\n",
              "\n",
              "    .dataframe tbody tr th {\n",
              "        vertical-align: top;\n",
              "    }\n",
              "\n",
              "    .dataframe thead th {\n",
              "        text-align: right;\n",
              "    }\n",
              "</style>\n",
              "<table border=\"1\" class=\"dataframe\">\n",
              "  <thead>\n",
              "    <tr style=\"text-align: right;\">\n",
              "      <th></th>\n",
              "      <th>age</th>\n",
              "      <th>sex</th>\n",
              "      <th>cp</th>\n",
              "      <th>trestbps</th>\n",
              "      <th>chol</th>\n",
              "      <th>fbs</th>\n",
              "      <th>restecg</th>\n",
              "      <th>thalach</th>\n",
              "      <th>exang</th>\n",
              "      <th>oldpeak</th>\n",
              "      <th>slope</th>\n",
              "      <th>ca</th>\n",
              "      <th>thal</th>\n",
              "      <th>num</th>\n",
              "    </tr>\n",
              "  </thead>\n",
              "  <tbody>\n",
              "    <tr>\n",
              "      <th>count</th>\n",
              "      <td>303.000000</td>\n",
              "      <td>303.000000</td>\n",
              "      <td>303.000000</td>\n",
              "      <td>303.000000</td>\n",
              "      <td>303.000000</td>\n",
              "      <td>303.000000</td>\n",
              "      <td>303.000000</td>\n",
              "      <td>303.000000</td>\n",
              "      <td>303.000000</td>\n",
              "      <td>303.000000</td>\n",
              "      <td>303.000000</td>\n",
              "      <td>299.000000</td>\n",
              "      <td>301.000000</td>\n",
              "      <td>303.000000</td>\n",
              "    </tr>\n",
              "    <tr>\n",
              "      <th>mean</th>\n",
              "      <td>54.438944</td>\n",
              "      <td>0.679868</td>\n",
              "      <td>3.158416</td>\n",
              "      <td>131.689769</td>\n",
              "      <td>246.693069</td>\n",
              "      <td>0.148515</td>\n",
              "      <td>0.990099</td>\n",
              "      <td>149.607261</td>\n",
              "      <td>0.326733</td>\n",
              "      <td>1.039604</td>\n",
              "      <td>1.600660</td>\n",
              "      <td>0.672241</td>\n",
              "      <td>4.734219</td>\n",
              "      <td>0.458746</td>\n",
              "    </tr>\n",
              "    <tr>\n",
              "      <th>std</th>\n",
              "      <td>9.038662</td>\n",
              "      <td>0.467299</td>\n",
              "      <td>0.960126</td>\n",
              "      <td>17.599748</td>\n",
              "      <td>51.776918</td>\n",
              "      <td>0.356198</td>\n",
              "      <td>0.994971</td>\n",
              "      <td>22.875003</td>\n",
              "      <td>0.469794</td>\n",
              "      <td>1.161075</td>\n",
              "      <td>0.616226</td>\n",
              "      <td>0.937438</td>\n",
              "      <td>1.939706</td>\n",
              "      <td>0.499120</td>\n",
              "    </tr>\n",
              "    <tr>\n",
              "      <th>min</th>\n",
              "      <td>29.000000</td>\n",
              "      <td>0.000000</td>\n",
              "      <td>1.000000</td>\n",
              "      <td>94.000000</td>\n",
              "      <td>126.000000</td>\n",
              "      <td>0.000000</td>\n",
              "      <td>0.000000</td>\n",
              "      <td>71.000000</td>\n",
              "      <td>0.000000</td>\n",
              "      <td>0.000000</td>\n",
              "      <td>1.000000</td>\n",
              "      <td>0.000000</td>\n",
              "      <td>3.000000</td>\n",
              "      <td>0.000000</td>\n",
              "    </tr>\n",
              "    <tr>\n",
              "      <th>25%</th>\n",
              "      <td>48.000000</td>\n",
              "      <td>0.000000</td>\n",
              "      <td>3.000000</td>\n",
              "      <td>120.000000</td>\n",
              "      <td>211.000000</td>\n",
              "      <td>0.000000</td>\n",
              "      <td>0.000000</td>\n",
              "      <td>133.500000</td>\n",
              "      <td>0.000000</td>\n",
              "      <td>0.000000</td>\n",
              "      <td>1.000000</td>\n",
              "      <td>0.000000</td>\n",
              "      <td>3.000000</td>\n",
              "      <td>0.000000</td>\n",
              "    </tr>\n",
              "    <tr>\n",
              "      <th>50%</th>\n",
              "      <td>56.000000</td>\n",
              "      <td>1.000000</td>\n",
              "      <td>3.000000</td>\n",
              "      <td>130.000000</td>\n",
              "      <td>241.000000</td>\n",
              "      <td>0.000000</td>\n",
              "      <td>1.000000</td>\n",
              "      <td>153.000000</td>\n",
              "      <td>0.000000</td>\n",
              "      <td>0.800000</td>\n",
              "      <td>2.000000</td>\n",
              "      <td>0.000000</td>\n",
              "      <td>3.000000</td>\n",
              "      <td>0.000000</td>\n",
              "    </tr>\n",
              "    <tr>\n",
              "      <th>75%</th>\n",
              "      <td>61.000000</td>\n",
              "      <td>1.000000</td>\n",
              "      <td>4.000000</td>\n",
              "      <td>140.000000</td>\n",
              "      <td>275.000000</td>\n",
              "      <td>0.000000</td>\n",
              "      <td>2.000000</td>\n",
              "      <td>166.000000</td>\n",
              "      <td>1.000000</td>\n",
              "      <td>1.600000</td>\n",
              "      <td>2.000000</td>\n",
              "      <td>1.000000</td>\n",
              "      <td>7.000000</td>\n",
              "      <td>1.000000</td>\n",
              "    </tr>\n",
              "    <tr>\n",
              "      <th>max</th>\n",
              "      <td>77.000000</td>\n",
              "      <td>1.000000</td>\n",
              "      <td>4.000000</td>\n",
              "      <td>200.000000</td>\n",
              "      <td>564.000000</td>\n",
              "      <td>1.000000</td>\n",
              "      <td>2.000000</td>\n",
              "      <td>202.000000</td>\n",
              "      <td>1.000000</td>\n",
              "      <td>6.200000</td>\n",
              "      <td>3.000000</td>\n",
              "      <td>3.000000</td>\n",
              "      <td>7.000000</td>\n",
              "      <td>1.000000</td>\n",
              "    </tr>\n",
              "  </tbody>\n",
              "</table>\n",
              "</div>\n",
              "    <div class=\"colab-df-buttons\">\n",
              "\n",
              "  <div class=\"colab-df-container\">\n",
              "    <button class=\"colab-df-convert\" onclick=\"convertToInteractive('df-5f27a9cd-f8c3-4dbf-ba5f-3dcbe6ea400e')\"\n",
              "            title=\"Convert this dataframe to an interactive table.\"\n",
              "            style=\"display:none;\">\n",
              "\n",
              "  <svg xmlns=\"http://www.w3.org/2000/svg\" height=\"24px\" viewBox=\"0 -960 960 960\">\n",
              "    <path d=\"M120-120v-720h720v720H120Zm60-500h600v-160H180v160Zm220 220h160v-160H400v160Zm0 220h160v-160H400v160ZM180-400h160v-160H180v160Zm440 0h160v-160H620v160ZM180-180h160v-160H180v160Zm440 0h160v-160H620v160Z\"/>\n",
              "  </svg>\n",
              "    </button>\n",
              "\n",
              "  <style>\n",
              "    .colab-df-container {\n",
              "      display:flex;\n",
              "      gap: 12px;\n",
              "    }\n",
              "\n",
              "    .colab-df-convert {\n",
              "      background-color: #E8F0FE;\n",
              "      border: none;\n",
              "      border-radius: 50%;\n",
              "      cursor: pointer;\n",
              "      display: none;\n",
              "      fill: #1967D2;\n",
              "      height: 32px;\n",
              "      padding: 0 0 0 0;\n",
              "      width: 32px;\n",
              "    }\n",
              "\n",
              "    .colab-df-convert:hover {\n",
              "      background-color: #E2EBFA;\n",
              "      box-shadow: 0px 1px 2px rgba(60, 64, 67, 0.3), 0px 1px 3px 1px rgba(60, 64, 67, 0.15);\n",
              "      fill: #174EA6;\n",
              "    }\n",
              "\n",
              "    .colab-df-buttons div {\n",
              "      margin-bottom: 4px;\n",
              "    }\n",
              "\n",
              "    [theme=dark] .colab-df-convert {\n",
              "      background-color: #3B4455;\n",
              "      fill: #D2E3FC;\n",
              "    }\n",
              "\n",
              "    [theme=dark] .colab-df-convert:hover {\n",
              "      background-color: #434B5C;\n",
              "      box-shadow: 0px 1px 3px 1px rgba(0, 0, 0, 0.15);\n",
              "      filter: drop-shadow(0px 1px 2px rgba(0, 0, 0, 0.3));\n",
              "      fill: #FFFFFF;\n",
              "    }\n",
              "  </style>\n",
              "\n",
              "    <script>\n",
              "      const buttonEl =\n",
              "        document.querySelector('#df-5f27a9cd-f8c3-4dbf-ba5f-3dcbe6ea400e button.colab-df-convert');\n",
              "      buttonEl.style.display =\n",
              "        google.colab.kernel.accessAllowed ? 'block' : 'none';\n",
              "\n",
              "      async function convertToInteractive(key) {\n",
              "        const element = document.querySelector('#df-5f27a9cd-f8c3-4dbf-ba5f-3dcbe6ea400e');\n",
              "        const dataTable =\n",
              "          await google.colab.kernel.invokeFunction('convertToInteractive',\n",
              "                                                    [key], {});\n",
              "        if (!dataTable) return;\n",
              "\n",
              "        const docLinkHtml = 'Like what you see? Visit the ' +\n",
              "          '<a target=\"_blank\" href=https://colab.research.google.com/notebooks/data_table.ipynb>data table notebook</a>'\n",
              "          + ' to learn more about interactive tables.';\n",
              "        element.innerHTML = '';\n",
              "        dataTable['output_type'] = 'display_data';\n",
              "        await google.colab.output.renderOutput(dataTable, element);\n",
              "        const docLink = document.createElement('div');\n",
              "        docLink.innerHTML = docLinkHtml;\n",
              "        element.appendChild(docLink);\n",
              "      }\n",
              "    </script>\n",
              "  </div>\n",
              "\n",
              "\n",
              "<div id=\"df-b95161e3-ba90-49c8-9049-9f253be6c2a2\">\n",
              "  <button class=\"colab-df-quickchart\" onclick=\"quickchart('df-b95161e3-ba90-49c8-9049-9f253be6c2a2')\"\n",
              "            title=\"Suggest charts\"\n",
              "            style=\"display:none;\">\n",
              "\n",
              "<svg xmlns=\"http://www.w3.org/2000/svg\" height=\"24px\"viewBox=\"0 0 24 24\"\n",
              "     width=\"24px\">\n",
              "    <g>\n",
              "        <path d=\"M19 3H5c-1.1 0-2 .9-2 2v14c0 1.1.9 2 2 2h14c1.1 0 2-.9 2-2V5c0-1.1-.9-2-2-2zM9 17H7v-7h2v7zm4 0h-2V7h2v10zm4 0h-2v-4h2v4z\"/>\n",
              "    </g>\n",
              "</svg>\n",
              "  </button>\n",
              "\n",
              "<style>\n",
              "  .colab-df-quickchart {\n",
              "      --bg-color: #E8F0FE;\n",
              "      --fill-color: #1967D2;\n",
              "      --hover-bg-color: #E2EBFA;\n",
              "      --hover-fill-color: #174EA6;\n",
              "      --disabled-fill-color: #AAA;\n",
              "      --disabled-bg-color: #DDD;\n",
              "  }\n",
              "\n",
              "  [theme=dark] .colab-df-quickchart {\n",
              "      --bg-color: #3B4455;\n",
              "      --fill-color: #D2E3FC;\n",
              "      --hover-bg-color: #434B5C;\n",
              "      --hover-fill-color: #FFFFFF;\n",
              "      --disabled-bg-color: #3B4455;\n",
              "      --disabled-fill-color: #666;\n",
              "  }\n",
              "\n",
              "  .colab-df-quickchart {\n",
              "    background-color: var(--bg-color);\n",
              "    border: none;\n",
              "    border-radius: 50%;\n",
              "    cursor: pointer;\n",
              "    display: none;\n",
              "    fill: var(--fill-color);\n",
              "    height: 32px;\n",
              "    padding: 0;\n",
              "    width: 32px;\n",
              "  }\n",
              "\n",
              "  .colab-df-quickchart:hover {\n",
              "    background-color: var(--hover-bg-color);\n",
              "    box-shadow: 0 1px 2px rgba(60, 64, 67, 0.3), 0 1px 3px 1px rgba(60, 64, 67, 0.15);\n",
              "    fill: var(--button-hover-fill-color);\n",
              "  }\n",
              "\n",
              "  .colab-df-quickchart-complete:disabled,\n",
              "  .colab-df-quickchart-complete:disabled:hover {\n",
              "    background-color: var(--disabled-bg-color);\n",
              "    fill: var(--disabled-fill-color);\n",
              "    box-shadow: none;\n",
              "  }\n",
              "\n",
              "  .colab-df-spinner {\n",
              "    border: 2px solid var(--fill-color);\n",
              "    border-color: transparent;\n",
              "    border-bottom-color: var(--fill-color);\n",
              "    animation:\n",
              "      spin 1s steps(1) infinite;\n",
              "  }\n",
              "\n",
              "  @keyframes spin {\n",
              "    0% {\n",
              "      border-color: transparent;\n",
              "      border-bottom-color: var(--fill-color);\n",
              "      border-left-color: var(--fill-color);\n",
              "    }\n",
              "    20% {\n",
              "      border-color: transparent;\n",
              "      border-left-color: var(--fill-color);\n",
              "      border-top-color: var(--fill-color);\n",
              "    }\n",
              "    30% {\n",
              "      border-color: transparent;\n",
              "      border-left-color: var(--fill-color);\n",
              "      border-top-color: var(--fill-color);\n",
              "      border-right-color: var(--fill-color);\n",
              "    }\n",
              "    40% {\n",
              "      border-color: transparent;\n",
              "      border-right-color: var(--fill-color);\n",
              "      border-top-color: var(--fill-color);\n",
              "    }\n",
              "    60% {\n",
              "      border-color: transparent;\n",
              "      border-right-color: var(--fill-color);\n",
              "    }\n",
              "    80% {\n",
              "      border-color: transparent;\n",
              "      border-right-color: var(--fill-color);\n",
              "      border-bottom-color: var(--fill-color);\n",
              "    }\n",
              "    90% {\n",
              "      border-color: transparent;\n",
              "      border-bottom-color: var(--fill-color);\n",
              "    }\n",
              "  }\n",
              "</style>\n",
              "\n",
              "  <script>\n",
              "    async function quickchart(key) {\n",
              "      const quickchartButtonEl =\n",
              "        document.querySelector('#' + key + ' button');\n",
              "      quickchartButtonEl.disabled = true;  // To prevent multiple clicks.\n",
              "      quickchartButtonEl.classList.add('colab-df-spinner');\n",
              "      try {\n",
              "        const charts = await google.colab.kernel.invokeFunction(\n",
              "            'suggestCharts', [key], {});\n",
              "      } catch (error) {\n",
              "        console.error('Error during call to suggestCharts:', error);\n",
              "      }\n",
              "      quickchartButtonEl.classList.remove('colab-df-spinner');\n",
              "      quickchartButtonEl.classList.add('colab-df-quickchart-complete');\n",
              "    }\n",
              "    (() => {\n",
              "      let quickchartButtonEl =\n",
              "        document.querySelector('#df-b95161e3-ba90-49c8-9049-9f253be6c2a2 button');\n",
              "      quickchartButtonEl.style.display =\n",
              "        google.colab.kernel.accessAllowed ? 'block' : 'none';\n",
              "    })();\n",
              "  </script>\n",
              "</div>\n",
              "    </div>\n",
              "  </div>\n"
            ],
            "application/vnd.google.colaboratory.intrinsic+json": {
              "type": "dataframe",
              "summary": "{\n  \"name\": \"df_Cdataset\",\n  \"rows\": 8,\n  \"fields\": [\n    {\n      \"column\": \"age\",\n      \"properties\": {\n        \"dtype\": \"number\",\n        \"std\": 92.5728159022223,\n        \"min\": 9.038662442446746,\n        \"max\": 303.0,\n        \"num_unique_values\": 8,\n        \"samples\": [\n          54.43894389438944,\n          56.0,\n          303.0\n        ],\n        \"semantic_type\": \"\",\n        \"description\": \"\"\n      }\n    },\n    {\n      \"column\": \"sex\",\n      \"properties\": {\n        \"dtype\": \"number\",\n        \"std\": 106.91803123915392,\n        \"min\": 0.0,\n        \"max\": 303.0,\n        \"num_unique_values\": 5,\n        \"samples\": [\n          0.6798679867986799,\n          1.0,\n          0.46729882777012993\n        ],\n        \"semantic_type\": \"\",\n        \"description\": \"\"\n      }\n    },\n    {\n      \"column\": \"cp\",\n      \"properties\": {\n        \"dtype\": \"number\",\n        \"std\": 106.16755832732339,\n        \"min\": 0.9601256119600138,\n        \"max\": 303.0,\n        \"num_unique_values\": 6,\n        \"samples\": [\n          303.0,\n          3.1584158415841586,\n          4.0\n        ],\n        \"semantic_type\": \"\",\n        \"description\": \"\"\n      }\n    },\n    {\n      \"column\": \"trestbps\",\n      \"properties\": {\n        \"dtype\": \"number\",\n        \"std\": 82.63751582423215,\n        \"min\": 17.59974772958769,\n        \"max\": 303.0,\n        \"num_unique_values\": 8,\n        \"samples\": [\n          131.68976897689768,\n          130.0,\n          303.0\n        ],\n        \"semantic_type\": \"\",\n        \"description\": \"\"\n      }\n    },\n    {\n      \"column\": \"chol\",\n      \"properties\": {\n        \"dtype\": \"number\",\n        \"std\": 150.36559430635785,\n        \"min\": 51.77691754263704,\n        \"max\": 564.0,\n        \"num_unique_values\": 8,\n        \"samples\": [\n          246.69306930693068,\n          241.0,\n          303.0\n        ],\n        \"semantic_type\": \"\",\n        \"description\": \"\"\n      }\n    },\n    {\n      \"column\": \"fbs\",\n      \"properties\": {\n        \"dtype\": \"number\",\n        \"std\": 107.0512286741478,\n        \"min\": 0.0,\n        \"max\": 303.0,\n        \"num_unique_values\": 5,\n        \"samples\": [\n          0.1485148514851485,\n          1.0,\n          0.35619787492797644\n        ],\n        \"semantic_type\": \"\",\n        \"description\": \"\"\n      }\n    },\n    {\n      \"column\": \"restecg\",\n      \"properties\": {\n        \"dtype\": \"number\",\n        \"std\": 106.77655393236438,\n        \"min\": 0.0,\n        \"max\": 303.0,\n        \"num_unique_values\": 6,\n        \"samples\": [\n          303.0,\n          0.9900990099009901,\n          2.0\n        ],\n        \"semantic_type\": \"\",\n        \"description\": \"\"\n      }\n    },\n    {\n      \"column\": \"thalach\",\n      \"properties\": {\n        \"dtype\": \"number\",\n        \"std\": 83.71042641207808,\n        \"min\": 22.875003276980376,\n        \"max\": 303.0,\n        \"num_unique_values\": 8,\n        \"samples\": [\n          149.6072607260726,\n          153.0,\n          303.0\n        ],\n        \"semantic_type\": \"\",\n        \"description\": \"\"\n      }\n    },\n    {\n      \"column\": \"exang\",\n      \"properties\": {\n        \"dtype\": \"number\",\n        \"std\": 106.9862394088184,\n        \"min\": 0.0,\n        \"max\": 303.0,\n        \"num_unique_values\": 5,\n        \"samples\": [\n          0.32673267326732675,\n          1.0,\n          0.46979446452231655\n        ],\n        \"semantic_type\": \"\",\n        \"description\": \"\"\n      }\n    },\n    {\n      \"column\": \"oldpeak\",\n      \"properties\": {\n        \"dtype\": \"number\",\n        \"std\": 106.59952466080658,\n        \"min\": 0.0,\n        \"max\": 303.0,\n        \"num_unique_values\": 7,\n        \"samples\": [\n          303.0,\n          1.0396039603960396,\n          1.6\n        ],\n        \"semantic_type\": \"\",\n        \"description\": \"\"\n      }\n    },\n    {\n      \"column\": \"slope\",\n      \"properties\": {\n        \"dtype\": \"number\",\n        \"std\": 106.5627986546393,\n        \"min\": 0.6162261453459619,\n        \"max\": 303.0,\n        \"num_unique_values\": 6,\n        \"samples\": [\n          303.0,\n          1.6006600660066006,\n          3.0\n        ],\n        \"semantic_type\": \"\",\n        \"description\": \"\"\n      }\n    },\n    {\n      \"column\": \"ca\",\n      \"properties\": {\n        \"dtype\": \"number\",\n        \"std\": 105.4337629723496,\n        \"min\": 0.0,\n        \"max\": 299.0,\n        \"num_unique_values\": 6,\n        \"samples\": [\n          299.0,\n          0.6722408026755853,\n          3.0\n        ],\n        \"semantic_type\": \"\",\n        \"description\": \"\"\n      }\n    },\n    {\n      \"column\": \"thal\",\n      \"properties\": {\n        \"dtype\": \"number\",\n        \"std\": 104.93809039007937,\n        \"min\": 1.939705769378644,\n        \"max\": 301.0,\n        \"num_unique_values\": 5,\n        \"samples\": [\n          4.73421926910299,\n          7.0,\n          1.939705769378644\n        ],\n        \"semantic_type\": \"\",\n        \"description\": \"\"\n      }\n    },\n    {\n      \"column\": \"num\",\n      \"properties\": {\n        \"dtype\": \"number\",\n        \"std\": 106.97809031019014,\n        \"min\": 0.0,\n        \"max\": 303.0,\n        \"num_unique_values\": 5,\n        \"samples\": [\n          0.45874587458745875,\n          1.0,\n          0.4991195009875263\n        ],\n        \"semantic_type\": \"\",\n        \"description\": \"\"\n      }\n    }\n  ]\n}"
            }
          },
          "metadata": {},
          "execution_count": 316
        }
      ]
    },
    {
      "cell_type": "code",
      "execution_count": null,
      "metadata": {
        "colab": {
          "base_uri": "https://localhost:8080/"
        },
        "id": "ghb7CcV_E2nF",
        "outputId": "5eaea81e-aa6b-411f-a7f6-7d11249d3dbc"
      },
      "outputs": [
        {
          "output_type": "stream",
          "name": "stdout",
          "text": [
            "6\n"
          ]
        }
      ],
      "source": [
        "# Check for null values\n",
        "print(df_Cdataset.isna().sum().sum())"
      ]
    },
    {
      "cell_type": "code",
      "execution_count": 291,
      "metadata": {
        "id": "BkxXy7Cyd0x5"
      },
      "outputs": [],
      "source": [
        "# Split into x and y\n",
        "X_Cdataset = df_Cdataset.drop('num', axis=1)\n",
        "Y_Cdataset = df_Cdataset['num']"
      ]
    },
    {
      "cell_type": "code",
      "execution_count": 292,
      "metadata": {
        "id": "LYYih5_t04P2"
      },
      "outputs": [],
      "source": [
        "# Split into train and test\n",
        "xTrain_Cdataset, xTest_Cdataset, yTrain_Cdataset, yTest_Cdataset = train_test_split(X_Cdataset, Y_Cdataset, test_size=0.2, random_state=0, stratify=Y_Cdataset)"
      ]
    },
    {
      "cell_type": "code",
      "execution_count": 293,
      "metadata": {
        "id": "Bbr-a3Te5o9v"
      },
      "outputs": [],
      "source": [
        "# Standardization\n",
        "xTrain_Cdataset[:] = scaler.fit_transform(xTrain_Cdataset)\n",
        "xTest_Cdataset[:] = scaler.transform(xTest_Cdataset)"
      ]
    },
    {
      "cell_type": "code",
      "execution_count": 294,
      "metadata": {
        "id": "axRoLD92Hmof"
      },
      "outputs": [],
      "source": [
        "# KNN-imputation\n",
        "train_Cdataset = xTrain_Cdataset.join(yTrain_Cdataset)\n",
        "test_Cdataset = xTest_Cdataset.join(yTest_Cdataset)\n",
        "\n",
        "train_Cdataset[:] = imputer.fit_transform(train_Cdataset)\n",
        "test_Cdataset[:] = imputer.transform(test_Cdataset)\n",
        "\n",
        "xTrain_Cdataset = train_Cdataset.drop('num', axis=1)\n",
        "yTrain_Cdataset = train_Cdataset['num']\n",
        "xTest_Cdataset = test_Cdataset.drop('num', axis=1)\n",
        "yTest_Cdataset = test_Cdataset['num']"
      ]
    },
    {
      "cell_type": "code",
      "execution_count": 295,
      "metadata": {
        "id": "2CU86Y-ylLhk"
      },
      "outputs": [],
      "source": [
        "# Undersampling and Oversampling\n",
        "xTrain_Cdataset, yTrain_Cdataset = underSampler.fit_resample(xTrain_Cdataset, yTrain_Cdataset)\n",
        "xTrain_Cdataset, yTrain_Cdataset = overSampler.fit_resample(xTrain_Cdataset, yTrain_Cdataset)"
      ]
    },
    {
      "cell_type": "markdown",
      "metadata": {
        "id": "eURuP4_MkM2v"
      },
      "source": [
        "Decision Tree (DT) Model for UCIML Repo Heart Disease Dataset\n",
        "\n",
        "---\n",
        "\n"
      ]
    },
    {
      "cell_type": "code",
      "execution_count": 159,
      "metadata": {
        "colab": {
          "base_uri": "https://localhost:8080/"
        },
        "id": "VgN8jelBbjIM",
        "outputId": "13130ebd-7f05-4c48-ca74-921d6080d79c"
      },
      "outputs": [
        {
          "output_type": "stream",
          "name": "stdout",
          "text": [
            "{'criterion': 'gini', 'max_depth': 3, 'max_leaf_nodes': 5, 'min_samples_leaf': 1, 'min_samples_split': 2}\n"
          ]
        }
      ],
      "source": [
        "# DT parameter tuning\n",
        "optimizedDT_Cdataset, optimizedDTparameters_Cdataset = tuneParameters(DTmodel, DTparameters, xTrain_Cdataset, yTrain_Cdataset)\n",
        "print(optimizedDTparameters_Cdataset)"
      ]
    },
    {
      "cell_type": "code",
      "execution_count": 160,
      "metadata": {
        "id": "_LIjhG9TgslN",
        "colab": {
          "base_uri": "https://localhost:8080/"
        },
        "outputId": "532de220-5576-46ae-8e09-ef966aed36b0"
      },
      "outputs": [
        {
          "output_type": "stream",
          "name": "stdout",
          "text": [
            "0.8360655737704918\n"
          ]
        }
      ],
      "source": [
        "# Get accuracy of optimized DT\n",
        "predDT_Cdataset = optimizedDT_Cdataset.predict(xTest_Cdataset)\n",
        "accDT_Cdataset = accuracy_score(np.ravel(yTest_Cdataset), np.ravel(predDT_Cdataset))\n",
        "print(accDT_Cdataset)"
      ]
    },
    {
      "cell_type": "code",
      "execution_count": 161,
      "metadata": {
        "id": "iSQlh-kDVQLk",
        "colab": {
          "base_uri": "https://localhost:8080/"
        },
        "outputId": "4b9fa884-34b0-4f13-9262-eec000451bc9"
      },
      "outputs": [
        {
          "output_type": "stream",
          "name": "stdout",
          "text": [
            "0.9090909090909091\n"
          ]
        }
      ],
      "source": [
        "# Get precision of optimized DT\n",
        "precDT_Cdataset = precision_score(np.ravel(yTest_Cdataset), np.ravel(predDT_Cdataset))\n",
        "print(precDT_Cdataset)"
      ]
    },
    {
      "cell_type": "code",
      "execution_count": 162,
      "metadata": {
        "colab": {
          "base_uri": "https://localhost:8080/"
        },
        "id": "VhMvPVXaVpBf",
        "outputId": "d4af5f53-7fcf-4db0-d800-92f38dccdbc9"
      },
      "outputs": [
        {
          "output_type": "stream",
          "name": "stdout",
          "text": [
            "0.7142857142857143\n"
          ]
        }
      ],
      "source": [
        "# Get recall of optimized DT\n",
        "recallDT_Cdataset = recall_score(np.ravel(yTest_Cdataset), np.ravel(predDT_Cdataset))\n",
        "print(recallDT_Cdataset)"
      ]
    },
    {
      "cell_type": "code",
      "execution_count": 163,
      "metadata": {
        "id": "8QQZBV2AV44L",
        "colab": {
          "base_uri": "https://localhost:8080/"
        },
        "outputId": "f5a8286e-ac7b-4486-df54-d227e85bc1cc"
      },
      "outputs": [
        {
          "output_type": "stream",
          "name": "stdout",
          "text": [
            "0.8\n"
          ]
        }
      ],
      "source": [
        "# Get f1-score of optimized DT\n",
        "f1DT_Cdataset = f1_score(np.ravel(yTest_Cdataset), np.ravel(predDT_Cdataset))\n",
        "print(f1DT_Cdataset)"
      ]
    },
    {
      "cell_type": "markdown",
      "metadata": {
        "id": "YBJ6nuphkSGe"
      },
      "source": [
        "Random Forest (RF) Model for UCIML Repo Heart Disease Dataset\n",
        "\n",
        "---\n",
        "\n"
      ]
    },
    {
      "cell_type": "code",
      "execution_count": 28,
      "metadata": {
        "colab": {
          "base_uri": "https://localhost:8080/"
        },
        "id": "X4yl1ygfmg9R",
        "outputId": "6d4d306d-486e-469d-d42a-5e9dae9d8852"
      },
      "outputs": [
        {
          "output_type": "stream",
          "name": "stdout",
          "text": [
            "{'bootstrap': True, 'criterion': 'gini', 'max_depth': 4, 'min_samples_leaf': 1, 'min_samples_split': 5, 'n_estimators': 100}\n"
          ]
        }
      ],
      "source": [
        "# RF parameter tuning\n",
        "optimizedRF_Cdataset, optimizedRFparameters_Cdataset = tuneParameters(RFmodel, RFparameters, xTrain_Cdataset, yTrain_Cdataset)\n",
        "print(optimizedRFparameters_Cdataset)"
      ]
    },
    {
      "cell_type": "code",
      "execution_count": 29,
      "metadata": {
        "colab": {
          "base_uri": "https://localhost:8080/"
        },
        "id": "Cw0OV0FYmwfg",
        "outputId": "de622d6f-42a7-4ea3-ac46-b8d4b90b27ae"
      },
      "outputs": [
        {
          "output_type": "stream",
          "name": "stdout",
          "text": [
            "0.8688524590163934\n"
          ]
        }
      ],
      "source": [
        "# Get accuracy of optimized RF\n",
        "predRF_Cdataset = optimizedRF_Cdataset.predict(xTest_Cdataset)\n",
        "accRF_Cdataset = accuracy_score(np.ravel(yTest_Cdataset), np.ravel(predRF_Cdataset))\n",
        "print(accRF_Cdataset)"
      ]
    },
    {
      "cell_type": "code",
      "execution_count": 30,
      "metadata": {
        "colab": {
          "base_uri": "https://localhost:8080/"
        },
        "id": "VO_5R9yaWUwX",
        "outputId": "63e38775-7a24-4037-b90d-6d0a498d2b18"
      },
      "outputs": [
        {
          "output_type": "stream",
          "name": "stdout",
          "text": [
            "0.8846153846153846\n"
          ]
        }
      ],
      "source": [
        "# Get precision of optimized RF\n",
        "precRF_Cdataset = precision_score(np.ravel(yTest_Cdataset), np.ravel(predRF_Cdataset))\n",
        "print(precRF_Cdataset)"
      ]
    },
    {
      "cell_type": "code",
      "execution_count": 31,
      "metadata": {
        "colab": {
          "base_uri": "https://localhost:8080/"
        },
        "id": "xWqEOB4wWOe3",
        "outputId": "0b5020fa-09c9-4e87-d8f7-677f01ee5f6e"
      },
      "outputs": [
        {
          "output_type": "stream",
          "name": "stdout",
          "text": [
            "0.8214285714285714\n"
          ]
        }
      ],
      "source": [
        "# Get recall of optimized RF\n",
        "recallRF_Cdataset = recall_score(np.ravel(yTest_Cdataset), np.ravel(predRF_Cdataset))\n",
        "print(recallRF_Cdataset)"
      ]
    },
    {
      "cell_type": "code",
      "execution_count": 32,
      "metadata": {
        "colab": {
          "base_uri": "https://localhost:8080/"
        },
        "id": "kXmQ8_2EWYGV",
        "outputId": "24f31ff8-bbda-4bdc-9326-511d4641b787"
      },
      "outputs": [
        {
          "output_type": "stream",
          "name": "stdout",
          "text": [
            "0.8518518518518519\n"
          ]
        }
      ],
      "source": [
        "# Get f1-score of optimized RF\n",
        "f1RF_Cdataset = f1_score(np.ravel(yTest_Cdataset), np.ravel(predRF_Cdataset))\n",
        "print(f1RF_Cdataset)"
      ]
    },
    {
      "cell_type": "markdown",
      "metadata": {
        "id": "a7INzMjvkVUo"
      },
      "source": [
        "Support Vector Machine (SVM) Model for UCIML Repo Heart Disease Dataset\n",
        "\n",
        "\n",
        "---\n",
        "\n",
        "\n",
        "\n"
      ]
    },
    {
      "cell_type": "code",
      "execution_count": 296,
      "metadata": {
        "colab": {
          "base_uri": "https://localhost:8080/"
        },
        "id": "4MB22v9lLPpz",
        "outputId": "dfbdea13-ce37-4d34-fb09-1af4f5845fcc"
      },
      "outputs": [
        {
          "output_type": "stream",
          "name": "stdout",
          "text": [
            "{'C': 10, 'gamma': 0.001}\n"
          ]
        }
      ],
      "source": [
        "# SVM hyperparameter tuning\n",
        "optimizedSVM_Cdataset, optimizedSVMparameters_Cdataset = tuneParameters(SVMmodel, SVMparameters, xTrain_Cdataset, yTrain_Cdataset)\n",
        "print(optimizedSVMparameters_Cdataset)"
      ]
    },
    {
      "cell_type": "code",
      "execution_count": 297,
      "metadata": {
        "colab": {
          "base_uri": "https://localhost:8080/"
        },
        "id": "u1mXlIbEMwVV",
        "outputId": "4e15d382-8388-4c56-b278-171d95539f1c"
      },
      "outputs": [
        {
          "output_type": "stream",
          "name": "stdout",
          "text": [
            "0.9016393442622951\n"
          ]
        }
      ],
      "source": [
        "# Get accuracy of optimized SVM\n",
        "predSVM_Cdataset = optimizedSVM_Cdataset.predict(xTest_Cdataset)\n",
        "accSVM_Cdataset = accuracy_score(np.ravel(yTest_Cdataset), np.ravel(predSVM_Cdataset))\n",
        "print(accSVM_Cdataset)"
      ]
    },
    {
      "cell_type": "code",
      "execution_count": 298,
      "metadata": {
        "colab": {
          "base_uri": "https://localhost:8080/"
        },
        "id": "ivEUIkZbNuWx",
        "outputId": "7599e0db-e383-401c-9e8c-da4bf5af6aec"
      },
      "outputs": [
        {
          "output_type": "stream",
          "name": "stdout",
          "text": [
            "0.8928571428571429\n"
          ]
        }
      ],
      "source": [
        "# Get precision of optimized SVM\n",
        "precSVM_Cdataset = precision_score(np.ravel(yTest_Cdataset), np.ravel(predSVM_Cdataset))\n",
        "print(precSVM_Cdataset)"
      ]
    },
    {
      "cell_type": "code",
      "execution_count": 299,
      "metadata": {
        "colab": {
          "base_uri": "https://localhost:8080/"
        },
        "id": "bPfVv1MCN05I",
        "outputId": "d4105b5e-a0c3-4d96-fa61-78f1a35a432a"
      },
      "outputs": [
        {
          "output_type": "stream",
          "name": "stdout",
          "text": [
            "0.8928571428571429\n"
          ]
        }
      ],
      "source": [
        "# Get recall of optimized SVM\n",
        "recallSVM_Cdataset = recall_score(np.ravel(yTest_Cdataset), np.ravel(predSVM_Cdataset))\n",
        "print(recallSVM_Cdataset)"
      ]
    },
    {
      "cell_type": "code",
      "execution_count": 300,
      "metadata": {
        "colab": {
          "base_uri": "https://localhost:8080/"
        },
        "id": "1T5RQDNsN6W7",
        "outputId": "424636fc-7617-4bec-8569-12c0dd23ee25"
      },
      "outputs": [
        {
          "output_type": "stream",
          "name": "stdout",
          "text": [
            "0.8928571428571429\n"
          ]
        }
      ],
      "source": [
        "# Get f1-score of optimized SVM\n",
        "f1SVM_Cdataset = f1_score(np.ravel(yTest_Cdataset), np.ravel(predSVM_Cdataset))\n",
        "print(f1SVM_Cdataset)"
      ]
    },
    {
      "cell_type": "markdown",
      "metadata": {
        "id": "0KOGodeGkZip"
      },
      "source": [
        "K-Nearest Neighbor (KNN) Model for UCIML Repo Heart Disease Dataset\n",
        "\n",
        "---\n",
        "\n"
      ]
    },
    {
      "cell_type": "code",
      "execution_count": 38,
      "metadata": {
        "colab": {
          "base_uri": "https://localhost:8080/"
        },
        "id": "S60GaJizeHL2",
        "outputId": "9f8ef5a5-b74e-41e4-b510-1ddcba22888f"
      },
      "outputs": [
        {
          "output_type": "stream",
          "name": "stdout",
          "text": [
            "{'leaf_size': 10, 'n_neighbors': 17, 'weights': 'distance'}\n"
          ]
        }
      ],
      "source": [
        "# KNN hyperparameter tuning\n",
        "optimizedKNN_Cdataset, optimizedKNNparameters_Cdataset = tuneParameters(KNNmodel, KNNparameters, xTrain_Cdataset, yTrain_Cdataset)\n",
        "print(optimizedKNNparameters_Cdataset)"
      ]
    },
    {
      "cell_type": "code",
      "execution_count": 39,
      "metadata": {
        "colab": {
          "base_uri": "https://localhost:8080/"
        },
        "id": "0-eSw9OyfHQ4",
        "outputId": "84cd5306-9449-4756-ad99-42f12c207051"
      },
      "outputs": [
        {
          "output_type": "stream",
          "name": "stdout",
          "text": [
            "0.8360655737704918\n"
          ]
        }
      ],
      "source": [
        "# Get accuracy of optimized KNN\n",
        "predKNN_Cdataset = optimizedKNN_Cdataset.predict(xTest_Cdataset)\n",
        "accKNN_Cdataset = accuracy_score(np.ravel(yTest_Cdataset), np.ravel(predKNN_Cdataset))\n",
        "print(accKNN_Cdataset)"
      ]
    },
    {
      "cell_type": "code",
      "execution_count": 40,
      "metadata": {
        "colab": {
          "base_uri": "https://localhost:8080/"
        },
        "id": "ur7RwL5dfNap",
        "outputId": "ea3c5f48-91f6-4197-bf12-f36b0d1d15f8"
      },
      "outputs": [
        {
          "output_type": "stream",
          "name": "stdout",
          "text": [
            "0.78125\n"
          ]
        }
      ],
      "source": [
        "# Get precision of optimized KNN\n",
        "precKNN_Cdataset = precision_score(np.ravel(yTest_Cdataset), np.ravel(predKNN_Cdataset))\n",
        "print(precKNN_Cdataset)"
      ]
    },
    {
      "cell_type": "code",
      "execution_count": 41,
      "metadata": {
        "colab": {
          "base_uri": "https://localhost:8080/"
        },
        "id": "DpEnGfZnfYEe",
        "outputId": "52ccec74-2e3c-4285-cb88-ac2c49a1f74d"
      },
      "outputs": [
        {
          "output_type": "stream",
          "name": "stdout",
          "text": [
            "0.8928571428571429\n"
          ]
        }
      ],
      "source": [
        "# Get recall of optimized KNN\n",
        "recallKNN_Cdataset = recall_score(np.ravel(yTest_Cdataset), np.ravel(predKNN_Cdataset))\n",
        "print(recallKNN_Cdataset)"
      ]
    },
    {
      "cell_type": "code",
      "execution_count": 42,
      "metadata": {
        "colab": {
          "base_uri": "https://localhost:8080/"
        },
        "id": "q6Bjg39Tfare",
        "outputId": "7b1aea48-8d84-4c42-8462-36f31f234ed1"
      },
      "outputs": [
        {
          "output_type": "stream",
          "name": "stdout",
          "text": [
            "0.8333333333333334\n"
          ]
        }
      ],
      "source": [
        "# Get f1-score of optimized KNN\n",
        "f1KNN_Cdataset = f1_score(np.ravel(yTest_Cdataset), np.ravel(predKNN_Cdataset))\n",
        "print(f1KNN_Cdataset)"
      ]
    },
    {
      "cell_type": "markdown",
      "metadata": {
        "id": "iph7SVxgkcLe"
      },
      "source": [
        "Logistic Regression (LR) Model for UCIML Repo Heart Disease Dataset\n",
        "\n",
        "---\n",
        "\n"
      ]
    },
    {
      "cell_type": "code",
      "execution_count": 43,
      "metadata": {
        "colab": {
          "base_uri": "https://localhost:8080/"
        },
        "id": "-piHofICOHLL",
        "outputId": "976990e0-ac2c-4ea0-b312-e0a2366e4f34"
      },
      "outputs": [
        {
          "output_type": "stream",
          "name": "stdout",
          "text": [
            "{'C': 1, 'solver': 'lbfgs'}\n"
          ]
        }
      ],
      "source": [
        "# LR hyperparameter tuning\n",
        "optimizedLR_Cdataset, optimizedLRparameters_Cdataset = tuneParameters(LRmodel, LRparameters, xTrain_Cdataset, yTrain_Cdataset)\n",
        "print(optimizedLRparameters_Cdataset)"
      ]
    },
    {
      "cell_type": "code",
      "execution_count": 44,
      "metadata": {
        "colab": {
          "base_uri": "https://localhost:8080/"
        },
        "id": "tp_piwJdP5V6",
        "outputId": "24c9cbaa-d425-4e29-e976-7560c3e0e766"
      },
      "outputs": [
        {
          "output_type": "stream",
          "name": "stdout",
          "text": [
            "0.8360655737704918\n"
          ]
        }
      ],
      "source": [
        "# Get accuracy of optimized LR\n",
        "predLR_Cdataset = optimizedLR_Cdataset.predict(xTest_Cdataset)\n",
        "accLR_Cdataset = accuracy_score(np.ravel(yTest_Cdataset), np.ravel(predLR_Cdataset))\n",
        "print(accLR_Cdataset)"
      ]
    },
    {
      "cell_type": "code",
      "execution_count": 45,
      "metadata": {
        "colab": {
          "base_uri": "https://localhost:8080/"
        },
        "id": "twETW_a5P_J1",
        "outputId": "13ad3bb4-f4d0-4142-c962-5c3bf6c7c49f"
      },
      "outputs": [
        {
          "output_type": "stream",
          "name": "stdout",
          "text": [
            "0.8214285714285714\n"
          ]
        }
      ],
      "source": [
        "# Get precision of optimized LR\n",
        "precLR_Cdataset = precision_score(np.ravel(yTest_Cdataset), np.ravel(predLR_Cdataset))\n",
        "print(precLR_Cdataset)"
      ]
    },
    {
      "cell_type": "code",
      "execution_count": 46,
      "metadata": {
        "colab": {
          "base_uri": "https://localhost:8080/"
        },
        "id": "j35f1vDzQECo",
        "outputId": "945b7da1-534d-4c02-aef4-4b4a353135ed"
      },
      "outputs": [
        {
          "output_type": "stream",
          "name": "stdout",
          "text": [
            "0.8214285714285714\n"
          ]
        }
      ],
      "source": [
        "# Get recall of optimized LR\n",
        "recallLR_Cdataset = recall_score(np.ravel(yTest_Cdataset), np.ravel(predLR_Cdataset))\n",
        "print(recallLR_Cdataset)"
      ]
    },
    {
      "cell_type": "code",
      "execution_count": 47,
      "metadata": {
        "colab": {
          "base_uri": "https://localhost:8080/"
        },
        "id": "jGN1OkDDQRao",
        "outputId": "6a2f3c27-4d75-4650-e15d-77eead49f95f"
      },
      "outputs": [
        {
          "output_type": "stream",
          "name": "stdout",
          "text": [
            "0.8214285714285714\n"
          ]
        }
      ],
      "source": [
        "# Get f1-score of optimized LR\n",
        "f1LR_Cdataset = f1_score(np.ravel(yTest_Cdataset), np.ravel(predLR_Cdataset))\n",
        "print(f1LR_Cdataset)"
      ]
    },
    {
      "cell_type": "markdown",
      "metadata": {
        "id": "zegEP5ihksBb"
      },
      "source": [
        "Start of Coding for UCIML Repo Stalog Heart Disease Dataset\n",
        "\n",
        "---\n",
        "\n"
      ]
    },
    {
      "cell_type": "code",
      "execution_count": 314,
      "metadata": {
        "id": "jegy2gctfD87"
      },
      "outputs": [],
      "source": [
        "# Fetch Statlog dataset fron UCI\n",
        "statlog_heart = fetch_ucirepo(id=145)\n",
        "X_Sdataset = statlog_heart.data.features\n",
        "Y_Sdataset = statlog_heart.data.targets\n",
        "\n",
        "df_Sdataset = X_Sdataset.join(Y_Sdataset)"
      ]
    },
    {
      "cell_type": "markdown",
      "metadata": {
        "id": "6qJ1JPjWmEWv"
      },
      "source": [
        "Data Cleaning and Preprocessing for UCIML Repo Stalog Heart Disease Dataset\n",
        "\n",
        "---\n",
        "\n"
      ]
    },
    {
      "cell_type": "code",
      "source": [
        "df_Sdataset.describe()"
      ],
      "metadata": {
        "colab": {
          "base_uri": "https://localhost:8080/",
          "height": 300
        },
        "id": "KOhgoqGskY2I",
        "outputId": "3b1c651a-92e5-4f56-be31-c88d7c3a1c1d"
      },
      "execution_count": 315,
      "outputs": [
        {
          "output_type": "execute_result",
          "data": {
            "text/plain": [
              "              age         sex  chest-pain     rest-bp  serum-chol  \\\n",
              "count  270.000000  270.000000  270.000000  270.000000  270.000000   \n",
              "mean    54.433333    0.677778    3.174074  131.344444  249.659259   \n",
              "std      9.109067    0.468195    0.950090   17.861608   51.686237   \n",
              "min     29.000000    0.000000    1.000000   94.000000  126.000000   \n",
              "25%     48.000000    0.000000    3.000000  120.000000  213.000000   \n",
              "50%     55.000000    1.000000    3.000000  130.000000  245.000000   \n",
              "75%     61.000000    1.000000    4.000000  140.000000  280.000000   \n",
              "max     77.000000    1.000000    4.000000  200.000000  564.000000   \n",
              "\n",
              "       fasting-blood-sugar  electrocardiographic  max-heart-rate      angina  \\\n",
              "count           270.000000            270.000000      270.000000  270.000000   \n",
              "mean              0.148148              1.022222      149.677778    0.329630   \n",
              "std               0.355906              0.997891       23.165717    0.470952   \n",
              "min               0.000000              0.000000       71.000000    0.000000   \n",
              "25%               0.000000              0.000000      133.000000    0.000000   \n",
              "50%               0.000000              2.000000      153.500000    0.000000   \n",
              "75%               0.000000              2.000000      166.000000    1.000000   \n",
              "max               1.000000              2.000000      202.000000    1.000000   \n",
              "\n",
              "         oldpeak       slope  major-vessels        thal  heart-disease  \n",
              "count  270.00000  270.000000     270.000000  270.000000     270.000000  \n",
              "mean     1.05000    1.585185       0.670370    4.696296       1.444444  \n",
              "std      1.14521    0.614390       0.943896    1.940659       0.497827  \n",
              "min      0.00000    1.000000       0.000000    3.000000       1.000000  \n",
              "25%      0.00000    1.000000       0.000000    3.000000       1.000000  \n",
              "50%      0.80000    2.000000       0.000000    3.000000       1.000000  \n",
              "75%      1.60000    2.000000       1.000000    7.000000       2.000000  \n",
              "max      6.20000    3.000000       3.000000    7.000000       2.000000  "
            ],
            "text/html": [
              "\n",
              "  <div id=\"df-56a95227-1851-40f6-9612-c7fcc70396ab\" class=\"colab-df-container\">\n",
              "    <div>\n",
              "<style scoped>\n",
              "    .dataframe tbody tr th:only-of-type {\n",
              "        vertical-align: middle;\n",
              "    }\n",
              "\n",
              "    .dataframe tbody tr th {\n",
              "        vertical-align: top;\n",
              "    }\n",
              "\n",
              "    .dataframe thead th {\n",
              "        text-align: right;\n",
              "    }\n",
              "</style>\n",
              "<table border=\"1\" class=\"dataframe\">\n",
              "  <thead>\n",
              "    <tr style=\"text-align: right;\">\n",
              "      <th></th>\n",
              "      <th>age</th>\n",
              "      <th>sex</th>\n",
              "      <th>chest-pain</th>\n",
              "      <th>rest-bp</th>\n",
              "      <th>serum-chol</th>\n",
              "      <th>fasting-blood-sugar</th>\n",
              "      <th>electrocardiographic</th>\n",
              "      <th>max-heart-rate</th>\n",
              "      <th>angina</th>\n",
              "      <th>oldpeak</th>\n",
              "      <th>slope</th>\n",
              "      <th>major-vessels</th>\n",
              "      <th>thal</th>\n",
              "      <th>heart-disease</th>\n",
              "    </tr>\n",
              "  </thead>\n",
              "  <tbody>\n",
              "    <tr>\n",
              "      <th>count</th>\n",
              "      <td>270.000000</td>\n",
              "      <td>270.000000</td>\n",
              "      <td>270.000000</td>\n",
              "      <td>270.000000</td>\n",
              "      <td>270.000000</td>\n",
              "      <td>270.000000</td>\n",
              "      <td>270.000000</td>\n",
              "      <td>270.000000</td>\n",
              "      <td>270.000000</td>\n",
              "      <td>270.00000</td>\n",
              "      <td>270.000000</td>\n",
              "      <td>270.000000</td>\n",
              "      <td>270.000000</td>\n",
              "      <td>270.000000</td>\n",
              "    </tr>\n",
              "    <tr>\n",
              "      <th>mean</th>\n",
              "      <td>54.433333</td>\n",
              "      <td>0.677778</td>\n",
              "      <td>3.174074</td>\n",
              "      <td>131.344444</td>\n",
              "      <td>249.659259</td>\n",
              "      <td>0.148148</td>\n",
              "      <td>1.022222</td>\n",
              "      <td>149.677778</td>\n",
              "      <td>0.329630</td>\n",
              "      <td>1.05000</td>\n",
              "      <td>1.585185</td>\n",
              "      <td>0.670370</td>\n",
              "      <td>4.696296</td>\n",
              "      <td>1.444444</td>\n",
              "    </tr>\n",
              "    <tr>\n",
              "      <th>std</th>\n",
              "      <td>9.109067</td>\n",
              "      <td>0.468195</td>\n",
              "      <td>0.950090</td>\n",
              "      <td>17.861608</td>\n",
              "      <td>51.686237</td>\n",
              "      <td>0.355906</td>\n",
              "      <td>0.997891</td>\n",
              "      <td>23.165717</td>\n",
              "      <td>0.470952</td>\n",
              "      <td>1.14521</td>\n",
              "      <td>0.614390</td>\n",
              "      <td>0.943896</td>\n",
              "      <td>1.940659</td>\n",
              "      <td>0.497827</td>\n",
              "    </tr>\n",
              "    <tr>\n",
              "      <th>min</th>\n",
              "      <td>29.000000</td>\n",
              "      <td>0.000000</td>\n",
              "      <td>1.000000</td>\n",
              "      <td>94.000000</td>\n",
              "      <td>126.000000</td>\n",
              "      <td>0.000000</td>\n",
              "      <td>0.000000</td>\n",
              "      <td>71.000000</td>\n",
              "      <td>0.000000</td>\n",
              "      <td>0.00000</td>\n",
              "      <td>1.000000</td>\n",
              "      <td>0.000000</td>\n",
              "      <td>3.000000</td>\n",
              "      <td>1.000000</td>\n",
              "    </tr>\n",
              "    <tr>\n",
              "      <th>25%</th>\n",
              "      <td>48.000000</td>\n",
              "      <td>0.000000</td>\n",
              "      <td>3.000000</td>\n",
              "      <td>120.000000</td>\n",
              "      <td>213.000000</td>\n",
              "      <td>0.000000</td>\n",
              "      <td>0.000000</td>\n",
              "      <td>133.000000</td>\n",
              "      <td>0.000000</td>\n",
              "      <td>0.00000</td>\n",
              "      <td>1.000000</td>\n",
              "      <td>0.000000</td>\n",
              "      <td>3.000000</td>\n",
              "      <td>1.000000</td>\n",
              "    </tr>\n",
              "    <tr>\n",
              "      <th>50%</th>\n",
              "      <td>55.000000</td>\n",
              "      <td>1.000000</td>\n",
              "      <td>3.000000</td>\n",
              "      <td>130.000000</td>\n",
              "      <td>245.000000</td>\n",
              "      <td>0.000000</td>\n",
              "      <td>2.000000</td>\n",
              "      <td>153.500000</td>\n",
              "      <td>0.000000</td>\n",
              "      <td>0.80000</td>\n",
              "      <td>2.000000</td>\n",
              "      <td>0.000000</td>\n",
              "      <td>3.000000</td>\n",
              "      <td>1.000000</td>\n",
              "    </tr>\n",
              "    <tr>\n",
              "      <th>75%</th>\n",
              "      <td>61.000000</td>\n",
              "      <td>1.000000</td>\n",
              "      <td>4.000000</td>\n",
              "      <td>140.000000</td>\n",
              "      <td>280.000000</td>\n",
              "      <td>0.000000</td>\n",
              "      <td>2.000000</td>\n",
              "      <td>166.000000</td>\n",
              "      <td>1.000000</td>\n",
              "      <td>1.60000</td>\n",
              "      <td>2.000000</td>\n",
              "      <td>1.000000</td>\n",
              "      <td>7.000000</td>\n",
              "      <td>2.000000</td>\n",
              "    </tr>\n",
              "    <tr>\n",
              "      <th>max</th>\n",
              "      <td>77.000000</td>\n",
              "      <td>1.000000</td>\n",
              "      <td>4.000000</td>\n",
              "      <td>200.000000</td>\n",
              "      <td>564.000000</td>\n",
              "      <td>1.000000</td>\n",
              "      <td>2.000000</td>\n",
              "      <td>202.000000</td>\n",
              "      <td>1.000000</td>\n",
              "      <td>6.20000</td>\n",
              "      <td>3.000000</td>\n",
              "      <td>3.000000</td>\n",
              "      <td>7.000000</td>\n",
              "      <td>2.000000</td>\n",
              "    </tr>\n",
              "  </tbody>\n",
              "</table>\n",
              "</div>\n",
              "    <div class=\"colab-df-buttons\">\n",
              "\n",
              "  <div class=\"colab-df-container\">\n",
              "    <button class=\"colab-df-convert\" onclick=\"convertToInteractive('df-56a95227-1851-40f6-9612-c7fcc70396ab')\"\n",
              "            title=\"Convert this dataframe to an interactive table.\"\n",
              "            style=\"display:none;\">\n",
              "\n",
              "  <svg xmlns=\"http://www.w3.org/2000/svg\" height=\"24px\" viewBox=\"0 -960 960 960\">\n",
              "    <path d=\"M120-120v-720h720v720H120Zm60-500h600v-160H180v160Zm220 220h160v-160H400v160Zm0 220h160v-160H400v160ZM180-400h160v-160H180v160Zm440 0h160v-160H620v160ZM180-180h160v-160H180v160Zm440 0h160v-160H620v160Z\"/>\n",
              "  </svg>\n",
              "    </button>\n",
              "\n",
              "  <style>\n",
              "    .colab-df-container {\n",
              "      display:flex;\n",
              "      gap: 12px;\n",
              "    }\n",
              "\n",
              "    .colab-df-convert {\n",
              "      background-color: #E8F0FE;\n",
              "      border: none;\n",
              "      border-radius: 50%;\n",
              "      cursor: pointer;\n",
              "      display: none;\n",
              "      fill: #1967D2;\n",
              "      height: 32px;\n",
              "      padding: 0 0 0 0;\n",
              "      width: 32px;\n",
              "    }\n",
              "\n",
              "    .colab-df-convert:hover {\n",
              "      background-color: #E2EBFA;\n",
              "      box-shadow: 0px 1px 2px rgba(60, 64, 67, 0.3), 0px 1px 3px 1px rgba(60, 64, 67, 0.15);\n",
              "      fill: #174EA6;\n",
              "    }\n",
              "\n",
              "    .colab-df-buttons div {\n",
              "      margin-bottom: 4px;\n",
              "    }\n",
              "\n",
              "    [theme=dark] .colab-df-convert {\n",
              "      background-color: #3B4455;\n",
              "      fill: #D2E3FC;\n",
              "    }\n",
              "\n",
              "    [theme=dark] .colab-df-convert:hover {\n",
              "      background-color: #434B5C;\n",
              "      box-shadow: 0px 1px 3px 1px rgba(0, 0, 0, 0.15);\n",
              "      filter: drop-shadow(0px 1px 2px rgba(0, 0, 0, 0.3));\n",
              "      fill: #FFFFFF;\n",
              "    }\n",
              "  </style>\n",
              "\n",
              "    <script>\n",
              "      const buttonEl =\n",
              "        document.querySelector('#df-56a95227-1851-40f6-9612-c7fcc70396ab button.colab-df-convert');\n",
              "      buttonEl.style.display =\n",
              "        google.colab.kernel.accessAllowed ? 'block' : 'none';\n",
              "\n",
              "      async function convertToInteractive(key) {\n",
              "        const element = document.querySelector('#df-56a95227-1851-40f6-9612-c7fcc70396ab');\n",
              "        const dataTable =\n",
              "          await google.colab.kernel.invokeFunction('convertToInteractive',\n",
              "                                                    [key], {});\n",
              "        if (!dataTable) return;\n",
              "\n",
              "        const docLinkHtml = 'Like what you see? Visit the ' +\n",
              "          '<a target=\"_blank\" href=https://colab.research.google.com/notebooks/data_table.ipynb>data table notebook</a>'\n",
              "          + ' to learn more about interactive tables.';\n",
              "        element.innerHTML = '';\n",
              "        dataTable['output_type'] = 'display_data';\n",
              "        await google.colab.output.renderOutput(dataTable, element);\n",
              "        const docLink = document.createElement('div');\n",
              "        docLink.innerHTML = docLinkHtml;\n",
              "        element.appendChild(docLink);\n",
              "      }\n",
              "    </script>\n",
              "  </div>\n",
              "\n",
              "\n",
              "<div id=\"df-4e45aa91-33b5-4ec5-aa1e-60c7241debe4\">\n",
              "  <button class=\"colab-df-quickchart\" onclick=\"quickchart('df-4e45aa91-33b5-4ec5-aa1e-60c7241debe4')\"\n",
              "            title=\"Suggest charts\"\n",
              "            style=\"display:none;\">\n",
              "\n",
              "<svg xmlns=\"http://www.w3.org/2000/svg\" height=\"24px\"viewBox=\"0 0 24 24\"\n",
              "     width=\"24px\">\n",
              "    <g>\n",
              "        <path d=\"M19 3H5c-1.1 0-2 .9-2 2v14c0 1.1.9 2 2 2h14c1.1 0 2-.9 2-2V5c0-1.1-.9-2-2-2zM9 17H7v-7h2v7zm4 0h-2V7h2v10zm4 0h-2v-4h2v4z\"/>\n",
              "    </g>\n",
              "</svg>\n",
              "  </button>\n",
              "\n",
              "<style>\n",
              "  .colab-df-quickchart {\n",
              "      --bg-color: #E8F0FE;\n",
              "      --fill-color: #1967D2;\n",
              "      --hover-bg-color: #E2EBFA;\n",
              "      --hover-fill-color: #174EA6;\n",
              "      --disabled-fill-color: #AAA;\n",
              "      --disabled-bg-color: #DDD;\n",
              "  }\n",
              "\n",
              "  [theme=dark] .colab-df-quickchart {\n",
              "      --bg-color: #3B4455;\n",
              "      --fill-color: #D2E3FC;\n",
              "      --hover-bg-color: #434B5C;\n",
              "      --hover-fill-color: #FFFFFF;\n",
              "      --disabled-bg-color: #3B4455;\n",
              "      --disabled-fill-color: #666;\n",
              "  }\n",
              "\n",
              "  .colab-df-quickchart {\n",
              "    background-color: var(--bg-color);\n",
              "    border: none;\n",
              "    border-radius: 50%;\n",
              "    cursor: pointer;\n",
              "    display: none;\n",
              "    fill: var(--fill-color);\n",
              "    height: 32px;\n",
              "    padding: 0;\n",
              "    width: 32px;\n",
              "  }\n",
              "\n",
              "  .colab-df-quickchart:hover {\n",
              "    background-color: var(--hover-bg-color);\n",
              "    box-shadow: 0 1px 2px rgba(60, 64, 67, 0.3), 0 1px 3px 1px rgba(60, 64, 67, 0.15);\n",
              "    fill: var(--button-hover-fill-color);\n",
              "  }\n",
              "\n",
              "  .colab-df-quickchart-complete:disabled,\n",
              "  .colab-df-quickchart-complete:disabled:hover {\n",
              "    background-color: var(--disabled-bg-color);\n",
              "    fill: var(--disabled-fill-color);\n",
              "    box-shadow: none;\n",
              "  }\n",
              "\n",
              "  .colab-df-spinner {\n",
              "    border: 2px solid var(--fill-color);\n",
              "    border-color: transparent;\n",
              "    border-bottom-color: var(--fill-color);\n",
              "    animation:\n",
              "      spin 1s steps(1) infinite;\n",
              "  }\n",
              "\n",
              "  @keyframes spin {\n",
              "    0% {\n",
              "      border-color: transparent;\n",
              "      border-bottom-color: var(--fill-color);\n",
              "      border-left-color: var(--fill-color);\n",
              "    }\n",
              "    20% {\n",
              "      border-color: transparent;\n",
              "      border-left-color: var(--fill-color);\n",
              "      border-top-color: var(--fill-color);\n",
              "    }\n",
              "    30% {\n",
              "      border-color: transparent;\n",
              "      border-left-color: var(--fill-color);\n",
              "      border-top-color: var(--fill-color);\n",
              "      border-right-color: var(--fill-color);\n",
              "    }\n",
              "    40% {\n",
              "      border-color: transparent;\n",
              "      border-right-color: var(--fill-color);\n",
              "      border-top-color: var(--fill-color);\n",
              "    }\n",
              "    60% {\n",
              "      border-color: transparent;\n",
              "      border-right-color: var(--fill-color);\n",
              "    }\n",
              "    80% {\n",
              "      border-color: transparent;\n",
              "      border-right-color: var(--fill-color);\n",
              "      border-bottom-color: var(--fill-color);\n",
              "    }\n",
              "    90% {\n",
              "      border-color: transparent;\n",
              "      border-bottom-color: var(--fill-color);\n",
              "    }\n",
              "  }\n",
              "</style>\n",
              "\n",
              "  <script>\n",
              "    async function quickchart(key) {\n",
              "      const quickchartButtonEl =\n",
              "        document.querySelector('#' + key + ' button');\n",
              "      quickchartButtonEl.disabled = true;  // To prevent multiple clicks.\n",
              "      quickchartButtonEl.classList.add('colab-df-spinner');\n",
              "      try {\n",
              "        const charts = await google.colab.kernel.invokeFunction(\n",
              "            'suggestCharts', [key], {});\n",
              "      } catch (error) {\n",
              "        console.error('Error during call to suggestCharts:', error);\n",
              "      }\n",
              "      quickchartButtonEl.classList.remove('colab-df-spinner');\n",
              "      quickchartButtonEl.classList.add('colab-df-quickchart-complete');\n",
              "    }\n",
              "    (() => {\n",
              "      let quickchartButtonEl =\n",
              "        document.querySelector('#df-4e45aa91-33b5-4ec5-aa1e-60c7241debe4 button');\n",
              "      quickchartButtonEl.style.display =\n",
              "        google.colab.kernel.accessAllowed ? 'block' : 'none';\n",
              "    })();\n",
              "  </script>\n",
              "</div>\n",
              "    </div>\n",
              "  </div>\n"
            ],
            "application/vnd.google.colaboratory.intrinsic+json": {
              "type": "dataframe",
              "summary": "{\n  \"name\": \"df_Sdataset\",\n  \"rows\": 8,\n  \"fields\": [\n    {\n      \"column\": \"age\",\n      \"properties\": {\n        \"dtype\": \"number\",\n        \"std\": 81.26942345199373,\n        \"min\": 9.109066523898207,\n        \"max\": 270.0,\n        \"num_unique_values\": 8,\n        \"samples\": [\n          54.43333333333333,\n          55.0,\n          270.0\n        ],\n        \"semantic_type\": \"\",\n        \"description\": \"\"\n      }\n    },\n    {\n      \"column\": \"sex\",\n      \"properties\": {\n        \"dtype\": \"number\",\n        \"std\": 95.2509293265246,\n        \"min\": 0.0,\n        \"max\": 270.0,\n        \"num_unique_values\": 5,\n        \"samples\": [\n          0.6777777777777778,\n          1.0,\n          0.46819540715526964\n        ],\n        \"semantic_type\": \"\",\n        \"description\": \"\"\n      }\n    },\n    {\n      \"column\": \"chest-pain\",\n      \"properties\": {\n        \"dtype\": \"number\",\n        \"std\": 94.50085383847582,\n        \"min\": 0.9500900339228638,\n        \"max\": 270.0,\n        \"num_unique_values\": 6,\n        \"samples\": [\n          270.0,\n          3.174074074074074,\n          4.0\n        ],\n        \"semantic_type\": \"\",\n        \"description\": \"\"\n      }\n    },\n    {\n      \"column\": \"rest-bp\",\n      \"properties\": {\n        \"dtype\": \"number\",\n        \"std\": 73.75001286945506,\n        \"min\": 17.861608292800856,\n        \"max\": 270.0,\n        \"num_unique_values\": 8,\n        \"samples\": [\n          131.34444444444443,\n          130.0,\n          270.0\n        ],\n        \"semantic_type\": \"\",\n        \"description\": \"\"\n      }\n    },\n    {\n      \"column\": \"serum-chol\",\n      \"properties\": {\n        \"dtype\": \"number\",\n        \"std\": 149.28133129211267,\n        \"min\": 51.68623711643124,\n        \"max\": 564.0,\n        \"num_unique_values\": 8,\n        \"samples\": [\n          249.65925925925927,\n          245.0,\n          270.0\n        ],\n        \"semantic_type\": \"\",\n        \"description\": \"\"\n      }\n    },\n    {\n      \"column\": \"fasting-blood-sugar\",\n      \"properties\": {\n        \"dtype\": \"number\",\n        \"std\": 95.38406737093332,\n        \"min\": 0.0,\n        \"max\": 270.0,\n        \"num_unique_values\": 5,\n        \"samples\": [\n          0.14814814814814814,\n          1.0,\n          0.3559064769707314\n        ],\n        \"semantic_type\": \"\",\n        \"description\": \"\"\n      }\n    },\n    {\n      \"column\": \"electrocardiographic\",\n      \"properties\": {\n        \"dtype\": \"number\",\n        \"std\": 95.05798440282962,\n        \"min\": 0.0,\n        \"max\": 270.0,\n        \"num_unique_values\": 5,\n        \"samples\": [\n          1.0222222222222221,\n          2.0,\n          0.9978912089661108\n        ],\n        \"semantic_type\": \"\",\n        \"description\": \"\"\n      }\n    },\n    {\n      \"column\": \"max-heart-rate\",\n      \"properties\": {\n        \"dtype\": \"number\",\n        \"std\": 75.46429849953576,\n        \"min\": 23.165716775120096,\n        \"max\": 270.0,\n        \"num_unique_values\": 8,\n        \"samples\": [\n          149.67777777777778,\n          153.5,\n          270.0\n        ],\n        \"semantic_type\": \"\",\n        \"description\": \"\"\n      }\n    },\n    {\n      \"column\": \"angina\",\n      \"properties\": {\n        \"dtype\": \"number\",\n        \"std\": 95.31887147268549,\n        \"min\": 0.0,\n        \"max\": 270.0,\n        \"num_unique_values\": 5,\n        \"samples\": [\n          0.3296296296296296,\n          1.0,\n          0.4709515913013828\n        ],\n        \"semantic_type\": \"\",\n        \"description\": \"\"\n      }\n    },\n    {\n      \"column\": \"oldpeak\",\n      \"properties\": {\n        \"dtype\": \"number\",\n        \"std\": 94.93479737767666,\n        \"min\": 0.0,\n        \"max\": 270.0,\n        \"num_unique_values\": 7,\n        \"samples\": [\n          270.0,\n          1.05,\n          1.6\n        ],\n        \"semantic_type\": \"\",\n        \"description\": \"\"\n      }\n    },\n    {\n      \"column\": \"slope\",\n      \"properties\": {\n        \"dtype\": \"number\",\n        \"std\": 94.89674099688874,\n        \"min\": 0.6143898376781299,\n        \"max\": 270.0,\n        \"num_unique_values\": 6,\n        \"samples\": [\n          270.0,\n          1.5851851851851853,\n          3.0\n        ],\n        \"semantic_type\": \"\",\n        \"description\": \"\"\n      }\n    },\n    {\n      \"column\": \"major-vessels\",\n      \"properties\": {\n        \"dtype\": \"number\",\n        \"std\": 95.18098349387779,\n        \"min\": 0.0,\n        \"max\": 270.0,\n        \"num_unique_values\": 6,\n        \"samples\": [\n          270.0,\n          0.6703703703703704,\n          3.0\n        ],\n        \"semantic_type\": \"\",\n        \"description\": \"\"\n      }\n    },\n    {\n      \"column\": \"thal\",\n      \"properties\": {\n        \"dtype\": \"number\",\n        \"std\": 93.9817864087276,\n        \"min\": 1.9406589693457776,\n        \"max\": 270.0,\n        \"num_unique_values\": 5,\n        \"samples\": [\n          4.696296296296296,\n          7.0,\n          1.9406589693457776\n        ],\n        \"semantic_type\": \"\",\n        \"description\": \"\"\n      }\n    },\n    {\n      \"column\": \"heart-disease\",\n      \"properties\": {\n        \"dtype\": \"number\",\n        \"std\": 95.0091991175648,\n        \"min\": 0.4978267515886163,\n        \"max\": 270.0,\n        \"num_unique_values\": 5,\n        \"samples\": [\n          1.4444444444444444,\n          2.0,\n          0.4978267515886163\n        ],\n        \"semantic_type\": \"\",\n        \"description\": \"\"\n      }\n    }\n  ]\n}"
            }
          },
          "metadata": {},
          "execution_count": 315
        }
      ]
    },
    {
      "cell_type": "code",
      "execution_count": null,
      "metadata": {
        "colab": {
          "base_uri": "https://localhost:8080/"
        },
        "id": "c7sgvPTAQYJb",
        "outputId": "f848c009-8e16-45f8-b944-6ce6a2c87a8d"
      },
      "outputs": [
        {
          "name": "stdout",
          "output_type": "stream",
          "text": [
            "0\n"
          ]
        }
      ],
      "source": [
        "# Check for null values\n",
        "print(df_Sdataset.isna().sum().sum())"
      ]
    },
    {
      "cell_type": "markdown",
      "metadata": {
        "id": "N6iucUI8mINE"
      },
      "source": [
        "No need for KNN-Imputer since dataset contains no null values"
      ]
    },
    {
      "cell_type": "code",
      "execution_count": 49,
      "metadata": {
        "id": "5njsKlUdQ8Az"
      },
      "outputs": [],
      "source": [
        "# Split into x and y\n",
        "X_Sdataset = df_Sdataset.drop('heart-disease', axis=1)\n",
        "Y_Sdataset = df_Sdataset['heart-disease']"
      ]
    },
    {
      "cell_type": "code",
      "execution_count": 50,
      "metadata": {
        "id": "Ie3zvpZDREji"
      },
      "outputs": [],
      "source": [
        "# Split into train and test\n",
        "xTrain_Sdataset, xTest_Sdataset, yTrain_Sdataset, yTest_Sdataset = train_test_split(X_Sdataset, Y_Sdataset, test_size=0.2, random_state=0, stratify=Y_Sdataset)"
      ]
    },
    {
      "cell_type": "code",
      "execution_count": 51,
      "metadata": {
        "id": "1w-iiuG8RbLD"
      },
      "outputs": [],
      "source": [
        "# Standardization\n",
        "xTrain_Sdataset[:] = scaler.fit_transform(xTrain_Sdataset)\n",
        "xTest_Sdataset[:] = scaler.transform(xTest_Sdataset)"
      ]
    },
    {
      "cell_type": "code",
      "execution_count": 52,
      "metadata": {
        "id": "KW8bVHdQl5bx"
      },
      "outputs": [],
      "source": [
        "# Undersampling and Oversampling\n",
        "xTrain_Sdataset, yTrain_Sdataset = underSampler.fit_resample(xTrain_Sdataset, yTrain_Sdataset)\n",
        "xTrain_Sdataset, yTrain_Sdataset = overSampler.fit_resample(xTrain_Sdataset, yTrain_Sdataset)"
      ]
    },
    {
      "cell_type": "markdown",
      "metadata": {
        "id": "SnlplcCkkxj_"
      },
      "source": [
        "Decision Tree (DT) Model for UCIML Repo Stalog Heart Disease Dataset\n",
        "\n",
        "---\n",
        "\n"
      ]
    },
    {
      "cell_type": "code",
      "execution_count": 53,
      "metadata": {
        "colab": {
          "base_uri": "https://localhost:8080/"
        },
        "id": "XTsr1UtiR5xV",
        "outputId": "e5897197-582e-49a4-e9ee-4eea695d3f79"
      },
      "outputs": [
        {
          "output_type": "stream",
          "name": "stdout",
          "text": [
            "{'criterion': 'gini', 'max_depth': 1, 'max_leaf_nodes': 2, 'min_samples_leaf': 1, 'min_samples_split': 2}\n"
          ]
        }
      ],
      "source": [
        "# DT parameter tuning\n",
        "optimizedDT_Sdataset, optimizedDTparameters_Sdataset = tuneParameters(DTmodel, DTparameters, xTrain_Sdataset, yTrain_Sdataset)\n",
        "print(optimizedDTparameters_Sdataset)"
      ]
    },
    {
      "cell_type": "code",
      "execution_count": 54,
      "metadata": {
        "colab": {
          "base_uri": "https://localhost:8080/"
        },
        "id": "LevnjUVdSDkC",
        "outputId": "81233199-095e-4971-fbcf-369b276d906f"
      },
      "outputs": [
        {
          "output_type": "stream",
          "name": "stdout",
          "text": [
            "0.6851851851851852\n"
          ]
        }
      ],
      "source": [
        "# Get accuracy of optimized DT\n",
        "predDT_Sdataset = optimizedDT_Sdataset.predict(xTest_Sdataset)\n",
        "accDT_Sdataset = accuracy_score(np.ravel(yTest_Sdataset), np.ravel(predDT_Sdataset))\n",
        "print(accDT_Sdataset)"
      ]
    },
    {
      "cell_type": "code",
      "execution_count": 55,
      "metadata": {
        "colab": {
          "base_uri": "https://localhost:8080/"
        },
        "id": "oribApNDSSPE",
        "outputId": "2a17ff76-f31c-47a3-d18f-87e9071008dd"
      },
      "outputs": [
        {
          "output_type": "stream",
          "name": "stdout",
          "text": [
            "0.696969696969697\n"
          ]
        }
      ],
      "source": [
        "# Get precision of optimized DT\n",
        "precDT_Sdataset = precision_score(np.ravel(yTest_Sdataset), np.ravel(predDT_Sdataset))\n",
        "print(precDT_Sdataset)"
      ]
    },
    {
      "cell_type": "code",
      "execution_count": 56,
      "metadata": {
        "colab": {
          "base_uri": "https://localhost:8080/"
        },
        "id": "vY8tuuzMTTfa",
        "outputId": "5d415872-624b-4fcb-d057-a953e8b39579"
      },
      "outputs": [
        {
          "output_type": "stream",
          "name": "stdout",
          "text": [
            "0.7666666666666667\n"
          ]
        }
      ],
      "source": [
        "# Get recall of optimized DT\n",
        "recallDT_Sdataset = recall_score(np.ravel(yTest_Sdataset), np.ravel(predDT_Sdataset))\n",
        "print(recallDT_Sdataset)"
      ]
    },
    {
      "cell_type": "code",
      "execution_count": 57,
      "metadata": {
        "colab": {
          "base_uri": "https://localhost:8080/"
        },
        "id": "cMJKbnohTYZC",
        "outputId": "212f561d-ca76-4a46-b72b-bb96f1eb1deb"
      },
      "outputs": [
        {
          "output_type": "stream",
          "name": "stdout",
          "text": [
            "0.7301587301587302\n"
          ]
        }
      ],
      "source": [
        "# Get f1-score of optimized DT\n",
        "f1DT_Sdataset = f1_score(np.ravel(yTest_Sdataset), np.ravel(predDT_Sdataset))\n",
        "print(f1DT_Sdataset)"
      ]
    },
    {
      "cell_type": "markdown",
      "metadata": {
        "id": "pOlXViILk57c"
      },
      "source": [
        "Random Forest (RF) Model for UCIML Repo Stalog Heart Disease Dataset\n",
        "\n",
        "---\n",
        "\n",
        "\n"
      ]
    },
    {
      "cell_type": "code",
      "execution_count": 58,
      "metadata": {
        "colab": {
          "base_uri": "https://localhost:8080/"
        },
        "id": "5gKKUjdxTblq",
        "outputId": "646737ae-db3c-48e4-9c86-84bf2f0ca35f"
      },
      "outputs": [
        {
          "output_type": "stream",
          "name": "stdout",
          "text": [
            "{'bootstrap': True, 'criterion': 'entropy', 'max_depth': 4, 'min_samples_leaf': 1, 'min_samples_split': 5, 'n_estimators': 100}\n"
          ]
        }
      ],
      "source": [
        "# RF parameter tuning\n",
        "optimizedRF_Sdataset, optimizedRFparameters_Sdataset = tuneParameters(RFmodel, RFparameters, xTrain_Sdataset, yTrain_Sdataset)\n",
        "print(optimizedRFparameters_Sdataset)"
      ]
    },
    {
      "cell_type": "code",
      "execution_count": 59,
      "metadata": {
        "colab": {
          "base_uri": "https://localhost:8080/"
        },
        "id": "i96Q-ynjTghG",
        "outputId": "3930e413-e989-4459-81d4-16f675261fa6"
      },
      "outputs": [
        {
          "output_type": "stream",
          "name": "stdout",
          "text": [
            "0.8148148148148148\n"
          ]
        }
      ],
      "source": [
        "# Get accuracy of optimized RF\n",
        "predRF_Sdataset = optimizedRF_Sdataset.predict(xTest_Sdataset)\n",
        "accRF_Sdataset = accuracy_score(np.ravel(yTest_Sdataset), np.ravel(predRF_Sdataset))\n",
        "print(accRF_Sdataset)"
      ]
    },
    {
      "cell_type": "code",
      "execution_count": 60,
      "metadata": {
        "colab": {
          "base_uri": "https://localhost:8080/"
        },
        "id": "JMo2uO_VTmTN",
        "outputId": "cee611b7-7e59-41ac-9116-7ff7ef2d90c6"
      },
      "outputs": [
        {
          "output_type": "stream",
          "name": "stdout",
          "text": [
            "0.8125\n"
          ]
        }
      ],
      "source": [
        "# Get precision of optimized RF\n",
        "precRF_Sdataset = precision_score(np.ravel(yTest_Sdataset), np.ravel(predRF_Sdataset))\n",
        "print(precRF_Sdataset)"
      ]
    },
    {
      "cell_type": "code",
      "execution_count": 61,
      "metadata": {
        "colab": {
          "base_uri": "https://localhost:8080/"
        },
        "id": "N1HvFihbZHkx",
        "outputId": "de7538c2-f23c-4880-bfa6-e7aba8204c8b"
      },
      "outputs": [
        {
          "output_type": "stream",
          "name": "stdout",
          "text": [
            "0.8666666666666667\n"
          ]
        }
      ],
      "source": [
        "# Get recall of optimized RF\n",
        "recallRF_Sdataset = recall_score(np.ravel(yTest_Sdataset), np.ravel(predRF_Sdataset))\n",
        "print(recallRF_Sdataset)"
      ]
    },
    {
      "cell_type": "code",
      "execution_count": 62,
      "metadata": {
        "colab": {
          "base_uri": "https://localhost:8080/"
        },
        "id": "k0bknZZeZLH1",
        "outputId": "f1619871-f4b3-4715-959e-25116838d0d2"
      },
      "outputs": [
        {
          "output_type": "stream",
          "name": "stdout",
          "text": [
            "0.8387096774193549\n"
          ]
        }
      ],
      "source": [
        "# Get f1-score of optimized RF\n",
        "f1RF_Sdataset = f1_score(np.ravel(yTest_Sdataset), np.ravel(predRF_Sdataset))\n",
        "print(f1RF_Sdataset)"
      ]
    },
    {
      "cell_type": "markdown",
      "metadata": {
        "id": "9EllkXkPk7Uy"
      },
      "source": [
        "Support Vector Machine (SVM) Model for UCIML Repo Stalog Heart Disease Dataset\n",
        "\n",
        "---\n",
        "\n",
        "\n",
        "\n",
        "\n"
      ]
    },
    {
      "cell_type": "code",
      "execution_count": 63,
      "metadata": {
        "colab": {
          "base_uri": "https://localhost:8080/"
        },
        "id": "ZH1n0r-WZPOn",
        "outputId": "d7d18d3f-7748-4c3c-c438-76da3a522e25"
      },
      "outputs": [
        {
          "output_type": "stream",
          "name": "stdout",
          "text": [
            "{'C': 100, 'gamma': 0.001}\n"
          ]
        }
      ],
      "source": [
        "# SVM parameter tuning\n",
        "optimizedSVM_Sdataset, optimizedSVMparameters_Sdataset = tuneParameters(SVMmodel, SVMparameters, xTrain_Sdataset, yTrain_Sdataset)\n",
        "print(optimizedSVMparameters_Sdataset)"
      ]
    },
    {
      "cell_type": "code",
      "execution_count": 64,
      "metadata": {
        "colab": {
          "base_uri": "https://localhost:8080/"
        },
        "id": "kod75yEGZcza",
        "outputId": "6b46035c-18b7-4a5d-ed57-821227a1ea27"
      },
      "outputs": [
        {
          "output_type": "stream",
          "name": "stdout",
          "text": [
            "0.7962962962962963\n"
          ]
        }
      ],
      "source": [
        "# Get accuracy of optimized SVM\n",
        "predSVM_Sdataset = optimizedSVM_Sdataset.predict(xTest_Sdataset)\n",
        "accSVM_Sdataset = accuracy_score(np.ravel(yTest_Sdataset), np.ravel(predSVM_Sdataset))\n",
        "print(accSVM_Sdataset)"
      ]
    },
    {
      "cell_type": "code",
      "execution_count": 65,
      "metadata": {
        "colab": {
          "base_uri": "https://localhost:8080/"
        },
        "id": "LW0xhi1IZh0F",
        "outputId": "bdd69f1f-a05f-4c02-91ba-9a08dcd0ed61"
      },
      "outputs": [
        {
          "output_type": "stream",
          "name": "stdout",
          "text": [
            "0.8064516129032258\n"
          ]
        }
      ],
      "source": [
        "# Get precision of optimized SVM\n",
        "precSVM_Sdataset = precision_score(np.ravel(yTest_Sdataset), np.ravel(predSVM_Sdataset))\n",
        "print(precSVM_Sdataset)"
      ]
    },
    {
      "cell_type": "code",
      "execution_count": 66,
      "metadata": {
        "colab": {
          "base_uri": "https://localhost:8080/"
        },
        "id": "WGfLRw71ZlzM",
        "outputId": "6173d98e-de8b-4bdb-f880-d7588e07b289"
      },
      "outputs": [
        {
          "output_type": "stream",
          "name": "stdout",
          "text": [
            "0.8333333333333334\n"
          ]
        }
      ],
      "source": [
        "# Get recall of optimized SVM\n",
        "recallSVM_Sdataset = recall_score(np.ravel(yTest_Sdataset), np.ravel(predSVM_Sdataset))\n",
        "print(recallSVM_Sdataset)"
      ]
    },
    {
      "cell_type": "code",
      "execution_count": 67,
      "metadata": {
        "colab": {
          "base_uri": "https://localhost:8080/"
        },
        "id": "552jdKxEZpMP",
        "outputId": "ca9ec7f3-5a39-471a-ff09-ea5e48b4d1b9"
      },
      "outputs": [
        {
          "output_type": "stream",
          "name": "stdout",
          "text": [
            "0.819672131147541\n"
          ]
        }
      ],
      "source": [
        "# Get f1-score of optimized SVM\n",
        "f1SVM_Sdataset = f1_score(np.ravel(yTest_Sdataset), np.ravel(predSVM_Sdataset))\n",
        "print(f1SVM_Sdataset)"
      ]
    },
    {
      "cell_type": "markdown",
      "metadata": {
        "id": "VYPhX-Dnk_o1"
      },
      "source": [
        "K-Nearest Neighbor (KNN) Model for UCIML Repo Stalog Heart Disease Dataset\n",
        "\n",
        "---\n",
        "\n",
        "\n"
      ]
    },
    {
      "cell_type": "code",
      "execution_count": 68,
      "metadata": {
        "colab": {
          "base_uri": "https://localhost:8080/"
        },
        "id": "JLqr7kWQhpuu",
        "outputId": "f3bc7d47-997c-4435-9393-5114a84f0e1c"
      },
      "outputs": [
        {
          "output_type": "stream",
          "name": "stdout",
          "text": [
            "{'leaf_size': 10, 'n_neighbors': 29, 'weights': 'distance'}\n"
          ]
        }
      ],
      "source": [
        "# KNN hyperparameter tuning\n",
        "optimizedKNN_Sdataset, optimizedKNNparameters_Sdataset = tuneParameters(KNNmodel, KNNparameters, xTrain_Sdataset, yTrain_Sdataset)\n",
        "print(optimizedKNNparameters_Sdataset)"
      ]
    },
    {
      "cell_type": "code",
      "execution_count": 69,
      "metadata": {
        "colab": {
          "base_uri": "https://localhost:8080/"
        },
        "id": "9RXHw3Eyhns7",
        "outputId": "124577fc-5286-4e2c-a1b9-fcc136ffe2d6"
      },
      "outputs": [
        {
          "output_type": "stream",
          "name": "stdout",
          "text": [
            "0.8148148148148148\n"
          ]
        }
      ],
      "source": [
        "# Get accuracy of optimized KNN\n",
        "predKNN_Sdataset = optimizedKNN_Sdataset.predict(xTest_Sdataset)\n",
        "accKNN_Sdataset = accuracy_score(np.ravel(yTest_Sdataset), np.ravel(predKNN_Sdataset))\n",
        "print(accKNN_Sdataset)"
      ]
    },
    {
      "cell_type": "code",
      "execution_count": 70,
      "metadata": {
        "colab": {
          "base_uri": "https://localhost:8080/"
        },
        "id": "P3IedLebh0OX",
        "outputId": "b5570a18-27fc-4fe5-8ff2-acbfcee42f1e"
      },
      "outputs": [
        {
          "output_type": "stream",
          "name": "stdout",
          "text": [
            "0.8333333333333334\n"
          ]
        }
      ],
      "source": [
        "# Get precision of optimized KNN\n",
        "precKNN_Sdataset = precision_score(np.ravel(yTest_Sdataset), np.ravel(predKNN_Sdataset))\n",
        "print(precKNN_Sdataset)"
      ]
    },
    {
      "cell_type": "code",
      "execution_count": 71,
      "metadata": {
        "colab": {
          "base_uri": "https://localhost:8080/"
        },
        "id": "BBac0Vy2h4jg",
        "outputId": "53437c0f-0c37-4507-9d2d-7319f08e6150"
      },
      "outputs": [
        {
          "output_type": "stream",
          "name": "stdout",
          "text": [
            "0.8333333333333334\n"
          ]
        }
      ],
      "source": [
        "# Get recall of optimized KNN\n",
        "recallKNN_Sdataset = recall_score(np.ravel(yTest_Sdataset), np.ravel(predKNN_Sdataset))\n",
        "print(recallKNN_Sdataset)"
      ]
    },
    {
      "cell_type": "code",
      "execution_count": 72,
      "metadata": {
        "colab": {
          "base_uri": "https://localhost:8080/"
        },
        "id": "Ad9kLGqoh8Ew",
        "outputId": "930707ce-b459-4c90-a6c4-cd2926af9aee"
      },
      "outputs": [
        {
          "output_type": "stream",
          "name": "stdout",
          "text": [
            "0.8333333333333334\n"
          ]
        }
      ],
      "source": [
        "# Get f1-score of optimized KNN\n",
        "f1KNN_Sdataset = f1_score(np.ravel(yTest_Sdataset), np.ravel(predKNN_Sdataset))\n",
        "print(f1KNN_Sdataset)"
      ]
    },
    {
      "cell_type": "markdown",
      "metadata": {
        "id": "2xIkuEGSlBij"
      },
      "source": [
        "Logistic Regression (LR) Model for UCIML Repo Stalog Heart Disease Dataset\n",
        "\n",
        "---\n",
        "\n"
      ]
    },
    {
      "cell_type": "code",
      "execution_count": 73,
      "metadata": {
        "colab": {
          "base_uri": "https://localhost:8080/"
        },
        "id": "1TfFcfgUZsnv",
        "outputId": "92ad0182-6fc9-4456-e06d-6ea195116485"
      },
      "outputs": [
        {
          "output_type": "stream",
          "name": "stdout",
          "text": [
            "{'C': 1, 'solver': 'lbfgs'}\n"
          ]
        }
      ],
      "source": [
        "# LR parameter tuning\n",
        "optimizedLR_Sdataset, optimizedLRparameters_Sdataset = tuneParameters(LRmodel, LRparameters, xTrain_Sdataset, yTrain_Sdataset)\n",
        "print(optimizedLRparameters_Sdataset)"
      ]
    },
    {
      "cell_type": "code",
      "execution_count": 74,
      "metadata": {
        "colab": {
          "base_uri": "https://localhost:8080/"
        },
        "id": "KsGT2Ut7ZxaO",
        "outputId": "7758d8d0-ea65-4300-e706-8ef89a9f595b"
      },
      "outputs": [
        {
          "output_type": "stream",
          "name": "stdout",
          "text": [
            "0.7962962962962963\n"
          ]
        }
      ],
      "source": [
        "# Get accuracy of optimized LR\n",
        "predLR_Sdataset = optimizedLR_Sdataset.predict(xTest_Sdataset)\n",
        "accLR_Sdataset = accuracy_score(np.ravel(yTest_Sdataset), np.ravel(predLR_Sdataset))\n",
        "print(accLR_Sdataset)"
      ]
    },
    {
      "cell_type": "code",
      "execution_count": 75,
      "metadata": {
        "colab": {
          "base_uri": "https://localhost:8080/"
        },
        "id": "5XnBNz93aGhh",
        "outputId": "8371912d-1c2c-4f02-94bb-ac6d0ab5fca6"
      },
      "outputs": [
        {
          "output_type": "stream",
          "name": "stdout",
          "text": [
            "0.8064516129032258\n"
          ]
        }
      ],
      "source": [
        "# Get precision of optimized LR\n",
        "precLR_Sdataset = precision_score(np.ravel(yTest_Sdataset), np.ravel(predLR_Sdataset))\n",
        "print(precLR_Sdataset)"
      ]
    },
    {
      "cell_type": "code",
      "execution_count": 76,
      "metadata": {
        "colab": {
          "base_uri": "https://localhost:8080/"
        },
        "id": "NI9vsRRsaKYe",
        "outputId": "82b9a2a3-335f-4be7-b21d-022ebdb56bb2"
      },
      "outputs": [
        {
          "output_type": "stream",
          "name": "stdout",
          "text": [
            "0.8333333333333334\n"
          ]
        }
      ],
      "source": [
        "# Get recall of optimized LR\n",
        "recallLR_Sdataset = recall_score(np.ravel(yTest_Sdataset), np.ravel(predLR_Sdataset))\n",
        "print(recallLR_Sdataset)"
      ]
    },
    {
      "cell_type": "code",
      "execution_count": 77,
      "metadata": {
        "colab": {
          "base_uri": "https://localhost:8080/"
        },
        "id": "Xu14fVNDaOsn",
        "outputId": "fa4e45c1-4c57-4039-b954-d92e5a7eea2e"
      },
      "outputs": [
        {
          "output_type": "stream",
          "name": "stdout",
          "text": [
            "0.819672131147541\n"
          ]
        }
      ],
      "source": [
        "# Get f1-score of optimized LR\n",
        "f1LR_Sdataset = f1_score(np.ravel(yTest_Sdataset), np.ravel(predLR_Sdataset))\n",
        "print(f1LR_Sdataset)"
      ]
    },
    {
      "cell_type": "markdown",
      "metadata": {
        "id": "U1j0MA-5kz92"
      },
      "source": [
        "Start of Coding for Framingham Heart Disease Dataset\n",
        "\n",
        "---\n",
        "\n"
      ]
    },
    {
      "cell_type": "code",
      "execution_count": null,
      "metadata": {
        "colab": {
          "base_uri": "https://localhost:8080/"
        },
        "id": "kh5SwkfxPyVU",
        "outputId": "c68ce988-595f-4370-b1f3-da24734fc136"
      },
      "outputs": [
        {
          "name": "stdout",
          "output_type": "stream",
          "text": [
            "Mounted at /content/drive\n"
          ]
        }
      ],
      "source": [
        "# Mount drive for Framingham dataset\n",
        "drive.mount('/content/drive')"
      ]
    },
    {
      "cell_type": "code",
      "execution_count": 328,
      "metadata": {
        "id": "Mwe8P5wNRJnd"
      },
      "outputs": [],
      "source": [
        "# Fetch Framingham dataset from drive\n",
        "df_Fdataset = pd.read_csv('drive/MyDrive/framingham.csv')"
      ]
    },
    {
      "cell_type": "markdown",
      "metadata": {
        "id": "fO4oVfX2l8g1"
      },
      "source": [
        "Data Cleaning and Preprocessing for Framingham Heart Disease Dataset\n",
        "\n",
        "---\n",
        "\n"
      ]
    },
    {
      "cell_type": "code",
      "source": [
        "df_Fdataset.describe()"
      ],
      "metadata": {
        "colab": {
          "base_uri": "https://localhost:8080/",
          "height": 300
        },
        "id": "RSBjcWW9kjpf",
        "outputId": "0356c4f2-64c3-4bb9-b153-da8e8bd5e541"
      },
      "execution_count": 318,
      "outputs": [
        {
          "output_type": "execute_result",
          "data": {
            "text/plain": [
              "              male          age    education  currentSmoker   cigsPerDay  \\\n",
              "count  4240.000000  4240.000000  4135.000000    4240.000000  4211.000000   \n",
              "mean      0.429245    49.580189     1.979444       0.494104     9.005937   \n",
              "std       0.495027     8.572942     1.019791       0.500024    11.922462   \n",
              "min       0.000000    32.000000     1.000000       0.000000     0.000000   \n",
              "25%       0.000000    42.000000     1.000000       0.000000     0.000000   \n",
              "50%       0.000000    49.000000     2.000000       0.000000     0.000000   \n",
              "75%       1.000000    56.000000     3.000000       1.000000    20.000000   \n",
              "max       1.000000    70.000000     4.000000       1.000000    70.000000   \n",
              "\n",
              "            BPMeds  prevalentStroke  prevalentHyp     diabetes      totChol  \\\n",
              "count  4187.000000      4240.000000   4240.000000  4240.000000  4190.000000   \n",
              "mean      0.029615         0.005896      0.310613     0.025708   236.699523   \n",
              "std       0.169544         0.076569      0.462799     0.158280    44.591284   \n",
              "min       0.000000         0.000000      0.000000     0.000000   107.000000   \n",
              "25%       0.000000         0.000000      0.000000     0.000000   206.000000   \n",
              "50%       0.000000         0.000000      0.000000     0.000000   234.000000   \n",
              "75%       0.000000         0.000000      1.000000     0.000000   263.000000   \n",
              "max       1.000000         1.000000      1.000000     1.000000   696.000000   \n",
              "\n",
              "             sysBP        diaBP          BMI    heartRate      glucose  \\\n",
              "count  4240.000000  4240.000000  4221.000000  4239.000000  3852.000000   \n",
              "mean    132.354599    82.897759    25.800801    75.878981    81.963655   \n",
              "std      22.033300    11.910394     4.079840    12.025348    23.954335   \n",
              "min      83.500000    48.000000    15.540000    44.000000    40.000000   \n",
              "25%     117.000000    75.000000    23.070000    68.000000    71.000000   \n",
              "50%     128.000000    82.000000    25.400000    75.000000    78.000000   \n",
              "75%     144.000000    90.000000    28.040000    83.000000    87.000000   \n",
              "max     295.000000   142.500000    56.800000   143.000000   394.000000   \n",
              "\n",
              "        TenYearCHD  \n",
              "count  4240.000000  \n",
              "mean      0.151887  \n",
              "std       0.358953  \n",
              "min       0.000000  \n",
              "25%       0.000000  \n",
              "50%       0.000000  \n",
              "75%       0.000000  \n",
              "max       1.000000  "
            ],
            "text/html": [
              "\n",
              "  <div id=\"df-00cdf889-a61d-4f4f-b518-b76fcb69a722\" class=\"colab-df-container\">\n",
              "    <div>\n",
              "<style scoped>\n",
              "    .dataframe tbody tr th:only-of-type {\n",
              "        vertical-align: middle;\n",
              "    }\n",
              "\n",
              "    .dataframe tbody tr th {\n",
              "        vertical-align: top;\n",
              "    }\n",
              "\n",
              "    .dataframe thead th {\n",
              "        text-align: right;\n",
              "    }\n",
              "</style>\n",
              "<table border=\"1\" class=\"dataframe\">\n",
              "  <thead>\n",
              "    <tr style=\"text-align: right;\">\n",
              "      <th></th>\n",
              "      <th>male</th>\n",
              "      <th>age</th>\n",
              "      <th>education</th>\n",
              "      <th>currentSmoker</th>\n",
              "      <th>cigsPerDay</th>\n",
              "      <th>BPMeds</th>\n",
              "      <th>prevalentStroke</th>\n",
              "      <th>prevalentHyp</th>\n",
              "      <th>diabetes</th>\n",
              "      <th>totChol</th>\n",
              "      <th>sysBP</th>\n",
              "      <th>diaBP</th>\n",
              "      <th>BMI</th>\n",
              "      <th>heartRate</th>\n",
              "      <th>glucose</th>\n",
              "      <th>TenYearCHD</th>\n",
              "    </tr>\n",
              "  </thead>\n",
              "  <tbody>\n",
              "    <tr>\n",
              "      <th>count</th>\n",
              "      <td>4240.000000</td>\n",
              "      <td>4240.000000</td>\n",
              "      <td>4135.000000</td>\n",
              "      <td>4240.000000</td>\n",
              "      <td>4211.000000</td>\n",
              "      <td>4187.000000</td>\n",
              "      <td>4240.000000</td>\n",
              "      <td>4240.000000</td>\n",
              "      <td>4240.000000</td>\n",
              "      <td>4190.000000</td>\n",
              "      <td>4240.000000</td>\n",
              "      <td>4240.000000</td>\n",
              "      <td>4221.000000</td>\n",
              "      <td>4239.000000</td>\n",
              "      <td>3852.000000</td>\n",
              "      <td>4240.000000</td>\n",
              "    </tr>\n",
              "    <tr>\n",
              "      <th>mean</th>\n",
              "      <td>0.429245</td>\n",
              "      <td>49.580189</td>\n",
              "      <td>1.979444</td>\n",
              "      <td>0.494104</td>\n",
              "      <td>9.005937</td>\n",
              "      <td>0.029615</td>\n",
              "      <td>0.005896</td>\n",
              "      <td>0.310613</td>\n",
              "      <td>0.025708</td>\n",
              "      <td>236.699523</td>\n",
              "      <td>132.354599</td>\n",
              "      <td>82.897759</td>\n",
              "      <td>25.800801</td>\n",
              "      <td>75.878981</td>\n",
              "      <td>81.963655</td>\n",
              "      <td>0.151887</td>\n",
              "    </tr>\n",
              "    <tr>\n",
              "      <th>std</th>\n",
              "      <td>0.495027</td>\n",
              "      <td>8.572942</td>\n",
              "      <td>1.019791</td>\n",
              "      <td>0.500024</td>\n",
              "      <td>11.922462</td>\n",
              "      <td>0.169544</td>\n",
              "      <td>0.076569</td>\n",
              "      <td>0.462799</td>\n",
              "      <td>0.158280</td>\n",
              "      <td>44.591284</td>\n",
              "      <td>22.033300</td>\n",
              "      <td>11.910394</td>\n",
              "      <td>4.079840</td>\n",
              "      <td>12.025348</td>\n",
              "      <td>23.954335</td>\n",
              "      <td>0.358953</td>\n",
              "    </tr>\n",
              "    <tr>\n",
              "      <th>min</th>\n",
              "      <td>0.000000</td>\n",
              "      <td>32.000000</td>\n",
              "      <td>1.000000</td>\n",
              "      <td>0.000000</td>\n",
              "      <td>0.000000</td>\n",
              "      <td>0.000000</td>\n",
              "      <td>0.000000</td>\n",
              "      <td>0.000000</td>\n",
              "      <td>0.000000</td>\n",
              "      <td>107.000000</td>\n",
              "      <td>83.500000</td>\n",
              "      <td>48.000000</td>\n",
              "      <td>15.540000</td>\n",
              "      <td>44.000000</td>\n",
              "      <td>40.000000</td>\n",
              "      <td>0.000000</td>\n",
              "    </tr>\n",
              "    <tr>\n",
              "      <th>25%</th>\n",
              "      <td>0.000000</td>\n",
              "      <td>42.000000</td>\n",
              "      <td>1.000000</td>\n",
              "      <td>0.000000</td>\n",
              "      <td>0.000000</td>\n",
              "      <td>0.000000</td>\n",
              "      <td>0.000000</td>\n",
              "      <td>0.000000</td>\n",
              "      <td>0.000000</td>\n",
              "      <td>206.000000</td>\n",
              "      <td>117.000000</td>\n",
              "      <td>75.000000</td>\n",
              "      <td>23.070000</td>\n",
              "      <td>68.000000</td>\n",
              "      <td>71.000000</td>\n",
              "      <td>0.000000</td>\n",
              "    </tr>\n",
              "    <tr>\n",
              "      <th>50%</th>\n",
              "      <td>0.000000</td>\n",
              "      <td>49.000000</td>\n",
              "      <td>2.000000</td>\n",
              "      <td>0.000000</td>\n",
              "      <td>0.000000</td>\n",
              "      <td>0.000000</td>\n",
              "      <td>0.000000</td>\n",
              "      <td>0.000000</td>\n",
              "      <td>0.000000</td>\n",
              "      <td>234.000000</td>\n",
              "      <td>128.000000</td>\n",
              "      <td>82.000000</td>\n",
              "      <td>25.400000</td>\n",
              "      <td>75.000000</td>\n",
              "      <td>78.000000</td>\n",
              "      <td>0.000000</td>\n",
              "    </tr>\n",
              "    <tr>\n",
              "      <th>75%</th>\n",
              "      <td>1.000000</td>\n",
              "      <td>56.000000</td>\n",
              "      <td>3.000000</td>\n",
              "      <td>1.000000</td>\n",
              "      <td>20.000000</td>\n",
              "      <td>0.000000</td>\n",
              "      <td>0.000000</td>\n",
              "      <td>1.000000</td>\n",
              "      <td>0.000000</td>\n",
              "      <td>263.000000</td>\n",
              "      <td>144.000000</td>\n",
              "      <td>90.000000</td>\n",
              "      <td>28.040000</td>\n",
              "      <td>83.000000</td>\n",
              "      <td>87.000000</td>\n",
              "      <td>0.000000</td>\n",
              "    </tr>\n",
              "    <tr>\n",
              "      <th>max</th>\n",
              "      <td>1.000000</td>\n",
              "      <td>70.000000</td>\n",
              "      <td>4.000000</td>\n",
              "      <td>1.000000</td>\n",
              "      <td>70.000000</td>\n",
              "      <td>1.000000</td>\n",
              "      <td>1.000000</td>\n",
              "      <td>1.000000</td>\n",
              "      <td>1.000000</td>\n",
              "      <td>696.000000</td>\n",
              "      <td>295.000000</td>\n",
              "      <td>142.500000</td>\n",
              "      <td>56.800000</td>\n",
              "      <td>143.000000</td>\n",
              "      <td>394.000000</td>\n",
              "      <td>1.000000</td>\n",
              "    </tr>\n",
              "  </tbody>\n",
              "</table>\n",
              "</div>\n",
              "    <div class=\"colab-df-buttons\">\n",
              "\n",
              "  <div class=\"colab-df-container\">\n",
              "    <button class=\"colab-df-convert\" onclick=\"convertToInteractive('df-00cdf889-a61d-4f4f-b518-b76fcb69a722')\"\n",
              "            title=\"Convert this dataframe to an interactive table.\"\n",
              "            style=\"display:none;\">\n",
              "\n",
              "  <svg xmlns=\"http://www.w3.org/2000/svg\" height=\"24px\" viewBox=\"0 -960 960 960\">\n",
              "    <path d=\"M120-120v-720h720v720H120Zm60-500h600v-160H180v160Zm220 220h160v-160H400v160Zm0 220h160v-160H400v160ZM180-400h160v-160H180v160Zm440 0h160v-160H620v160ZM180-180h160v-160H180v160Zm440 0h160v-160H620v160Z\"/>\n",
              "  </svg>\n",
              "    </button>\n",
              "\n",
              "  <style>\n",
              "    .colab-df-container {\n",
              "      display:flex;\n",
              "      gap: 12px;\n",
              "    }\n",
              "\n",
              "    .colab-df-convert {\n",
              "      background-color: #E8F0FE;\n",
              "      border: none;\n",
              "      border-radius: 50%;\n",
              "      cursor: pointer;\n",
              "      display: none;\n",
              "      fill: #1967D2;\n",
              "      height: 32px;\n",
              "      padding: 0 0 0 0;\n",
              "      width: 32px;\n",
              "    }\n",
              "\n",
              "    .colab-df-convert:hover {\n",
              "      background-color: #E2EBFA;\n",
              "      box-shadow: 0px 1px 2px rgba(60, 64, 67, 0.3), 0px 1px 3px 1px rgba(60, 64, 67, 0.15);\n",
              "      fill: #174EA6;\n",
              "    }\n",
              "\n",
              "    .colab-df-buttons div {\n",
              "      margin-bottom: 4px;\n",
              "    }\n",
              "\n",
              "    [theme=dark] .colab-df-convert {\n",
              "      background-color: #3B4455;\n",
              "      fill: #D2E3FC;\n",
              "    }\n",
              "\n",
              "    [theme=dark] .colab-df-convert:hover {\n",
              "      background-color: #434B5C;\n",
              "      box-shadow: 0px 1px 3px 1px rgba(0, 0, 0, 0.15);\n",
              "      filter: drop-shadow(0px 1px 2px rgba(0, 0, 0, 0.3));\n",
              "      fill: #FFFFFF;\n",
              "    }\n",
              "  </style>\n",
              "\n",
              "    <script>\n",
              "      const buttonEl =\n",
              "        document.querySelector('#df-00cdf889-a61d-4f4f-b518-b76fcb69a722 button.colab-df-convert');\n",
              "      buttonEl.style.display =\n",
              "        google.colab.kernel.accessAllowed ? 'block' : 'none';\n",
              "\n",
              "      async function convertToInteractive(key) {\n",
              "        const element = document.querySelector('#df-00cdf889-a61d-4f4f-b518-b76fcb69a722');\n",
              "        const dataTable =\n",
              "          await google.colab.kernel.invokeFunction('convertToInteractive',\n",
              "                                                    [key], {});\n",
              "        if (!dataTable) return;\n",
              "\n",
              "        const docLinkHtml = 'Like what you see? Visit the ' +\n",
              "          '<a target=\"_blank\" href=https://colab.research.google.com/notebooks/data_table.ipynb>data table notebook</a>'\n",
              "          + ' to learn more about interactive tables.';\n",
              "        element.innerHTML = '';\n",
              "        dataTable['output_type'] = 'display_data';\n",
              "        await google.colab.output.renderOutput(dataTable, element);\n",
              "        const docLink = document.createElement('div');\n",
              "        docLink.innerHTML = docLinkHtml;\n",
              "        element.appendChild(docLink);\n",
              "      }\n",
              "    </script>\n",
              "  </div>\n",
              "\n",
              "\n",
              "<div id=\"df-1c9beeca-ae35-47d9-89fc-d81993b262aa\">\n",
              "  <button class=\"colab-df-quickchart\" onclick=\"quickchart('df-1c9beeca-ae35-47d9-89fc-d81993b262aa')\"\n",
              "            title=\"Suggest charts\"\n",
              "            style=\"display:none;\">\n",
              "\n",
              "<svg xmlns=\"http://www.w3.org/2000/svg\" height=\"24px\"viewBox=\"0 0 24 24\"\n",
              "     width=\"24px\">\n",
              "    <g>\n",
              "        <path d=\"M19 3H5c-1.1 0-2 .9-2 2v14c0 1.1.9 2 2 2h14c1.1 0 2-.9 2-2V5c0-1.1-.9-2-2-2zM9 17H7v-7h2v7zm4 0h-2V7h2v10zm4 0h-2v-4h2v4z\"/>\n",
              "    </g>\n",
              "</svg>\n",
              "  </button>\n",
              "\n",
              "<style>\n",
              "  .colab-df-quickchart {\n",
              "      --bg-color: #E8F0FE;\n",
              "      --fill-color: #1967D2;\n",
              "      --hover-bg-color: #E2EBFA;\n",
              "      --hover-fill-color: #174EA6;\n",
              "      --disabled-fill-color: #AAA;\n",
              "      --disabled-bg-color: #DDD;\n",
              "  }\n",
              "\n",
              "  [theme=dark] .colab-df-quickchart {\n",
              "      --bg-color: #3B4455;\n",
              "      --fill-color: #D2E3FC;\n",
              "      --hover-bg-color: #434B5C;\n",
              "      --hover-fill-color: #FFFFFF;\n",
              "      --disabled-bg-color: #3B4455;\n",
              "      --disabled-fill-color: #666;\n",
              "  }\n",
              "\n",
              "  .colab-df-quickchart {\n",
              "    background-color: var(--bg-color);\n",
              "    border: none;\n",
              "    border-radius: 50%;\n",
              "    cursor: pointer;\n",
              "    display: none;\n",
              "    fill: var(--fill-color);\n",
              "    height: 32px;\n",
              "    padding: 0;\n",
              "    width: 32px;\n",
              "  }\n",
              "\n",
              "  .colab-df-quickchart:hover {\n",
              "    background-color: var(--hover-bg-color);\n",
              "    box-shadow: 0 1px 2px rgba(60, 64, 67, 0.3), 0 1px 3px 1px rgba(60, 64, 67, 0.15);\n",
              "    fill: var(--button-hover-fill-color);\n",
              "  }\n",
              "\n",
              "  .colab-df-quickchart-complete:disabled,\n",
              "  .colab-df-quickchart-complete:disabled:hover {\n",
              "    background-color: var(--disabled-bg-color);\n",
              "    fill: var(--disabled-fill-color);\n",
              "    box-shadow: none;\n",
              "  }\n",
              "\n",
              "  .colab-df-spinner {\n",
              "    border: 2px solid var(--fill-color);\n",
              "    border-color: transparent;\n",
              "    border-bottom-color: var(--fill-color);\n",
              "    animation:\n",
              "      spin 1s steps(1) infinite;\n",
              "  }\n",
              "\n",
              "  @keyframes spin {\n",
              "    0% {\n",
              "      border-color: transparent;\n",
              "      border-bottom-color: var(--fill-color);\n",
              "      border-left-color: var(--fill-color);\n",
              "    }\n",
              "    20% {\n",
              "      border-color: transparent;\n",
              "      border-left-color: var(--fill-color);\n",
              "      border-top-color: var(--fill-color);\n",
              "    }\n",
              "    30% {\n",
              "      border-color: transparent;\n",
              "      border-left-color: var(--fill-color);\n",
              "      border-top-color: var(--fill-color);\n",
              "      border-right-color: var(--fill-color);\n",
              "    }\n",
              "    40% {\n",
              "      border-color: transparent;\n",
              "      border-right-color: var(--fill-color);\n",
              "      border-top-color: var(--fill-color);\n",
              "    }\n",
              "    60% {\n",
              "      border-color: transparent;\n",
              "      border-right-color: var(--fill-color);\n",
              "    }\n",
              "    80% {\n",
              "      border-color: transparent;\n",
              "      border-right-color: var(--fill-color);\n",
              "      border-bottom-color: var(--fill-color);\n",
              "    }\n",
              "    90% {\n",
              "      border-color: transparent;\n",
              "      border-bottom-color: var(--fill-color);\n",
              "    }\n",
              "  }\n",
              "</style>\n",
              "\n",
              "  <script>\n",
              "    async function quickchart(key) {\n",
              "      const quickchartButtonEl =\n",
              "        document.querySelector('#' + key + ' button');\n",
              "      quickchartButtonEl.disabled = true;  // To prevent multiple clicks.\n",
              "      quickchartButtonEl.classList.add('colab-df-spinner');\n",
              "      try {\n",
              "        const charts = await google.colab.kernel.invokeFunction(\n",
              "            'suggestCharts', [key], {});\n",
              "      } catch (error) {\n",
              "        console.error('Error during call to suggestCharts:', error);\n",
              "      }\n",
              "      quickchartButtonEl.classList.remove('colab-df-spinner');\n",
              "      quickchartButtonEl.classList.add('colab-df-quickchart-complete');\n",
              "    }\n",
              "    (() => {\n",
              "      let quickchartButtonEl =\n",
              "        document.querySelector('#df-1c9beeca-ae35-47d9-89fc-d81993b262aa button');\n",
              "      quickchartButtonEl.style.display =\n",
              "        google.colab.kernel.accessAllowed ? 'block' : 'none';\n",
              "    })();\n",
              "  </script>\n",
              "</div>\n",
              "    </div>\n",
              "  </div>\n"
            ],
            "application/vnd.google.colaboratory.intrinsic+json": {
              "type": "dataframe",
              "summary": "{\n  \"name\": \"df_Fdataset\",\n  \"rows\": 8,\n  \"fields\": [\n    {\n      \"column\": \"male\",\n      \"properties\": {\n        \"dtype\": \"number\",\n        \"std\": 1498.9187356195594,\n        \"min\": 0.0,\n        \"max\": 4240.0,\n        \"num_unique_values\": 5,\n        \"samples\": [\n          0.42924528301886794,\n          1.0,\n          0.4950268328135282\n        ],\n        \"semantic_type\": \"\",\n        \"description\": \"\"\n      }\n    },\n    {\n      \"column\": \"age\",\n      \"properties\": {\n        \"dtype\": \"number\",\n        \"std\": 1483.6625285814434,\n        \"min\": 8.57294217547334,\n        \"max\": 4240.0,\n        \"num_unique_values\": 8,\n        \"samples\": [\n          49.58018867924528,\n          49.0,\n          4240.0\n        ],\n        \"semantic_type\": \"\",\n        \"description\": \"\"\n      }\n    },\n    {\n      \"column\": \"education\",\n      \"properties\": {\n        \"dtype\": \"number\",\n        \"std\": 1461.236591125946,\n        \"min\": 1.0,\n        \"max\": 4135.0,\n        \"num_unique_values\": 7,\n        \"samples\": [\n          4135.0,\n          1.9794437726723095,\n          3.0\n        ],\n        \"semantic_type\": \"\",\n        \"description\": \"\"\n      }\n    },\n    {\n      \"column\": \"currentSmoker\",\n      \"properties\": {\n        \"dtype\": \"number\",\n        \"std\": 1498.9152076422486,\n        \"min\": 0.0,\n        \"max\": 4240.0,\n        \"num_unique_values\": 5,\n        \"samples\": [\n          0.49410377358490565,\n          1.0,\n          0.5000242019006145\n        ],\n        \"semantic_type\": \"\",\n        \"description\": \"\"\n      }\n    },\n    {\n      \"column\": \"cigsPerDay\",\n      \"properties\": {\n        \"dtype\": \"number\",\n        \"std\": 1483.391919922047,\n        \"min\": 0.0,\n        \"max\": 4211.0,\n        \"num_unique_values\": 6,\n        \"samples\": [\n          4211.0,\n          9.005936832106388,\n          70.0\n        ],\n        \"semantic_type\": \"\",\n        \"description\": \"\"\n      }\n    },\n    {\n      \"column\": \"BPMeds\",\n      \"properties\": {\n        \"dtype\": \"number\",\n        \"std\": 1480.26751947031,\n        \"min\": 0.0,\n        \"max\": 4187.0,\n        \"num_unique_values\": 5,\n        \"samples\": [\n          0.029615476474802963,\n          1.0,\n          0.16954428739626196\n        ],\n        \"semantic_type\": \"\",\n        \"description\": \"\"\n      }\n    },\n    {\n      \"column\": \"prevalentStroke\",\n      \"properties\": {\n        \"dtype\": \"number\",\n        \"std\": 1499.0117433100606,\n        \"min\": 0.0,\n        \"max\": 4240.0,\n        \"num_unique_values\": 5,\n        \"samples\": [\n          0.00589622641509434,\n          1.0,\n          0.0765692084019818\n        ],\n        \"semantic_type\": \"\",\n        \"description\": \"\"\n      }\n    },\n    {\n      \"column\": \"prevalentHyp\",\n      \"properties\": {\n        \"dtype\": \"number\",\n        \"std\": 1498.9263553799317,\n        \"min\": 0.0,\n        \"max\": 4240.0,\n        \"num_unique_values\": 5,\n        \"samples\": [\n          0.3106132075471698,\n          1.0,\n          0.4627992628992856\n        ],\n        \"semantic_type\": \"\",\n        \"description\": \"\"\n      }\n    },\n    {\n      \"column\": \"diabetes\",\n      \"properties\": {\n        \"dtype\": \"number\",\n        \"std\": 1499.0066150440198,\n        \"min\": 0.0,\n        \"max\": 4240.0,\n        \"num_unique_values\": 5,\n        \"samples\": [\n          0.025707547169811322,\n          1.0,\n          0.15828006133169917\n        ],\n        \"semantic_type\": \"\",\n        \"description\": \"\"\n      }\n    },\n    {\n      \"column\": \"totChol\",\n      \"properties\": {\n        \"dtype\": \"number\",\n        \"std\": 1404.601640190698,\n        \"min\": 44.59128386860701,\n        \"max\": 4190.0,\n        \"num_unique_values\": 8,\n        \"samples\": [\n          236.69952267303103,\n          234.0,\n          4190.0\n        ],\n        \"semantic_type\": \"\",\n        \"description\": \"\"\n      }\n    },\n    {\n      \"column\": \"sysBP\",\n      \"properties\": {\n        \"dtype\": \"number\",\n        \"std\": 1454.5383961628752,\n        \"min\": 22.033299608849184,\n        \"max\": 4240.0,\n        \"num_unique_values\": 8,\n        \"samples\": [\n          132.35459905660377,\n          128.0,\n          4240.0\n        ],\n        \"semantic_type\": \"\",\n        \"description\": \"\"\n      }\n    },\n    {\n      \"column\": \"diaBP\",\n      \"properties\": {\n        \"dtype\": \"number\",\n        \"std\": 1472.6461851531444,\n        \"min\": 11.91039448330595,\n        \"max\": 4240.0,\n        \"num_unique_values\": 8,\n        \"samples\": [\n          82.89775943396226,\n          82.0,\n          4240.0\n        ],\n        \"semantic_type\": \"\",\n        \"description\": \"\"\n      }\n    },\n    {\n      \"column\": \"BMI\",\n      \"properties\": {\n        \"dtype\": \"number\",\n        \"std\": 1483.3962465729257,\n        \"min\": 4.079840168944382,\n        \"max\": 4221.0,\n        \"num_unique_values\": 8,\n        \"samples\": [\n          25.80080075811419,\n          25.4,\n          4221.0\n        ],\n        \"semantic_type\": \"\",\n        \"description\": \"\"\n      }\n    },\n    {\n      \"column\": \"heartRate\",\n      \"properties\": {\n        \"dtype\": \"number\",\n        \"std\": 1473.8777618374554,\n        \"min\": 12.025347984469386,\n        \"max\": 4239.0,\n        \"num_unique_values\": 8,\n        \"samples\": [\n          75.87898089171975,\n          75.0,\n          4239.0\n        ],\n        \"semantic_type\": \"\",\n        \"description\": \"\"\n      }\n    },\n    {\n      \"column\": \"glucose\",\n      \"properties\": {\n        \"dtype\": \"number\",\n        \"std\": 1327.9158071204477,\n        \"min\": 23.954334811344744,\n        \"max\": 3852.0,\n        \"num_unique_values\": 8,\n        \"samples\": [\n          81.96365524402907,\n          78.0,\n          3852.0\n        ],\n        \"semantic_type\": \"\",\n        \"description\": \"\"\n      }\n    },\n    {\n      \"column\": \"TenYearCHD\",\n      \"properties\": {\n        \"dtype\": \"number\",\n        \"std\": 1498.990106510972,\n        \"min\": 0.0,\n        \"max\": 4240.0,\n        \"num_unique_values\": 5,\n        \"samples\": [\n          0.15188679245283018,\n          1.0,\n          0.35895345563483705\n        ],\n        \"semantic_type\": \"\",\n        \"description\": \"\"\n      }\n    }\n  ]\n}"
            }
          },
          "metadata": {},
          "execution_count": 318
        }
      ]
    },
    {
      "cell_type": "code",
      "execution_count": null,
      "metadata": {
        "colab": {
          "base_uri": "https://localhost:8080/"
        },
        "id": "091aCkV2Rnr_",
        "outputId": "5005b848-3fec-447e-97e6-50b766664145"
      },
      "outputs": [
        {
          "data": {
            "text/plain": [
              "645"
            ]
          },
          "execution_count": 94,
          "metadata": {},
          "output_type": "execute_result"
        }
      ],
      "source": [
        "# Check for null values\n",
        "df_Fdataset.isnull().sum().sum()"
      ]
    },
    {
      "cell_type": "markdown",
      "metadata": {
        "id": "iW95BFdzM5b3"
      },
      "source": [
        "Implementation of outlier removal in the Framingham dataset following the Literature Review results in worse overall performance (worse accuracy, precision and f1-score)"
      ]
    },
    {
      "cell_type": "code",
      "execution_count": 107,
      "metadata": {
        "id": "Iw4ZAQXiL6A_"
      },
      "outputs": [],
      "source": [
        "# Outlier removal (causes worse performance overall)\n",
        "cols = []\n",
        "\n",
        "for col in df_Fdataset:\n",
        "  if(col != 'TenYearCHD' and (df_Fdataset.dtypes[col] == 'float64' or df_Fdataset.dtypes[col] == 'int64')):\n",
        "    cols.append(col)\n",
        "\n",
        "Q1 = df_Fdataset[cols].quantile(0.25)\n",
        "Q3 = df_Fdataset[cols].quantile(0.75)\n",
        "IQR = Q3 - Q1\n",
        "\n",
        "notOutliers = ~((df_Fdataset[cols] < (Q1 - 1.5 * IQR)) | (df_Fdataset[cols] > (Q3 + 1.5 * IQR))).any(axis=1)\n",
        "\n",
        "df_Fdataset = df_Fdataset[notOutliers]"
      ]
    },
    {
      "cell_type": "markdown",
      "metadata": {
        "id": "nv6ws0hpPYta"
      },
      "source": [
        "Implementation of feature selection in the Framingham dataset following the Literature Review results in no change."
      ]
    },
    {
      "cell_type": "code",
      "execution_count": 205,
      "metadata": {
        "id": "zORQqTwQOaVt"
      },
      "outputs": [],
      "source": [
        "cols = ['sysBP', 'age', 'totChol', 'cigsPerDay', 'diaBP', 'TenYearCHD']\n",
        "df_Fdataset = df_Fdataset[cols]"
      ]
    },
    {
      "cell_type": "code",
      "execution_count": 329,
      "metadata": {
        "id": "6_cwF3WPet4j"
      },
      "outputs": [],
      "source": [
        "# Split into x and y\n",
        "X_Fdataset = df_Fdataset.drop('TenYearCHD', axis=1)\n",
        "Y_Fdataset = df_Fdataset['TenYearCHD']"
      ]
    },
    {
      "cell_type": "code",
      "source": [
        "# Class imbalance\n",
        "print(dict(Counter(Y_Fdataset)))"
      ],
      "metadata": {
        "colab": {
          "base_uri": "https://localhost:8080/"
        },
        "id": "TGBOemFyl6cZ",
        "outputId": "218981ea-230e-4261-ce3c-07614aa80004"
      },
      "execution_count": 330,
      "outputs": [
        {
          "output_type": "stream",
          "name": "stdout",
          "text": [
            "{0: 3596, 1: 644}\n"
          ]
        }
      ]
    },
    {
      "cell_type": "code",
      "execution_count": 323,
      "metadata": {
        "id": "QhkuQdmUe3cU"
      },
      "outputs": [],
      "source": [
        "# Split into train and test\n",
        "xTrain_Fdataset, xTest_Fdataset, yTrain_Fdataset, yTest_Fdataset = train_test_split(X_Fdataset, Y_Fdataset, test_size=0.2, random_state=0, stratify=Y_Fdataset)"
      ]
    },
    {
      "cell_type": "code",
      "execution_count": 324,
      "metadata": {
        "id": "ePFnefQQqz53"
      },
      "outputs": [],
      "source": [
        "# Standardization\n",
        "xTrain_Fdataset[:] = scaler.fit_transform(xTrain_Fdataset)\n",
        "xTest_Fdataset[:] = scaler.transform(xTest_Fdataset)"
      ]
    },
    {
      "cell_type": "code",
      "execution_count": 325,
      "metadata": {
        "id": "PyfoSeuSPY5b"
      },
      "outputs": [],
      "source": [
        "# KNN-imputation\n",
        "train_Fdataset = xTrain_Fdataset.join(yTrain_Fdataset)\n",
        "test_Fdataset = xTest_Fdataset.join(yTest_Fdataset)\n",
        "\n",
        "train_Fdataset[:] = imputer.fit_transform(train_Fdataset)\n",
        "test_Fdataset[:] = imputer.transform(test_Fdataset)\n",
        "\n",
        "xTrain_Fdataset = train_Fdataset.drop('TenYearCHD', axis=1)\n",
        "yTrain_Fdataset = train_Fdataset['TenYearCHD']\n",
        "xTest_Fdataset = test_Fdataset.drop('TenYearCHD', axis=1)\n",
        "yTest_Fdataset = test_Fdataset['TenYearCHD']"
      ]
    },
    {
      "cell_type": "code",
      "execution_count": 221,
      "metadata": {
        "id": "0iGCzgYJhP_P"
      },
      "outputs": [],
      "source": [
        "# Undersampling and Oversampling\n",
        "xTrain_Fdataset, yTrain_Fdataset = underSampler.fit_resample(xTrain_Fdataset, yTrain_Fdataset)\n",
        "xTrain_Fdataset, yTrain_Fdataset = overSampler.fit_resample(xTrain_Fdataset, yTrain_Fdataset)"
      ]
    },
    {
      "cell_type": "markdown",
      "metadata": {
        "id": "kSbVeuf2k2b_"
      },
      "source": [
        "Decision Tree (DT) Model for Framingham Heart Disease Dataset\n",
        "\n",
        "---\n",
        "\n"
      ]
    },
    {
      "cell_type": "code",
      "execution_count": 222,
      "metadata": {
        "colab": {
          "base_uri": "https://localhost:8080/"
        },
        "id": "Aa3M2scufdfI",
        "outputId": "1d5aaa95-82b0-49ad-898c-925258801215"
      },
      "outputs": [
        {
          "output_type": "stream",
          "name": "stdout",
          "text": [
            "{'criterion': 'gini', 'max_depth': 1, 'max_leaf_nodes': 2, 'min_samples_leaf': 1, 'min_samples_split': 2}\n"
          ]
        }
      ],
      "source": [
        "# DT parameter tuning\n",
        "optimizedDT_Fdataset, optimizedDTparameters_Fdataset = tuneParameters(DTmodel, DTparameters, xTrain_Fdataset, yTrain_Fdataset)\n",
        "print(optimizedDTparameters_Fdataset)"
      ]
    },
    {
      "cell_type": "code",
      "execution_count": 223,
      "metadata": {
        "colab": {
          "base_uri": "https://localhost:8080/"
        },
        "id": "o37xupAAfh7X",
        "outputId": "f8d09e9c-75af-4e11-c434-671069891b9a"
      },
      "outputs": [
        {
          "output_type": "stream",
          "name": "stdout",
          "text": [
            "0.5176886792452831\n"
          ]
        }
      ],
      "source": [
        "# Get accuracy of optimized DT\n",
        "predDT_Fdataset = optimizedDT_Fdataset.predict(xTest_Fdataset)\n",
        "accDT_Fdataset = accuracy_score(np.ravel(yTest_Fdataset), np.ravel(predDT_Fdataset))\n",
        "print(accDT_Fdataset)"
      ]
    },
    {
      "cell_type": "code",
      "execution_count": 224,
      "metadata": {
        "colab": {
          "base_uri": "https://localhost:8080/"
        },
        "id": "FOyEtEYpfnZ7",
        "outputId": "f72cf390-32cd-4f09-ad5e-af350370fbbf"
      },
      "outputs": [
        {
          "output_type": "stream",
          "name": "stdout",
          "text": [
            "0.20464135021097046\n"
          ]
        }
      ],
      "source": [
        "# Get precision of optimized DT\n",
        "precDT_Fdataset = precision_score(np.ravel(yTest_Fdataset), np.ravel(predDT_Fdataset))\n",
        "print(precDT_Fdataset)"
      ]
    },
    {
      "cell_type": "code",
      "execution_count": 225,
      "metadata": {
        "colab": {
          "base_uri": "https://localhost:8080/"
        },
        "id": "h7ZsToWXfqv7",
        "outputId": "c79d61ff-97ef-4b5a-d605-ac27609b5c48"
      },
      "outputs": [
        {
          "output_type": "stream",
          "name": "stdout",
          "text": [
            "0.751937984496124\n"
          ]
        }
      ],
      "source": [
        "# Get recall of optimized DT\n",
        "recallDT_Fdataset = recall_score(np.ravel(yTest_Fdataset), np.ravel(predDT_Fdataset))\n",
        "print(recallDT_Fdataset)"
      ]
    },
    {
      "cell_type": "code",
      "execution_count": 226,
      "metadata": {
        "colab": {
          "base_uri": "https://localhost:8080/"
        },
        "id": "mdIvDUlWfto-",
        "outputId": "2370b8a0-cda7-4856-b853-b761378862e6"
      },
      "outputs": [
        {
          "output_type": "stream",
          "name": "stdout",
          "text": [
            "0.32172470978441126\n"
          ]
        }
      ],
      "source": [
        "# Get f1-score of optimized DT\n",
        "f1DT_Fdataset = f1_score(np.ravel(yTest_Fdataset), np.ravel(predDT_Fdataset))\n",
        "print(f1DT_Fdataset)"
      ]
    },
    {
      "cell_type": "markdown",
      "metadata": {
        "id": "EI53DJZak4EH"
      },
      "source": [
        "Random Forest (RF) Model for Framingham Heart Disease Dataset\n",
        "\n",
        "---\n",
        "\n"
      ]
    },
    {
      "cell_type": "code",
      "execution_count": 104,
      "metadata": {
        "colab": {
          "base_uri": "https://localhost:8080/"
        },
        "id": "7jkIPCxBfwZ0",
        "outputId": "60858bed-d4d5-450e-b642-e43c915f70bd"
      },
      "outputs": [
        {
          "output_type": "stream",
          "name": "stdout",
          "text": [
            "{'bootstrap': True, 'criterion': 'gini', 'max_depth': 4, 'min_samples_leaf': 1, 'min_samples_split': 5, 'n_estimators': 30}\n"
          ]
        }
      ],
      "source": [
        "# RF parameter tuning\n",
        "optimizedRF_Fdataset, optimizedRFparameters_Fdataset = tuneParameters(RFmodel, RFparameters, xTrain_Fdataset, yTrain_Fdataset)\n",
        "print(optimizedRFparameters_Fdataset)"
      ]
    },
    {
      "cell_type": "code",
      "execution_count": 105,
      "metadata": {
        "colab": {
          "base_uri": "https://localhost:8080/"
        },
        "id": "Akh_B-Whf0OT",
        "outputId": "24ca9811-0c98-4112-e490-e26ebdaa9606"
      },
      "outputs": [
        {
          "output_type": "stream",
          "name": "stdout",
          "text": [
            "0.6155660377358491\n"
          ]
        }
      ],
      "source": [
        "# Get accuracy of optimized RF\n",
        "predRF_Fdataset = optimizedRF_Fdataset.predict(xTest_Fdataset)\n",
        "accRF_Fdataset = accuracy_score(np.ravel(yTest_Fdataset), np.ravel(predRF_Fdataset))\n",
        "print(accRF_Fdataset)"
      ]
    },
    {
      "cell_type": "code",
      "execution_count": 106,
      "metadata": {
        "colab": {
          "base_uri": "https://localhost:8080/"
        },
        "id": "MP_m4bQGf4Ss",
        "outputId": "f2f95321-f4bc-4107-97a7-2e4cf15c4389"
      },
      "outputs": [
        {
          "output_type": "stream",
          "name": "stdout",
          "text": [
            "0.22562674094707522\n"
          ]
        }
      ],
      "source": [
        "# Get precision of optimized RF\n",
        "precRF_Fdataset = precision_score(np.ravel(yTest_Fdataset), np.ravel(predRF_Fdataset))\n",
        "print(precRF_Fdataset)"
      ]
    },
    {
      "cell_type": "code",
      "execution_count": 107,
      "metadata": {
        "colab": {
          "base_uri": "https://localhost:8080/"
        },
        "id": "FKQEjr7Mf7Ki",
        "outputId": "d2511cce-70ae-4111-f2b1-37cc0b2b9147"
      },
      "outputs": [
        {
          "output_type": "stream",
          "name": "stdout",
          "text": [
            "0.627906976744186\n"
          ]
        }
      ],
      "source": [
        "# Get recall of optimized RF\n",
        "recallRF_Fdataset = recall_score(np.ravel(yTest_Fdataset), np.ravel(predRF_Fdataset))\n",
        "print(recallRF_Fdataset)"
      ]
    },
    {
      "cell_type": "code",
      "execution_count": 108,
      "metadata": {
        "colab": {
          "base_uri": "https://localhost:8080/"
        },
        "id": "6PUY-Q4of_O7",
        "outputId": "44db8a7f-334b-41ad-b842-6db79c6414cb"
      },
      "outputs": [
        {
          "output_type": "stream",
          "name": "stdout",
          "text": [
            "0.33196721311475413\n"
          ]
        }
      ],
      "source": [
        "# Get f1-score of optimized RF\n",
        "f1RF_Fdataset = f1_score(np.ravel(yTest_Fdataset), np.ravel(predRF_Fdataset))\n",
        "print(f1RF_Fdataset)"
      ]
    },
    {
      "cell_type": "markdown",
      "metadata": {
        "id": "DkN0vYuLk81m"
      },
      "source": [
        "Support Vector Machine (SVM) Model for Framingham Heart Disease Dataset\n",
        "\n",
        "---\n",
        "\n",
        "\n"
      ]
    },
    {
      "cell_type": "code",
      "execution_count": 147,
      "metadata": {
        "colab": {
          "base_uri": "https://localhost:8080/"
        },
        "id": "-G1rHDMNgCof",
        "outputId": "9c580ed9-8e72-4f03-b24e-51d9e3cf0086"
      },
      "outputs": [
        {
          "output_type": "stream",
          "name": "stdout",
          "text": [
            "{'C': 1, 'gamma': 1}\n"
          ]
        }
      ],
      "source": [
        "# SVM parameter tuning\n",
        "optimizedSVM_Fdataset, optimizedSVMparameters_Fdataset = tuneParameters(SVMmodel, SVMparameters, xTrain_Fdataset, yTrain_Fdataset)\n",
        "print(optimizedSVMparameters_Fdataset)"
      ]
    },
    {
      "cell_type": "code",
      "execution_count": 148,
      "metadata": {
        "id": "16owimqDgGUC",
        "colab": {
          "base_uri": "https://localhost:8080/"
        },
        "outputId": "0f3405c9-29e2-4a22-8b7e-a17e9aefae0f"
      },
      "outputs": [
        {
          "output_type": "stream",
          "name": "stdout",
          "text": [
            "0.5495283018867925\n"
          ]
        }
      ],
      "source": [
        "# Get accuracy of optimized SVM\n",
        "predSVM_Fdataset = optimizedSVM_Fdataset.predict(xTest_Fdataset)\n",
        "accSVM_Fdataset = accuracy_score(np.ravel(yTest_Fdataset), np.ravel(predSVM_Fdataset))\n",
        "print(accSVM_Fdataset)"
      ]
    },
    {
      "cell_type": "code",
      "execution_count": 149,
      "metadata": {
        "id": "1K4DQqldgNMU",
        "colab": {
          "base_uri": "https://localhost:8080/"
        },
        "outputId": "c9d0d012-8153-4ccc-90ec-28299e576a4c"
      },
      "outputs": [
        {
          "output_type": "stream",
          "name": "stdout",
          "text": [
            "0.20919540229885059\n"
          ]
        }
      ],
      "source": [
        "# Get precision of optimized SVM\n",
        "precSVM_Fdataset = precision_score(np.ravel(yTest_Fdataset), np.ravel(predSVM_Fdataset))\n",
        "print(precSVM_Fdataset)"
      ]
    },
    {
      "cell_type": "code",
      "execution_count": 150,
      "metadata": {
        "id": "b1HkjqZHgRHp",
        "colab": {
          "base_uri": "https://localhost:8080/"
        },
        "outputId": "88840a4e-6b88-41e1-873a-c9c195146720"
      },
      "outputs": [
        {
          "output_type": "stream",
          "name": "stdout",
          "text": [
            "0.7054263565891473\n"
          ]
        }
      ],
      "source": [
        "# Get recall of optimized SVM\n",
        "recallSVM_Fdataset = recall_score(np.ravel(yTest_Fdataset), np.ravel(predSVM_Fdataset))\n",
        "print(recallSVM_Fdataset)"
      ]
    },
    {
      "cell_type": "code",
      "execution_count": 151,
      "metadata": {
        "id": "Sj5H_3nEgoX5",
        "colab": {
          "base_uri": "https://localhost:8080/"
        },
        "outputId": "0793a7fc-0938-428f-f066-5188085ae928"
      },
      "outputs": [
        {
          "output_type": "stream",
          "name": "stdout",
          "text": [
            "0.32269503546099293\n"
          ]
        }
      ],
      "source": [
        "# Get f1-score of optimized SVM\n",
        "f1SVM_Fdataset = f1_score(np.ravel(yTest_Fdataset), np.ravel(predSVM_Fdataset))\n",
        "print(f1SVM_Fdataset)"
      ]
    },
    {
      "cell_type": "markdown",
      "metadata": {
        "id": "WLZlTDbik9_H"
      },
      "source": [
        "K-Nearest Neighbor (KNN) Model for Framingham Heart Disease Dataset\n",
        "\n",
        "---\n",
        "\n",
        "\n"
      ]
    },
    {
      "cell_type": "code",
      "execution_count": 114,
      "metadata": {
        "colab": {
          "base_uri": "https://localhost:8080/"
        },
        "id": "qE6A85G-grHs",
        "outputId": "07f37938-9ec8-439f-db7c-47a2ffaed3fa"
      },
      "outputs": [
        {
          "output_type": "stream",
          "name": "stdout",
          "text": [
            "{'leaf_size': 10, 'n_neighbors': 6, 'weights': 'distance'}\n"
          ]
        }
      ],
      "source": [
        "# KNN hyperparameter tuning\n",
        "optimizedKNN_Fdataset, optimizedKNNparameters_Fdataset = tuneParameters(KNNmodel, KNNparameters, xTrain_Fdataset, yTrain_Fdataset)\n",
        "print(optimizedKNNparameters_Fdataset)"
      ]
    },
    {
      "cell_type": "code",
      "execution_count": 115,
      "metadata": {
        "id": "m_Cpiuj8gujE",
        "colab": {
          "base_uri": "https://localhost:8080/"
        },
        "outputId": "825b7f9c-4b15-4c93-d08e-ce971c2dc645"
      },
      "outputs": [
        {
          "output_type": "stream",
          "name": "stdout",
          "text": [
            "0.5955188679245284\n"
          ]
        }
      ],
      "source": [
        "# Get accuracy of optimized KNN\n",
        "predKNN_Fdataset = optimizedKNN_Fdataset.predict(xTest_Fdataset)\n",
        "accKNN_Fdataset = accuracy_score(np.ravel(yTest_Fdataset), np.ravel(predKNN_Fdataset))\n",
        "print(accKNN_Fdataset)"
      ]
    },
    {
      "cell_type": "code",
      "execution_count": 116,
      "metadata": {
        "colab": {
          "base_uri": "https://localhost:8080/"
        },
        "id": "fAJAxXIpgzg0",
        "outputId": "d254bdc1-d76d-4536-ff24-2a60d260a93f"
      },
      "outputs": [
        {
          "output_type": "stream",
          "name": "stdout",
          "text": [
            "0.21693121693121692\n"
          ]
        }
      ],
      "source": [
        "# Get precision of optimized KNN\n",
        "precKNN_Fdataset = precision_score(np.ravel(yTest_Fdataset), np.ravel(predKNN_Fdataset))\n",
        "print(precKNN_Fdataset)"
      ]
    },
    {
      "cell_type": "code",
      "execution_count": 117,
      "metadata": {
        "colab": {
          "base_uri": "https://localhost:8080/"
        },
        "id": "zm1JgDvag2hD",
        "outputId": "b5c45fbe-dde4-46c6-88f8-a5e599f1d269"
      },
      "outputs": [
        {
          "output_type": "stream",
          "name": "stdout",
          "text": [
            "0.6356589147286822\n"
          ]
        }
      ],
      "source": [
        "# Get recall of optimized KNN\n",
        "recallKNN_Fdataset = recall_score(np.ravel(yTest_Fdataset), np.ravel(predKNN_Fdataset))\n",
        "print(recallKNN_Fdataset)"
      ]
    },
    {
      "cell_type": "code",
      "execution_count": 118,
      "metadata": {
        "colab": {
          "base_uri": "https://localhost:8080/"
        },
        "id": "UShXg2U_g5G5",
        "outputId": "773a7de8-3c3e-4d53-ac63-fab8d7b8eb9d"
      },
      "outputs": [
        {
          "output_type": "stream",
          "name": "stdout",
          "text": [
            "0.3234714003944773\n"
          ]
        }
      ],
      "source": [
        "# Get f1-score of optimized KNN\n",
        "f1KNN_Fdataset = f1_score(np.ravel(yTest_Fdataset), np.ravel(predKNN_Fdataset))\n",
        "print(f1KNN_Fdataset)"
      ]
    },
    {
      "cell_type": "markdown",
      "metadata": {
        "id": "KWQ1ckcBlCth"
      },
      "source": [
        "Logistic Regression (LR) Model for Framingham Heart Disease Dataset\n",
        "\n",
        "---\n",
        "\n"
      ]
    },
    {
      "cell_type": "code",
      "execution_count": 119,
      "metadata": {
        "colab": {
          "base_uri": "https://localhost:8080/"
        },
        "id": "EB2jlWpAhDGF",
        "outputId": "65dd88cc-a132-4c85-b025-dea95eb3c65b"
      },
      "outputs": [
        {
          "output_type": "stream",
          "name": "stdout",
          "text": [
            "{'C': 1, 'solver': 'lbfgs'}\n"
          ]
        }
      ],
      "source": [
        "# LR parameter tuning\n",
        "optimizedLR_Fdataset, optimizedLRparameters_Fdataset = tuneParameters(LRmodel, LRparameters, xTrain_Fdataset, yTrain_Fdataset)\n",
        "print(optimizedLRparameters_Fdataset)"
      ]
    },
    {
      "cell_type": "code",
      "execution_count": 120,
      "metadata": {
        "colab": {
          "base_uri": "https://localhost:8080/"
        },
        "id": "Wu18QgF3hH7i",
        "outputId": "df11af6b-71c4-4254-ebc1-69b0a47bbc84"
      },
      "outputs": [
        {
          "output_type": "stream",
          "name": "stdout",
          "text": [
            "0.6344339622641509\n"
          ]
        }
      ],
      "source": [
        "# Get accuracy of optimized LR\n",
        "predLR_Fdataset = optimizedLR_Fdataset.predict(xTest_Fdataset)\n",
        "accLR_Fdataset = accuracy_score(np.ravel(yTest_Fdataset), np.ravel(predLR_Fdataset))\n",
        "print(accLR_Fdataset)"
      ]
    },
    {
      "cell_type": "code",
      "execution_count": 121,
      "metadata": {
        "id": "5ArrqZdqhxNu",
        "colab": {
          "base_uri": "https://localhost:8080/"
        },
        "outputId": "214a5ec7-393a-4662-f901-3ae12a709066"
      },
      "outputs": [
        {
          "output_type": "stream",
          "name": "stdout",
          "text": [
            "0.23919308357348704\n"
          ]
        }
      ],
      "source": [
        "# Get precision of optimized LR\n",
        "precLR_Fdataset = precision_score(np.ravel(yTest_Fdataset), np.ravel(predLR_Fdataset))\n",
        "print(precLR_Fdataset)"
      ]
    },
    {
      "cell_type": "code",
      "execution_count": 122,
      "metadata": {
        "id": "-RfG-9PEh0QZ",
        "colab": {
          "base_uri": "https://localhost:8080/"
        },
        "outputId": "31c99239-0202-45e0-b45d-c8aec866e864"
      },
      "outputs": [
        {
          "output_type": "stream",
          "name": "stdout",
          "text": [
            "0.6434108527131783\n"
          ]
        }
      ],
      "source": [
        "# Get recall of optimized LR\n",
        "recallLR_Fdataset = recall_score(np.ravel(yTest_Fdataset), np.ravel(predLR_Fdataset))\n",
        "print(recallLR_Fdataset)"
      ]
    },
    {
      "cell_type": "code",
      "execution_count": 123,
      "metadata": {
        "id": "iSxp0KzJh76F",
        "colab": {
          "base_uri": "https://localhost:8080/"
        },
        "outputId": "36893349-7abc-4325-cc53-4a0392b68300"
      },
      "outputs": [
        {
          "output_type": "stream",
          "name": "stdout",
          "text": [
            "0.34873949579831937\n"
          ]
        }
      ],
      "source": [
        "# Get f1-score of optimized LR\n",
        "f1LR_Fdataset = f1_score(np.ravel(yTest_Fdataset), np.ravel(predLR_Fdataset))\n",
        "print(f1LR_Fdataset)"
      ]
    },
    {
      "cell_type": "markdown",
      "source": [
        "Creating graphs for results\n",
        "\n",
        "---\n",
        "\n"
      ],
      "metadata": {
        "id": "fbPMYOlKHYMn"
      }
    },
    {
      "cell_type": "code",
      "source": [
        "legendColors = ['#ffa600', '#ef5675', '#7a5195', '#003f5c']\n",
        "models = ['Logistic Regression (LR)', 'K-Nearest Neighbor (KNN)', 'Support Vector Machine (SVM)', 'Random Forest (RF)', 'Decision Tree (DT)']"
      ],
      "metadata": {
        "id": "eh-F14JyRLRF"
      },
      "execution_count": 265,
      "outputs": []
    },
    {
      "cell_type": "markdown",
      "source": [
        "Creating graphs for Heart Disease dataset"
      ],
      "metadata": {
        "id": "u9v9yglSIa0m"
      }
    },
    {
      "cell_type": "code",
      "source": [
        "accuracy_Cdataset = [83.61, 83.61, 90.16, 86.89, 83.61]\n",
        "precision_Cdataset = [82.14, 78.13, 89.29, 88.46, 90.91]\n",
        "recall_Cdataset = [82.14, 89.29, 89.29, 82.14, 71.43]\n",
        "f1score_Cdataset = [82.14, 83.33, 89.29, 85.19, 80]\n",
        "legends_Cdataset = {\n",
        "    'F1-score' : f1score_Cdataset,\n",
        "    'Recall' : recall_Cdataset,\n",
        "    'Precision' : precision_Cdataset,\n",
        "    'Accuracy' : accuracy_Cdataset\n",
        "}\n",
        "\n",
        "graphdf_Cdataset = pd.DataFrame(legends_Cdataset, index=models)\n",
        "graph_Cdataset = graphdf_Cdataset.plot(kind='barh', color=legendColors)\n",
        "plt.legend(reverse=True, loc=(1.04, 0))\n",
        "plt.title('Heart Disease Dataset Metrics')\n",
        "plt.xlabel('Percentage (%)')\n",
        "\n",
        "plt.show()"
      ],
      "metadata": {
        "colab": {
          "base_uri": "https://localhost:8080/",
          "height": 472
        },
        "id": "2IE8zaiXHc0T",
        "outputId": "ac2395a7-f93d-4265-b35a-cf94b126b62f"
      },
      "execution_count": 310,
      "outputs": [
        {
          "output_type": "display_data",
          "data": {
            "text/plain": [
              "<Figure size 640x480 with 1 Axes>"
            ],
            "image/png": "[encoded data removed]"
          },
          "metadata": {}
        }
      ]
    },
    {
      "cell_type": "markdown",
      "source": [
        "Creating graph for Statlog Heart Disease dataset"
      ],
      "metadata": {
        "id": "cSqHoFaoVfRd"
      }
    },
    {
      "cell_type": "code",
      "source": [
        "accuracy_Sdataset = [79.63, 81.48, 79.63, 81.48, 68.52]\n",
        "precision_Sdataset = [80.65, 83.33, 80.65, 81.25, 69.70]\n",
        "recall_Sdataset = [83.33, 83.33, 83.33, 86.67, 76.67]\n",
        "f1score_Sdataset = [81.97, 83.33, 81.97, 83.87, 73.02]\n",
        "legends_Sdataset = {\n",
        "    'F1-score' : f1score_Sdataset,\n",
        "    'Recall' : recall_Sdataset,\n",
        "    'Precision' : precision_Sdataset,\n",
        "    'Accuracy' : accuracy_Sdataset\n",
        "}\n",
        "\n",
        "\n",
        "graphdf_Sdataset = pd.DataFrame(legends_Sdataset, index=models)\n",
        "graph_Sdataset = graphdf_Sdataset.plot(kind='barh', color=legendColors)\n",
        "plt.legend(reverse=True, loc=(1.04, 0))\n",
        "plt.title('Statlog Heart Disease Dataset Metrics')\n",
        "plt.xlabel('Percentage (%)')\n",
        "\n",
        "plt.show()"
      ],
      "metadata": {
        "colab": {
          "base_uri": "https://localhost:8080/",
          "height": 472
        },
        "id": "HnyQRJjeVd2-",
        "outputId": "cae38664-de7c-4fac-ae37-5a4d78116b9c"
      },
      "execution_count": 308,
      "outputs": [
        {
          "output_type": "display_data",
          "data": {
            "text/plain": [
              "<Figure size 640x480 with 1 Axes>"
            ],
            "image/png": "[encoded data removed]"
          },
          "metadata": {}
        }
      ]
    },
    {
      "cell_type": "markdown",
      "source": [
        "Creating graph for Framingham Heart Disease dataset"
      ],
      "metadata": {
        "id": "R_hepESYXsTP"
      }
    },
    {
      "cell_type": "code",
      "source": [
        "accuracy_Fdataset = [63.44, 59.55, 54.95, 61.56, 51.77]\n",
        "precision_Fdataset = [23.92, 21.69, 20.92, 22.56, 20.46]\n",
        "recall_Fdataset = [64.34, 63.57, 70.54, 62.79, 75.19]\n",
        "f1score_Fdataset = [34.87, 32.35, 32.27, 33.20, 32.17]\n",
        "legends_Fdataset = {\n",
        "    'F1-score' : f1score_Fdataset,\n",
        "    'Recall' : recall_Fdataset,\n",
        "    'Precision' : precision_Fdataset,\n",
        "    'Accuracy' : accuracy_Fdataset\n",
        "}\n",
        "\n",
        "\n",
        "graphdf_Fdataset = pd.DataFrame(legends_Fdataset, index=models)\n",
        "graph_Fdataset = graphdf_Fdataset.plot(kind='barh', color=legendColors)\n",
        "plt.legend(reverse=True, loc=(1.04, 0))\n",
        "plt.title('Framingham Heart Disease Dataset Metrics')\n",
        "plt.xlabel('Percentage (%)')\n",
        "\n",
        "plt.show()"
      ],
      "metadata": {
        "colab": {
          "base_uri": "https://localhost:8080/",
          "height": 472
        },
        "id": "BUtOnjLdXugL",
        "outputId": "5ec05a3f-32d4-4fae-e0f5-a2221b37367f"
      },
      "execution_count": 309,
      "outputs": [
        {
          "output_type": "display_data",
          "data": {
            "text/plain": [
              "<Figure size 640x480 with 1 Axes>"
            ],
            "image/png": "[encoded data removed]"
          },
          "metadata": {}
        }
      ]
    }
  ],
  "metadata": {
    "colab": {
      "provenance": [],
      "mount_file_id": "1e2bZdaMCC49ozGGNl6ufhus_QHc8YkwE",
      "authorship_tag": "ABX9TyNdmI5cA+z+wXLVRGPKKTJd",
      "include_colab_link": true
    },
    "kernelspec": {
      "display_name": "Python 3",
      "name": "python3"
    },
    "language_info": {
      "name": "python"
    }
  },
  "nbformat": 4,
  "nbformat_minor": 0
}